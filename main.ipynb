{
 "cells": [
  {
   "cell_type": "code",
   "execution_count": 51,
   "id": "20b0b6ca",
   "metadata": {},
   "outputs": [],
   "source": [
    "from sklearn.naive_bayes import MultinomialNB, ComplementNB\n",
    "from sklearn.linear_model import LogisticRegression, SGDClassifier, RidgeClassifier\n",
    "from sklearn.ensemble import RandomForestClassifier\n",
    "from sklearn.neighbors import KNeighborsClassifier\n",
    "from sklearn.calibration import CalibratedClassifierCV\n",
    "from sklearn.svm import LinearSVC\n",
    "\n",
    "from sklearn.preprocessing import LabelEncoder\n",
    "from sklearn.feature_extraction.text import TfidfVectorizer\n",
    "from sklearn.pipeline import Pipeline\n",
    "from sklearn.metrics import accuracy_score, classification_report, confusion_matrix\n",
    "from sklearn.model_selection import (\n",
    "    train_test_split, cross_val_score, StratifiedKFold\n",
    ")\n",
    "\n",
    "import opendatasets as od\n",
    "import numpy as np\n",
    "import pandas as pd\n",
    "np.random.seed(42)\n",
    "\n",
    "from yellowbrick.model_selection import LearningCurve\n",
    "import matplotlib.pyplot as plt\n",
    "import seaborn as sns\n",
    "\n",
    "from tqdm import tqdm\n",
    "import string\n",
    "import time\n",
    "import re\n",
    "\n",
    "import nltk\n",
    "from nltk.corpus import stopwords\n",
    "import plotly.express as px\n",
    "\n",
    "from natasha import (\n",
    "    Segmenter, MorphVocab, NewsEmbedding, NewsMorphTagger,\n",
    "    NewsSyntaxParser, NewsNERTagger, Doc,\n",
    ")"
   ]
  },
  {
   "cell_type": "code",
   "execution_count": 52,
   "id": "008e01c9",
   "metadata": {},
   "outputs": [],
   "source": [
    "import ssl\n",
    "ssl._create_default_https_context = ssl._create_unverified_context"
   ]
  },
  {
   "cell_type": "markdown",
   "id": "291282d5",
   "metadata": {},
   "source": [
    "# <hr><p align='center' style='color: #6c89c6;'>Работу выполнил: Таратин Артём ПМ22-1<br> Датасет: [Russian Social Media Text Classification](https://www.kaggle.com/datasets/mikhailma/russian-social-media-text-classification)</p>"
   ]
  },
  {
   "cell_type": "markdown",
   "id": "6ce4ceb5",
   "metadata": {},
   "source": [
    "## <hr>**Глава 1. Основа**"
   ]
  },
  {
   "cell_type": "markdown",
   "id": "9b3cb941",
   "metadata": {},
   "source": [
    "### 1.1 Введение в NLP и классификацию текстов"
   ]
  },
  {
   "cell_type": "code",
   "execution_count": null,
   "id": "7060d417",
   "metadata": {},
   "outputs": [],
   "source": []
  },
  {
   "cell_type": "markdown",
   "id": "6a1f9e7c",
   "metadata": {},
   "source": [
    "### 1.2 Методы векторизации текста"
   ]
  },
  {
   "cell_type": "code",
   "execution_count": null,
   "id": "9b683576",
   "metadata": {},
   "outputs": [],
   "source": []
  },
  {
   "cell_type": "markdown",
   "id": "53be2284",
   "metadata": {},
   "source": [
    "### 1.3 Описание используемых библиотек"
   ]
  },
  {
   "cell_type": "code",
   "execution_count": null,
   "id": "7b8385dd",
   "metadata": {},
   "outputs": [],
   "source": []
  },
  {
   "cell_type": "markdown",
   "id": "e12e0300",
   "metadata": {},
   "source": [
    "## <hr>**Глава 2. Работа с датасетом**"
   ]
  },
  {
   "cell_type": "markdown",
   "id": "e0d5f7e4",
   "metadata": {},
   "source": [
    "### 2.1 Описание Датасета"
   ]
  },
  {
   "cell_type": "markdown",
   "id": "2bc401ad",
   "metadata": {},
   "source": [
    "##### Оригинал:\n",
    "VKontakte communities can belong to one of several predefined categories. But even among the sports communities there is a fairly strong division by subject! The same authors can write about only one sport or at once about a large number. Based on a given set of posts, determine the topic – what kind of sport is being discussed in the selected community?\n",
    "\n",
    "##### Перевод:\n",
    "Сообщества ВКонтакте могут относиться к одной из нескольких предопределенных категорий. Но даже среди спортивных сообществ существует довольно строгое разделение по тематике! Одни и те же авторы могут писать только об одном виде спорта или сразу о большом количестве. Основываясь на заданном наборе постов, определите тему – какой вид спорта обсуждается в выбранном сообществе?\n",
    "\n",
    "##### Список доступных категорий (13):\n",
    "* athletics – легкая атлетика,\n",
    "* autosport – автоспорт,\n",
    "* basketball – баскетбол,\n",
    "* boardgames – настольные игры,\n",
    "* esport – киберспорт,\n",
    "* extreme – экстрим,\n",
    "* football – футбол,\n",
    "* hockey – хоккей,\n",
    "* martial_arts – боевые искусства,\n",
    "* motosport – автоспорт,\n",
    "* tennis – теннис,\n",
    "* volleyball – волейбол,\n",
    "* winter_sport – зимний спорт\n",
    "\n",
    "##### Функция потерь выглядит так:\n",
    "```python\n",
    "def score(true, pred, n_samples):\n",
    "    counter = 0\n",
    "    if true == pred:\n",
    "        counter += 1\n",
    "    else:\n",
    "        counter -= 1\n",
    "    return counter / n_samples\n",
    "```"
   ]
  },
  {
   "cell_type": "markdown",
   "id": "f0520c1e",
   "metadata": {},
   "source": [
    "### 2.2 Анализ, Предобработка данных и вывод основных характеристик"
   ]
  },
  {
   "cell_type": "markdown",
   "id": "ba2666c2",
   "metadata": {},
   "source": [
    "Загружаем датасет с kaggle.com"
   ]
  },
  {
   "cell_type": "code",
   "execution_count": 3,
   "id": "248a2baa",
   "metadata": {},
   "outputs": [
    {
     "name": "stdout",
     "output_type": "stream",
     "text": [
      "Skipping, found downloaded files in \"./russian-social-media-text-classification\" (use force=True to force download)\n"
     ]
    }
   ],
   "source": [
    "od.download('https://www.kaggle.com/datasets/mikhailma/russian-social-media-text-classification')"
   ]
  },
  {
   "cell_type": "markdown",
   "id": "4fef0c79",
   "metadata": {},
   "source": [
    "Считываем данные и выводим первые 5 строк"
   ]
  },
  {
   "cell_type": "code",
   "execution_count": 4,
   "id": "d2067bf0",
   "metadata": {
    "_cell_guid": "b1076dfc-b9ad-4769-8c92-a6c4dae69d19",
    "_uuid": "8f2839f25d086af736a60e9eeb907d3b93b6e0e5",
    "execution": {
     "iopub.execute_input": "2024-01-08T14:53:19.680273Z",
     "iopub.status.busy": "2024-01-08T14:53:19.679494Z",
     "iopub.status.idle": "2024-01-08T14:53:28.308846Z",
     "shell.execute_reply": "2024-01-08T14:53:28.307902Z"
    },
    "papermill": {
     "duration": 8.638962,
     "end_time": "2024-01-08T14:53:28.311364",
     "exception": false,
     "start_time": "2024-01-08T14:53:19.672402",
     "status": "completed"
    },
    "tags": []
   },
   "outputs": [
    {
     "data": {
      "text/html": [
       "<div>\n",
       "<style scoped>\n",
       "    .dataframe tbody tr th:only-of-type {\n",
       "        vertical-align: middle;\n",
       "    }\n",
       "\n",
       "    .dataframe tbody tr th {\n",
       "        vertical-align: top;\n",
       "    }\n",
       "\n",
       "    .dataframe thead th {\n",
       "        text-align: right;\n",
       "    }\n",
       "</style>\n",
       "<table border=\"1\" class=\"dataframe\">\n",
       "  <thead>\n",
       "    <tr style=\"text-align: right;\">\n",
       "      <th></th>\n",
       "      <th>oid</th>\n",
       "      <th>category</th>\n",
       "      <th>text</th>\n",
       "    </tr>\n",
       "  </thead>\n",
       "  <tbody>\n",
       "    <tr>\n",
       "      <th>0</th>\n",
       "      <td>365271984</td>\n",
       "      <td>winter_sport</td>\n",
       "      <td>Волшебные фото Виктория Поплавская ЕвгенияМедв...</td>\n",
       "    </tr>\n",
       "    <tr>\n",
       "      <th>1</th>\n",
       "      <td>503385563</td>\n",
       "      <td>extreme</td>\n",
       "      <td>Возвращение в подземелье Треша 33 Эйфория тупо...</td>\n",
       "    </tr>\n",
       "    <tr>\n",
       "      <th>2</th>\n",
       "      <td>146016084</td>\n",
       "      <td>football</td>\n",
       "      <td>Лучшие чешские вратари – Доминик Доминатор Гаш...</td>\n",
       "    </tr>\n",
       "    <tr>\n",
       "      <th>3</th>\n",
       "      <td>933865449</td>\n",
       "      <td>boardgames</td>\n",
       "      <td>Rtokenoid Warhammer40k валрак решил нас подкор...</td>\n",
       "    </tr>\n",
       "    <tr>\n",
       "      <th>4</th>\n",
       "      <td>713550145</td>\n",
       "      <td>hockey</td>\n",
       "      <td>Шестеркин затаскивает Рейнджерс в финал Восточ...</td>\n",
       "    </tr>\n",
       "  </tbody>\n",
       "</table>\n",
       "</div>"
      ],
      "text/plain": [
       "         oid      category                                               text\n",
       "0  365271984  winter_sport  Волшебные фото Виктория Поплавская ЕвгенияМедв...\n",
       "1  503385563       extreme  Возвращение в подземелье Треша 33 Эйфория тупо...\n",
       "2  146016084      football  Лучшие чешские вратари – Доминик Доминатор Гаш...\n",
       "3  933865449    boardgames  Rtokenoid Warhammer40k валрак решил нас подкор...\n",
       "4  713550145        hockey  Шестеркин затаскивает Рейнджерс в финал Восточ..."
      ]
     },
     "execution_count": 4,
     "metadata": {},
     "output_type": "execute_result"
    }
   ],
   "source": [
    "train_data = pd.read_csv('./russian-social-media-text-classification/train.csv')\n",
    "test_data = pd.read_csv('./russian-social-media-text-classification/test.csv')\n",
    "train_data.head()"
   ]
  },
  {
   "cell_type": "code",
   "execution_count": 5,
   "id": "5e794243",
   "metadata": {},
   "outputs": [
    {
     "data": {
      "text/plain": [
       "((38740, 3), 13)"
      ]
     },
     "execution_count": 5,
     "metadata": {},
     "output_type": "execute_result"
    }
   ],
   "source": [
    "train_data.shape, train_data.category.unique().size"
   ]
  },
  {
   "cell_type": "code",
   "execution_count": 6,
   "id": "3286134e",
   "metadata": {},
   "outputs": [
    {
     "data": {
      "text/plain": [
       "array(['winter_sport', 'extreme', 'football', 'boardgames', 'hockey',\n",
       "       'esport', 'athletics', 'motosport', 'basketball', 'tennis',\n",
       "       'autosport', 'martial_arts', 'volleyball'], dtype=object)"
      ]
     },
     "execution_count": 6,
     "metadata": {},
     "output_type": "execute_result"
    }
   ],
   "source": [
    "train_data.category.unique()"
   ]
  },
  {
   "cell_type": "code",
   "execution_count": 7,
   "id": "fd2b1eba",
   "metadata": {},
   "outputs": [
    {
     "data": {
      "text/plain": [
       "oid          int64\n",
       "category    object\n",
       "text        object\n",
       "dtype: object"
      ]
     },
     "execution_count": 7,
     "metadata": {},
     "output_type": "execute_result"
    }
   ],
   "source": [
    "train_data.dtypes"
   ]
  },
  {
   "cell_type": "code",
   "execution_count": 8,
   "id": "de88fccc",
   "metadata": {},
   "outputs": [
    {
     "data": {
      "text/plain": [
       "oid         0\n",
       "category    0\n",
       "text        0\n",
       "dtype: int64"
      ]
     },
     "execution_count": 8,
     "metadata": {},
     "output_type": "execute_result"
    }
   ],
   "source": [
    "train_data.isna().sum()"
   ]
  },
  {
   "cell_type": "markdown",
   "id": "45c94045",
   "metadata": {},
   "source": [
    "Лишних столбцов нету, также как и выбросов"
   ]
  },
  {
   "cell_type": "code",
   "execution_count": 9,
   "id": "7a31be23",
   "metadata": {},
   "outputs": [
    {
     "data": {
      "text/plain": [
       "2966"
      ]
     },
     "execution_count": 9,
     "metadata": {},
     "output_type": "execute_result"
    }
   ],
   "source": [
    "train_data.duplicated('text').sum()"
   ]
  },
  {
   "cell_type": "markdown",
   "id": "ff5ba11c",
   "metadata": {},
   "source": [
    "Но в то же время присутствуют дубликаты, которые лучше убрать, либо оставить первый"
   ]
  },
  {
   "cell_type": "code",
   "execution_count": 10,
   "id": "d3e050ee",
   "metadata": {},
   "outputs": [
    {
     "data": {
      "text/plain": [
       "0"
      ]
     },
     "execution_count": 10,
     "metadata": {},
     "output_type": "execute_result"
    }
   ],
   "source": [
    "train_data.drop_duplicates('text', inplace=True, keep='first')\n",
    "train_data.duplicated('text').sum()"
   ]
  },
  {
   "cell_type": "markdown",
   "id": "14d8350f",
   "metadata": {},
   "source": [
    "Используем `LabelEncoder()` для предобразования целевого столбца"
   ]
  },
  {
   "cell_type": "code",
   "execution_count": 11,
   "id": "b531ae8c",
   "metadata": {},
   "outputs": [
    {
     "data": {
      "text/html": [
       "<div>\n",
       "<style scoped>\n",
       "    .dataframe tbody tr th:only-of-type {\n",
       "        vertical-align: middle;\n",
       "    }\n",
       "\n",
       "    .dataframe tbody tr th {\n",
       "        vertical-align: top;\n",
       "    }\n",
       "\n",
       "    .dataframe thead th {\n",
       "        text-align: right;\n",
       "    }\n",
       "</style>\n",
       "<table border=\"1\" class=\"dataframe\">\n",
       "  <thead>\n",
       "    <tr style=\"text-align: right;\">\n",
       "      <th></th>\n",
       "      <th>oid</th>\n",
       "      <th>category</th>\n",
       "      <th>text</th>\n",
       "      <th>category_le</th>\n",
       "    </tr>\n",
       "  </thead>\n",
       "  <tbody>\n",
       "    <tr>\n",
       "      <th>0</th>\n",
       "      <td>365271984</td>\n",
       "      <td>winter_sport</td>\n",
       "      <td>Волшебные фото Виктория Поплавская ЕвгенияМедв...</td>\n",
       "      <td>12</td>\n",
       "    </tr>\n",
       "    <tr>\n",
       "      <th>1</th>\n",
       "      <td>503385563</td>\n",
       "      <td>extreme</td>\n",
       "      <td>Возвращение в подземелье Треша 33 Эйфория тупо...</td>\n",
       "      <td>5</td>\n",
       "    </tr>\n",
       "    <tr>\n",
       "      <th>2</th>\n",
       "      <td>146016084</td>\n",
       "      <td>football</td>\n",
       "      <td>Лучшие чешские вратари – Доминик Доминатор Гаш...</td>\n",
       "      <td>6</td>\n",
       "    </tr>\n",
       "    <tr>\n",
       "      <th>3</th>\n",
       "      <td>933865449</td>\n",
       "      <td>boardgames</td>\n",
       "      <td>Rtokenoid Warhammer40k валрак решил нас подкор...</td>\n",
       "      <td>3</td>\n",
       "    </tr>\n",
       "    <tr>\n",
       "      <th>4</th>\n",
       "      <td>713550145</td>\n",
       "      <td>hockey</td>\n",
       "      <td>Шестеркин затаскивает Рейнджерс в финал Восточ...</td>\n",
       "      <td>7</td>\n",
       "    </tr>\n",
       "  </tbody>\n",
       "</table>\n",
       "</div>"
      ],
      "text/plain": [
       "         oid      category                                               text  \\\n",
       "0  365271984  winter_sport  Волшебные фото Виктория Поплавская ЕвгенияМедв...   \n",
       "1  503385563       extreme  Возвращение в подземелье Треша 33 Эйфория тупо...   \n",
       "2  146016084      football  Лучшие чешские вратари – Доминик Доминатор Гаш...   \n",
       "3  933865449    boardgames  Rtokenoid Warhammer40k валрак решил нас подкор...   \n",
       "4  713550145        hockey  Шестеркин затаскивает Рейнджерс в финал Восточ...   \n",
       "\n",
       "   category_le  \n",
       "0           12  \n",
       "1            5  \n",
       "2            6  \n",
       "3            3  \n",
       "4            7  "
      ]
     },
     "execution_count": 11,
     "metadata": {},
     "output_type": "execute_result"
    }
   ],
   "source": [
    "le = LabelEncoder()\n",
    "train_data['category_le'] = le.fit_transform(train_data.category)\n",
    "train_data.head()"
   ]
  },
  {
   "cell_type": "markdown",
   "id": "3b8e7406",
   "metadata": {},
   "source": [
    "Теперь выведем распределение классов и укажем количество их использований"
   ]
  },
  {
   "cell_type": "code",
   "execution_count": 12,
   "id": "27d54c08",
   "metadata": {},
   "outputs": [
    {
     "data": {
      "image/png": "[encoded data removed]",
      "text/plain": [
       "<Figure size 1200x600 with 1 Axes>"
      ]
     },
     "metadata": {},
     "output_type": "display_data"
    }
   ],
   "source": [
    "plt.figure(figsize=(12, 6))\n",
    "\n",
    "sr = train_data.category.value_counts()\n",
    "xp, yp = np.array(sr), np.array(sr.index)\n",
    "\n",
    "ax = sns.barplot(x=xp, y=yp, hue=yp, orient='h', color='#b3d4ff', palette='dark:#b3d4ff')\n",
    "for i, (value, category) in enumerate(zip(xp, yp)):\n",
    "    ax.text(value+5, i, f'{value}', va='center')  \n",
    "\n",
    "ax.set_xlabel('Количество', fontsize=14)\n",
    "ax.set_ylabel('Категория', fontsize=14)\n",
    "ax.set_title('Количество Текстов по Категориям', fontsize=14)\n",
    "ax.set_xticks(np.arange(0, 3001, 250))\n",
    "\n",
    "plt.show()"
   ]
  },
  {
   "cell_type": "markdown",
   "id": "78997b1e",
   "metadata": {},
   "source": [
    "Построим гистограмму распределения количества символов в предложениях"
   ]
  },
  {
   "cell_type": "code",
   "execution_count": 13,
   "id": "afd58224",
   "metadata": {},
   "outputs": [
    {
     "data": {
      "text/html": [
       "<div>\n",
       "<style scoped>\n",
       "    .dataframe tbody tr th:only-of-type {\n",
       "        vertical-align: middle;\n",
       "    }\n",
       "\n",
       "    .dataframe tbody tr th {\n",
       "        vertical-align: top;\n",
       "    }\n",
       "\n",
       "    .dataframe thead th {\n",
       "        text-align: right;\n",
       "    }\n",
       "</style>\n",
       "<table border=\"1\" class=\"dataframe\">\n",
       "  <thead>\n",
       "    <tr style=\"text-align: right;\">\n",
       "      <th></th>\n",
       "      <th>oid</th>\n",
       "      <th>category</th>\n",
       "      <th>text</th>\n",
       "      <th>category_le</th>\n",
       "      <th>length</th>\n",
       "    </tr>\n",
       "  </thead>\n",
       "  <tbody>\n",
       "    <tr>\n",
       "      <th>0</th>\n",
       "      <td>365271984</td>\n",
       "      <td>winter_sport</td>\n",
       "      <td>Волшебные фото Виктория Поплавская ЕвгенияМедв...</td>\n",
       "      <td>12</td>\n",
       "      <td>65</td>\n",
       "    </tr>\n",
       "    <tr>\n",
       "      <th>1</th>\n",
       "      <td>503385563</td>\n",
       "      <td>extreme</td>\n",
       "      <td>Возвращение в подземелье Треша 33 Эйфория тупо...</td>\n",
       "      <td>5</td>\n",
       "      <td>246</td>\n",
       "    </tr>\n",
       "    <tr>\n",
       "      <th>2</th>\n",
       "      <td>146016084</td>\n",
       "      <td>football</td>\n",
       "      <td>Лучшие чешские вратари – Доминик Доминатор Гаш...</td>\n",
       "      <td>6</td>\n",
       "      <td>704</td>\n",
       "    </tr>\n",
       "  </tbody>\n",
       "</table>\n",
       "</div>"
      ],
      "text/plain": [
       "         oid      category                                               text  \\\n",
       "0  365271984  winter_sport  Волшебные фото Виктория Поплавская ЕвгенияМедв...   \n",
       "1  503385563       extreme  Возвращение в подземелье Треша 33 Эйфория тупо...   \n",
       "2  146016084      football  Лучшие чешские вратари – Доминик Доминатор Гаш...   \n",
       "\n",
       "   category_le  length  \n",
       "0           12      65  \n",
       "1            5     246  \n",
       "2            6     704  "
      ]
     },
     "execution_count": 13,
     "metadata": {},
     "output_type": "execute_result"
    }
   ],
   "source": [
    "train_data['length'] = train_data['text'].str.len()\n",
    "train_data.head(3)"
   ]
  },
  {
   "cell_type": "code",
   "execution_count": 14,
   "id": "009ec26e",
   "metadata": {},
   "outputs": [
    {
     "data": {
      "image/png": "[encoded data removed]",
      "text/plain": [
       "<Figure size 800x550 with 1 Axes>"
      ]
     },
     "metadata": {},
     "output_type": "display_data"
    }
   ],
   "source": [
    "sns.histplot(data=train_data, x='length', bins=32, color='#b3d4ff')\n",
    "plt.grid(True)\n",
    "plt.title('Распределение Количества Символов', fontsize=14)\n",
    "plt.xlabel('Количество Символов', fontsize=14)\n",
    "plt.ylabel('Количество Предложений', fontsize=14)\n",
    "plt.show()"
   ]
  },
  {
   "cell_type": "markdown",
   "id": "fc72eba2",
   "metadata": {},
   "source": [
    "Как мы видим, распределение категорий довольно близко к равномерному. В таком случае можно использовать метрику `accuracy_score()` т.к. даже при выборе самого популярного класса точность будет достаточно низкой. Также не стоит забывать про метрику `score()`, предложенную создателями датасета. В любом случае, по своему механизму работы она похожа на `accuracy_score()`, так что мы ничего не теряем. Теперь посмотрим на самые популярные и менее популярные слова в текстах."
   ]
  },
  {
   "cell_type": "code",
   "execution_count": 15,
   "id": "9f90f9d5",
   "metadata": {},
   "outputs": [
    {
     "data": {
      "text/html": [
       "<div>\n",
       "<style scoped>\n",
       "    .dataframe tbody tr th:only-of-type {\n",
       "        vertical-align: middle;\n",
       "    }\n",
       "\n",
       "    .dataframe tbody tr th {\n",
       "        vertical-align: top;\n",
       "    }\n",
       "\n",
       "    .dataframe thead th {\n",
       "        text-align: right;\n",
       "    }\n",
       "</style>\n",
       "<table border=\"1\" class=\"dataframe\">\n",
       "  <thead>\n",
       "    <tr style=\"text-align: right;\">\n",
       "      <th></th>\n",
       "      <th>word</th>\n",
       "      <th>count</th>\n",
       "      <th>word</th>\n",
       "      <th>count</th>\n",
       "    </tr>\n",
       "  </thead>\n",
       "  <tbody>\n",
       "    <tr>\n",
       "      <th>0</th>\n",
       "      <td>на</td>\n",
       "      <td>39638</td>\n",
       "      <td>манипулировал</td>\n",
       "      <td>1</td>\n",
       "    </tr>\n",
       "    <tr>\n",
       "      <th>1</th>\n",
       "      <td>не</td>\n",
       "      <td>23635</td>\n",
       "      <td>мансабын</td>\n",
       "      <td>1</td>\n",
       "    </tr>\n",
       "    <tr>\n",
       "      <th>2</th>\n",
       "      <td>что</td>\n",
       "      <td>19917</td>\n",
       "      <td>мансап</td>\n",
       "      <td>1</td>\n",
       "    </tr>\n",
       "    <tr>\n",
       "      <th>3</th>\n",
       "      <td>33</td>\n",
       "      <td>19756</td>\n",
       "      <td>манфорд</td>\n",
       "      <td>1</td>\n",
       "    </tr>\n",
       "    <tr>\n",
       "      <th>4</th>\n",
       "      <td>по</td>\n",
       "      <td>14054</td>\n",
       "      <td>манси</td>\n",
       "      <td>1</td>\n",
       "    </tr>\n",
       "    <tr>\n",
       "      <th>5</th>\n",
       "      <td>за</td>\n",
       "      <td>11337</td>\n",
       "      <td>мануэля</td>\n",
       "      <td>1</td>\n",
       "    </tr>\n",
       "    <tr>\n",
       "      <th>6</th>\n",
       "      <td>это</td>\n",
       "      <td>10827</td>\n",
       "      <td>мануэлю</td>\n",
       "      <td>1</td>\n",
       "    </tr>\n",
       "    <tr>\n",
       "      <th>7</th>\n",
       "      <td>для</td>\n",
       "      <td>9919</td>\n",
       "      <td>мануэла</td>\n",
       "      <td>1</td>\n",
       "    </tr>\n",
       "    <tr>\n",
       "      <th>8</th>\n",
       "      <td>из</td>\n",
       "      <td>9508</td>\n",
       "      <td>мануальный</td>\n",
       "      <td>1</td>\n",
       "    </tr>\n",
       "    <tr>\n",
       "      <th>9</th>\n",
       "      <td>но</td>\n",
       "      <td>9212</td>\n",
       "      <td>мануалы</td>\n",
       "      <td>1</td>\n",
       "    </tr>\n",
       "    <tr>\n",
       "      <th>10</th>\n",
       "      <td>как</td>\n",
       "      <td>8540</td>\n",
       "      <td>мануала</td>\n",
       "      <td>1</td>\n",
       "    </tr>\n",
       "    <tr>\n",
       "      <th>11</th>\n",
       "      <td>мы</td>\n",
       "      <td>7755</td>\n",
       "      <td>мантуана</td>\n",
       "      <td>1</td>\n",
       "    </tr>\n",
       "    <tr>\n",
       "      <th>12</th>\n",
       "      <td>все</td>\n",
       "      <td>7677</td>\n",
       "      <td>мантуан</td>\n",
       "      <td>1</td>\n",
       "    </tr>\n",
       "    <tr>\n",
       "      <th>13</th>\n",
       "      <td>он</td>\n",
       "      <td>7371</td>\n",
       "      <td>мантикору</td>\n",
       "      <td>1</td>\n",
       "    </tr>\n",
       "    <tr>\n",
       "      <th>14</th>\n",
       "      <td>от</td>\n",
       "      <td>6381</td>\n",
       "      <td>мантикора</td>\n",
       "      <td>1</td>\n",
       "    </tr>\n",
       "    <tr>\n",
       "      <th>15</th>\n",
       "      <td>то</td>\n",
       "      <td>6172</td>\n",
       "      <td>мантика</td>\n",
       "      <td>1</td>\n",
       "    </tr>\n",
       "    <tr>\n",
       "      <th>16</th>\n",
       "      <td>до</td>\n",
       "      <td>5168</td>\n",
       "      <td>мансуровичем</td>\n",
       "      <td>1</td>\n",
       "    </tr>\n",
       "    <tr>\n",
       "      <th>17</th>\n",
       "      <td>будет</td>\n",
       "      <td>4750</td>\n",
       "      <td>мансурович</td>\n",
       "      <td>1</td>\n",
       "    </tr>\n",
       "    <tr>\n",
       "      <th>18</th>\n",
       "      <td>его</td>\n",
       "      <td>4666</td>\n",
       "      <td>мансуров</td>\n",
       "      <td>1</td>\n",
       "    </tr>\n",
       "    <tr>\n",
       "      <th>19</th>\n",
       "      <td>так</td>\n",
       "      <td>4493</td>\n",
       "      <td>мансури</td>\n",
       "      <td>1</td>\n",
       "    </tr>\n",
       "    <tr>\n",
       "      <th>20</th>\n",
       "      <td>после</td>\n",
       "      <td>4167</td>\n",
       "      <td>мансур</td>\n",
       "      <td>1</td>\n",
       "    </tr>\n",
       "    <tr>\n",
       "      <th>21</th>\n",
       "      <td>вы</td>\n",
       "      <td>4156</td>\n",
       "      <td>мансолдо</td>\n",
       "      <td>1</td>\n",
       "    </tr>\n",
       "    <tr>\n",
       "      <th>22</th>\n",
       "      <td>2022</td>\n",
       "      <td>4150</td>\n",
       "      <td>мансийским</td>\n",
       "      <td>1</td>\n",
       "    </tr>\n",
       "    <tr>\n",
       "      <th>23</th>\n",
       "      <td>tokentokenoid</td>\n",
       "      <td>4144</td>\n",
       "      <td>мансийский</td>\n",
       "      <td>1</td>\n",
       "    </tr>\n",
       "    <tr>\n",
       "      <th>24</th>\n",
       "      <td>если</td>\n",
       "      <td>4101</td>\n",
       "      <td>龍王</td>\n",
       "      <td>1</td>\n",
       "    </tr>\n",
       "  </tbody>\n",
       "</table>\n",
       "</div>"
      ],
      "text/plain": [
       "             word  count           word  count\n",
       "0              на  39638  манипулировал      1\n",
       "1              не  23635       мансабын      1\n",
       "2             что  19917         мансап      1\n",
       "3              33  19756        манфорд      1\n",
       "4              по  14054          манси      1\n",
       "5              за  11337        мануэля      1\n",
       "6             это  10827        мануэлю      1\n",
       "7             для   9919        мануэла      1\n",
       "8              из   9508     мануальный      1\n",
       "9              но   9212        мануалы      1\n",
       "10            как   8540        мануала      1\n",
       "11             мы   7755       мантуана      1\n",
       "12            все   7677        мантуан      1\n",
       "13             он   7371      мантикору      1\n",
       "14             от   6381      мантикора      1\n",
       "15             то   6172        мантика      1\n",
       "16             до   5168   мансуровичем      1\n",
       "17          будет   4750     мансурович      1\n",
       "18            его   4666       мансуров      1\n",
       "19            так   4493        мансури      1\n",
       "20          после   4167         мансур      1\n",
       "21             вы   4156       мансолдо      1\n",
       "22           2022   4150     мансийским      1\n",
       "23  tokentokenoid   4144     мансийский      1\n",
       "24           если   4101             龍王      1"
      ]
     },
     "execution_count": 15,
     "metadata": {},
     "output_type": "execute_result"
    }
   ],
   "source": [
    "word_list = re.findall(r'\\b\\w{2,}\\b', ' '.join(train_data.text.to_numpy()).lower())\n",
    "df_words = pd.DataFrame(word_list, columns=['word']).groupby('word').size()\n",
    "df_words = df_words.reset_index(name='count').sort_values('count', ascending=False)\n",
    "pd.concat([df_words.head(25).reset_index(drop=True), df_words.tail(25).reset_index(drop=True)], axis=1)"
   ]
  },
  {
   "cell_type": "markdown",
   "id": "6b06e78e",
   "metadata": {},
   "source": [
    "В дополнение ко всему, нужно исключить слова, которые не неут никакой смысловой нагрузки. Для этого используем библиотеку `nltk` и `nltk.corpus.stopwords`."
   ]
  },
  {
   "cell_type": "code",
   "execution_count": 16,
   "id": "b0bb1b85",
   "metadata": {},
   "outputs": [
    {
     "name": "stderr",
     "output_type": "stream",
     "text": [
      "[nltk_data] Downloading package stopwords to /Users/admin/nltk_data...\n",
      "[nltk_data]   Package stopwords is already up-to-date!\n"
     ]
    },
    {
     "data": {
      "text/plain": [
       "(['и', 'в', 'во', 'не', 'что', 'он', 'на', 'я', 'с', 'со'], 257)"
      ]
     },
     "execution_count": 16,
     "metadata": {},
     "output_type": "execute_result"
    }
   ],
   "source": [
    "nltk.download('stopwords')\n",
    "russian_stopwords = stopwords.words('russian')\n",
    "russian_stopwords.extend(np.arange(0, 100).astype(str))  # исключим числа\n",
    "russian_stopwords.extend(['это', 'tokentokenoid', 'rtokenoid', 'tokenoid', 'tokenoidtokenoid', 'votokenoid'])\n",
    "russian_stopwords[:10], len(russian_stopwords)"
   ]
  },
  {
   "cell_type": "code",
   "execution_count": 17,
   "id": "4ac08f1e",
   "metadata": {},
   "outputs": [
    {
     "data": {
      "application/vnd.plotly.v1+json": {
       "config": {
        "plotlyServerURL": "https://plot.ly"
       },
       "data": [
        {
         "branchvalues": "total",
         "domain": {
          "x": [
           0,
           1
          ],
          "y": [
           0,
           1
          ]
         },
         "hovertemplate": "labels=%{label}<br>count=%{value}<br>parent=%{parent}<br>id=%{id}<extra></extra>",
         "ids": [
          "00",
          "000",
          "100",
          "2021",
          "2022",
          "2023",
          "atokenoid",
          "btokenoid",
          "dtokenoid",
          "ftokenoid",
          "hotokenoid",
          "motoektokenoid",
          "motogp",
          "mtokenoid",
          "open",
          "ratokenoid",
          "speetokenoid",
          "stokenoid",
          "tetokenoid",
          "ufc",
          "августа",
          "александр",
          "бег",
          "бой",
          "большой",
          "будем",
          "буду",
          "будут",
          "видео",
          "вместе",
          "возможно",
          "возможность",
          "волейбол",
          "вообще",
          "вопрос",
          "воскресенье",
          "впервые",
          "времени",
          "время",
          "всем",
          "второй",
          "выиграл",
          "главный",
          "го",
          "год",
          "года",
          "году",
          "гонка",
          "гонке",
          "гонки",
          "готов",
          "гран",
          "группы",
          "даниил",
          "две",
          "двух",
          "делать",
          "день",
          "динамо",
          "дистанции",
          "дней",
          "днем",
          "дня",
          "должен",
          "должны",
          "дорогие",
          "другие",
          "других",
          "друзья",
          "думаю",
          "ждем",
          "жизни",
          "забег",
          "завтра",
          "затем",
          "заявил",
          "знаю",
          "зож",
          "игр",
          "игра",
          "играть",
          "игре",
          "игрок",
          "игрока",
          "игроков",
          "игру",
          "игры",
          "именно",
          "интервью",
          "истории",
          "июля",
          "июня",
          "каждый",
          "какие",
          "карьеру",
          "клуб",
          "клуба",
          "км",
          "кого",
          "количество",
          "команд",
          "команда",
          "команде",
          "команду",
          "команды",
          "комментариях",
          "контракт",
          "конца",
          "которая",
          "которого",
          "которой",
          "которые",
          "который",
          "которых",
          "кроме",
          "круг",
          "кубка",
          "кубок",
          "лет",
          "летний",
          "либо",
          "лиги",
          "лишь",
          "лучший",
          "лучших",
          "людей",
          "люди",
          "марта",
          "матч",
          "матча",
          "матче",
          "матчей",
          "медведев",
          "места",
          "место",
          "минут",
          "мира",
          "мог",
          "могу",
          "могут",
          "можете",
          "момент",
          "мск",
          "назад",
          "нам",
          "начало",
          "наш",
          "нашей",
          "наши",
          "наших",
          "нба",
          "немного",
          "несколько",
          "новые",
          "новый",
          "новых",
          "нужно",
          "нхл",
          "однако",
          "одной",
          "октября",
          "онлайн",
          "офф",
          "очень",
          "очков",
          "первого",
          "первой",
          "первом",
          "первый",
          "плей",
          "победу",
          "победы",
          "поздравляем",
          "пока",
          "получил",
          "получить",
          "последний",
          "почему",
          "поэтому",
          "привет",
          "провел",
          "пройдет",
          "просто",
          "против",
          "работать",
          "работы",
          "ранее",
          "рассказал",
          "результат",
          "результаты",
          "решение",
          "рождения",
          "россии",
          "россия",
          "руб",
          "рублей",
          "сайт",
          "сайте",
          "самое",
          "самый",
          "самых",
          "сборной",
          "свое",
          "своего",
          "своей",
          "свои",
          "своим",
          "своих",
          "свой",
          "сделать",
          "сегодня",
          "сезон",
          "сезона",
          "сезоне",
          "сентября",
          "сергей",
          "серии",
          "сказал",
          "сказать",
          "слова",
          "случае",
          "снова",
          "соревнований",
          "состав",
          "составе",
          "состоится",
          "спасибо",
          "спорт",
          "спорта",
          "спортсменов",
          "сразу",
          "среди",
          "ссылке",
          "стал",
          "станет",
          "старт",
          "стать",
          "стоит",
          "счет",
          "счетом",
          "сша",
          "также",
          "такие",
          "тебе",
          "тех",
          "титул",
          "топ",
          "трансляции",
          "трансляция",
          "тренер",
          "тренировки",
          "турнир",
          "турнира",
          "турнире",
          "участие",
          "участников",
          "февраля",
          "финал",
          "финала",
          "фото",
          "хотя",
          "хочет",
          "хочу",
          "цена",
          "часть",
          "человек",
          "чемпион",
          "чемпионат",
          "чемпионата",
          "чемпионате",
          "этап",
          "этапа",
          "этим",
          "этому",
          "является"
         ],
         "labels": [
          "00",
          "000",
          "100",
          "2021",
          "2022",
          "2023",
          "atokenoid",
          "btokenoid",
          "dtokenoid",
          "ftokenoid",
          "hotokenoid",
          "motoektokenoid",
          "motogp",
          "mtokenoid",
          "open",
          "ratokenoid",
          "speetokenoid",
          "stokenoid",
          "tetokenoid",
          "ufc",
          "августа",
          "александр",
          "бег",
          "бой",
          "большой",
          "будем",
          "буду",
          "будут",
          "видео",
          "вместе",
          "возможно",
          "возможность",
          "волейбол",
          "вообще",
          "вопрос",
          "воскресенье",
          "впервые",
          "времени",
          "время",
          "всем",
          "второй",
          "выиграл",
          "главный",
          "го",
          "год",
          "года",
          "году",
          "гонка",
          "гонке",
          "гонки",
          "готов",
          "гран",
          "группы",
          "даниил",
          "две",
          "двух",
          "делать",
          "день",
          "динамо",
          "дистанции",
          "дней",
          "днем",
          "дня",
          "должен",
          "должны",
          "дорогие",
          "другие",
          "других",
          "друзья",
          "думаю",
          "ждем",
          "жизни",
          "забег",
          "завтра",
          "затем",
          "заявил",
          "знаю",
          "зож",
          "игр",
          "игра",
          "играть",
          "игре",
          "игрок",
          "игрока",
          "игроков",
          "игру",
          "игры",
          "именно",
          "интервью",
          "истории",
          "июля",
          "июня",
          "каждый",
          "какие",
          "карьеру",
          "клуб",
          "клуба",
          "км",
          "кого",
          "количество",
          "команд",
          "команда",
          "команде",
          "команду",
          "команды",
          "комментариях",
          "контракт",
          "конца",
          "которая",
          "которого",
          "которой",
          "которые",
          "который",
          "которых",
          "кроме",
          "круг",
          "кубка",
          "кубок",
          "лет",
          "летний",
          "либо",
          "лиги",
          "лишь",
          "лучший",
          "лучших",
          "людей",
          "люди",
          "марта",
          "матч",
          "матча",
          "матче",
          "матчей",
          "медведев",
          "места",
          "место",
          "минут",
          "мира",
          "мог",
          "могу",
          "могут",
          "можете",
          "момент",
          "мск",
          "назад",
          "нам",
          "начало",
          "наш",
          "нашей",
          "наши",
          "наших",
          "нба",
          "немного",
          "несколько",
          "новые",
          "новый",
          "новых",
          "нужно",
          "нхл",
          "однако",
          "одной",
          "октября",
          "онлайн",
          "офф",
          "очень",
          "очков",
          "первого",
          "первой",
          "первом",
          "первый",
          "плей",
          "победу",
          "победы",
          "поздравляем",
          "пока",
          "получил",
          "получить",
          "последний",
          "почему",
          "поэтому",
          "привет",
          "провел",
          "пройдет",
          "просто",
          "против",
          "работать",
          "работы",
          "ранее",
          "рассказал",
          "результат",
          "результаты",
          "решение",
          "рождения",
          "россии",
          "россия",
          "руб",
          "рублей",
          "сайт",
          "сайте",
          "самое",
          "самый",
          "самых",
          "сборной",
          "свое",
          "своего",
          "своей",
          "свои",
          "своим",
          "своих",
          "свой",
          "сделать",
          "сегодня",
          "сезон",
          "сезона",
          "сезоне",
          "сентября",
          "сергей",
          "серии",
          "сказал",
          "сказать",
          "слова",
          "случае",
          "снова",
          "соревнований",
          "состав",
          "составе",
          "состоится",
          "спасибо",
          "спорт",
          "спорта",
          "спортсменов",
          "сразу",
          "среди",
          "ссылке",
          "стал",
          "станет",
          "старт",
          "стать",
          "стоит",
          "счет",
          "счетом",
          "сша",
          "также",
          "такие",
          "тебе",
          "тех",
          "титул",
          "топ",
          "трансляции",
          "трансляция",
          "тренер",
          "тренировки",
          "турнир",
          "турнира",
          "турнире",
          "участие",
          "участников",
          "февраля",
          "финал",
          "финала",
          "фото",
          "хотя",
          "хочет",
          "хочу",
          "цена",
          "часть",
          "человек",
          "чемпион",
          "чемпионат",
          "чемпионата",
          "чемпионате",
          "этап",
          "этапа",
          "этим",
          "этому",
          "является"
         ],
         "name": "",
         "parents": [
          "",
          "",
          "",
          "",
          "",
          "",
          "",
          "",
          "",
          "",
          "",
          "",
          "",
          "",
          "",
          "",
          "",
          "",
          "",
          "",
          "",
          "",
          "",
          "",
          "",
          "",
          "",
          "",
          "",
          "",
          "",
          "",
          "",
          "",
          "",
          "",
          "",
          "",
          "",
          "",
          "",
          "",
          "",
          "",
          "",
          "",
          "",
          "",
          "",
          "",
          "",
          "",
          "",
          "",
          "",
          "",
          "",
          "",
          "",
          "",
          "",
          "",
          "",
          "",
          "",
          "",
          "",
          "",
          "",
          "",
          "",
          "",
          "",
          "",
          "",
          "",
          "",
          "",
          "",
          "",
          "",
          "",
          "",
          "",
          "",
          "",
          "",
          "",
          "",
          "",
          "",
          "",
          "",
          "",
          "",
          "",
          "",
          "",
          "",
          "",
          "",
          "",
          "",
          "",
          "",
          "",
          "",
          "",
          "",
          "",
          "",
          "",
          "",
          "",
          "",
          "",
          "",
          "",
          "",
          "",
          "",
          "",
          "",
          "",
          "",
          "",
          "",
          "",
          "",
          "",
          "",
          "",
          "",
          "",
          "",
          "",
          "",
          "",
          "",
          "",
          "",
          "",
          "",
          "",
          "",
          "",
          "",
          "",
          "",
          "",
          "",
          "",
          "",
          "",
          "",
          "",
          "",
          "",
          "",
          "",
          "",
          "",
          "",
          "",
          "",
          "",
          "",
          "",
          "",
          "",
          "",
          "",
          "",
          "",
          "",
          "",
          "",
          "",
          "",
          "",
          "",
          "",
          "",
          "",
          "",
          "",
          "",
          "",
          "",
          "",
          "",
          "",
          "",
          "",
          "",
          "",
          "",
          "",
          "",
          "",
          "",
          "",
          "",
          "",
          "",
          "",
          "",
          "",
          "",
          "",
          "",
          "",
          "",
          "",
          "",
          "",
          "",
          "",
          "",
          "",
          "",
          "",
          "",
          "",
          "",
          "",
          "",
          "",
          "",
          "",
          "",
          "",
          "",
          "",
          "",
          "",
          "",
          "",
          "",
          "",
          "",
          "",
          "",
          "",
          "",
          "",
          "",
          "",
          "",
          "",
          "",
          "",
          "",
          "",
          "",
          "",
          "",
          "",
          "",
          "",
          "",
          "",
          "",
          "",
          "",
          "",
          "",
          "",
          "",
          "",
          "",
          "",
          "",
          "",
          ""
         ],
         "type": "treemap",
         "values": [
          3691,
          673,
          780,
          882,
          4150,
          577,
          1121,
          841,
          715,
          867,
          898,
          555,
          1519,
          594,
          592,
          929,
          520,
          1121,
          988,
          743,
          544,
          1058,
          1713,
          911,
          572,
          656,
          611,
          1478,
          1402,
          878,
          565,
          644,
          542,
          583,
          693,
          500,
          521,
          980,
          3279,
          2049,
          1162,
          543,
          575,
          709,
          1107,
          3373,
          2071,
          651,
          639,
          1128,
          507,
          1534,
          744,
          592,
          596,
          783,
          681,
          2233,
          1107,
          501,
          562,
          515,
          1047,
          758,
          676,
          567,
          534,
          582,
          1339,
          946,
          506,
          750,
          891,
          647,
          516,
          573,
          644,
          672,
          874,
          1108,
          874,
          786,
          754,
          541,
          943,
          973,
          1962,
          887,
          607,
          776,
          571,
          534,
          968,
          645,
          506,
          677,
          642,
          923,
          610,
          568,
          771,
          1561,
          890,
          776,
          2522,
          535,
          806,
          516,
          858,
          521,
          640,
          2117,
          2361,
          697,
          548,
          529,
          1006,
          529,
          2020,
          565,
          588,
          863,
          594,
          626,
          513,
          520,
          550,
          552,
          2012,
          1347,
          1242,
          878,
          534,
          528,
          2265,
          706,
          2914,
          499,
          587,
          724,
          552,
          950,
          974,
          594,
          1431,
          787,
          955,
          899,
          816,
          743,
          511,
          684,
          1062,
          621,
          1044,
          520,
          1768,
          506,
          664,
          538,
          535,
          517,
          700,
          3569,
          1166,
          602,
          708,
          609,
          1268,
          731,
          996,
          685,
          801,
          1248,
          529,
          575,
          505,
          851,
          1376,
          589,
          650,
          685,
          2081,
          1622,
          541,
          586,
          617,
          678,
          618,
          802,
          619,
          747,
          3021,
          620,
          515,
          811,
          673,
          583,
          534,
          565,
          537,
          985,
          588,
          629,
          1029,
          958,
          672,
          716,
          1394,
          978,
          2918,
          1289,
          1694,
          1502,
          572,
          680,
          1000,
          1302,
          531,
          559,
          514,
          652,
          712,
          553,
          576,
          550,
          1015,
          1513,
          897,
          580,
          698,
          905,
          663,
          1438,
          673,
          687,
          625,
          549,
          682,
          548,
          695,
          2438,
          503,
          564,
          580,
          689,
          744,
          632,
          566,
          963,
          649,
          791,
          1457,
          746,
          1003,
          604,
          556,
          948,
          571,
          1342,
          638,
          537,
          782,
          736,
          544,
          715,
          1113,
          958,
          1519,
          713,
          753,
          512,
          690,
          611,
          688
         ]
        }
       ],
       "layout": {
        "legend": {
         "tracegroupgap": 0
        },
        "margin": {
         "t": 60
        },
        "template": {
         "data": {
          "bar": [
           {
            "error_x": {
             "color": "#2a3f5f"
            },
            "error_y": {
             "color": "#2a3f5f"
            },
            "marker": {
             "line": {
              "color": "#E5ECF6",
              "width": 0.5
             },
             "pattern": {
              "fillmode": "overlay",
              "size": 10,
              "solidity": 0.2
             }
            },
            "type": "bar"
           }
          ],
          "barpolar": [
           {
            "marker": {
             "line": {
              "color": "#E5ECF6",
              "width": 0.5
             },
             "pattern": {
              "fillmode": "overlay",
              "size": 10,
              "solidity": 0.2
             }
            },
            "type": "barpolar"
           }
          ],
          "carpet": [
           {
            "aaxis": {
             "endlinecolor": "#2a3f5f",
             "gridcolor": "white",
             "linecolor": "white",
             "minorgridcolor": "white",
             "startlinecolor": "#2a3f5f"
            },
            "baxis": {
             "endlinecolor": "#2a3f5f",
             "gridcolor": "white",
             "linecolor": "white",
             "minorgridcolor": "white",
             "startlinecolor": "#2a3f5f"
            },
            "type": "carpet"
           }
          ],
          "choropleth": [
           {
            "colorbar": {
             "outlinewidth": 0,
             "ticks": ""
            },
            "type": "choropleth"
           }
          ],
          "contour": [
           {
            "colorbar": {
             "outlinewidth": 0,
             "ticks": ""
            },
            "colorscale": [
             [
              0,
              "#0d0887"
             ],
             [
              0.1111111111111111,
              "#46039f"
             ],
             [
              0.2222222222222222,
              "#7201a8"
             ],
             [
              0.3333333333333333,
              "#9c179e"
             ],
             [
              0.4444444444444444,
              "#bd3786"
             ],
             [
              0.5555555555555556,
              "#d8576b"
             ],
             [
              0.6666666666666666,
              "#ed7953"
             ],
             [
              0.7777777777777778,
              "#fb9f3a"
             ],
             [
              0.8888888888888888,
              "#fdca26"
             ],
             [
              1,
              "#f0f921"
             ]
            ],
            "type": "contour"
           }
          ],
          "contourcarpet": [
           {
            "colorbar": {
             "outlinewidth": 0,
             "ticks": ""
            },
            "type": "contourcarpet"
           }
          ],
          "heatmap": [
           {
            "colorbar": {
             "outlinewidth": 0,
             "ticks": ""
            },
            "colorscale": [
             [
              0,
              "#0d0887"
             ],
             [
              0.1111111111111111,
              "#46039f"
             ],
             [
              0.2222222222222222,
              "#7201a8"
             ],
             [
              0.3333333333333333,
              "#9c179e"
             ],
             [
              0.4444444444444444,
              "#bd3786"
             ],
             [
              0.5555555555555556,
              "#d8576b"
             ],
             [
              0.6666666666666666,
              "#ed7953"
             ],
             [
              0.7777777777777778,
              "#fb9f3a"
             ],
             [
              0.8888888888888888,
              "#fdca26"
             ],
             [
              1,
              "#f0f921"
             ]
            ],
            "type": "heatmap"
           }
          ],
          "heatmapgl": [
           {
            "colorbar": {
             "outlinewidth": 0,
             "ticks": ""
            },
            "colorscale": [
             [
              0,
              "#0d0887"
             ],
             [
              0.1111111111111111,
              "#46039f"
             ],
             [
              0.2222222222222222,
              "#7201a8"
             ],
             [
              0.3333333333333333,
              "#9c179e"
             ],
             [
              0.4444444444444444,
              "#bd3786"
             ],
             [
              0.5555555555555556,
              "#d8576b"
             ],
             [
              0.6666666666666666,
              "#ed7953"
             ],
             [
              0.7777777777777778,
              "#fb9f3a"
             ],
             [
              0.8888888888888888,
              "#fdca26"
             ],
             [
              1,
              "#f0f921"
             ]
            ],
            "type": "heatmapgl"
           }
          ],
          "histogram": [
           {
            "marker": {
             "pattern": {
              "fillmode": "overlay",
              "size": 10,
              "solidity": 0.2
             }
            },
            "type": "histogram"
           }
          ],
          "histogram2d": [
           {
            "colorbar": {
             "outlinewidth": 0,
             "ticks": ""
            },
            "colorscale": [
             [
              0,
              "#0d0887"
             ],
             [
              0.1111111111111111,
              "#46039f"
             ],
             [
              0.2222222222222222,
              "#7201a8"
             ],
             [
              0.3333333333333333,
              "#9c179e"
             ],
             [
              0.4444444444444444,
              "#bd3786"
             ],
             [
              0.5555555555555556,
              "#d8576b"
             ],
             [
              0.6666666666666666,
              "#ed7953"
             ],
             [
              0.7777777777777778,
              "#fb9f3a"
             ],
             [
              0.8888888888888888,
              "#fdca26"
             ],
             [
              1,
              "#f0f921"
             ]
            ],
            "type": "histogram2d"
           }
          ],
          "histogram2dcontour": [
           {
            "colorbar": {
             "outlinewidth": 0,
             "ticks": ""
            },
            "colorscale": [
             [
              0,
              "#0d0887"
             ],
             [
              0.1111111111111111,
              "#46039f"
             ],
             [
              0.2222222222222222,
              "#7201a8"
             ],
             [
              0.3333333333333333,
              "#9c179e"
             ],
             [
              0.4444444444444444,
              "#bd3786"
             ],
             [
              0.5555555555555556,
              "#d8576b"
             ],
             [
              0.6666666666666666,
              "#ed7953"
             ],
             [
              0.7777777777777778,
              "#fb9f3a"
             ],
             [
              0.8888888888888888,
              "#fdca26"
             ],
             [
              1,
              "#f0f921"
             ]
            ],
            "type": "histogram2dcontour"
           }
          ],
          "mesh3d": [
           {
            "colorbar": {
             "outlinewidth": 0,
             "ticks": ""
            },
            "type": "mesh3d"
           }
          ],
          "parcoords": [
           {
            "line": {
             "colorbar": {
              "outlinewidth": 0,
              "ticks": ""
             }
            },
            "type": "parcoords"
           }
          ],
          "pie": [
           {
            "automargin": true,
            "type": "pie"
           }
          ],
          "scatter": [
           {
            "fillpattern": {
             "fillmode": "overlay",
             "size": 10,
             "solidity": 0.2
            },
            "type": "scatter"
           }
          ],
          "scatter3d": [
           {
            "line": {
             "colorbar": {
              "outlinewidth": 0,
              "ticks": ""
             }
            },
            "marker": {
             "colorbar": {
              "outlinewidth": 0,
              "ticks": ""
             }
            },
            "type": "scatter3d"
           }
          ],
          "scattercarpet": [
           {
            "marker": {
             "colorbar": {
              "outlinewidth": 0,
              "ticks": ""
             }
            },
            "type": "scattercarpet"
           }
          ],
          "scattergeo": [
           {
            "marker": {
             "colorbar": {
              "outlinewidth": 0,
              "ticks": ""
             }
            },
            "type": "scattergeo"
           }
          ],
          "scattergl": [
           {
            "marker": {
             "colorbar": {
              "outlinewidth": 0,
              "ticks": ""
             }
            },
            "type": "scattergl"
           }
          ],
          "scattermapbox": [
           {
            "marker": {
             "colorbar": {
              "outlinewidth": 0,
              "ticks": ""
             }
            },
            "type": "scattermapbox"
           }
          ],
          "scatterpolar": [
           {
            "marker": {
             "colorbar": {
              "outlinewidth": 0,
              "ticks": ""
             }
            },
            "type": "scatterpolar"
           }
          ],
          "scatterpolargl": [
           {
            "marker": {
             "colorbar": {
              "outlinewidth": 0,
              "ticks": ""
             }
            },
            "type": "scatterpolargl"
           }
          ],
          "scatterternary": [
           {
            "marker": {
             "colorbar": {
              "outlinewidth": 0,
              "ticks": ""
             }
            },
            "type": "scatterternary"
           }
          ],
          "surface": [
           {
            "colorbar": {
             "outlinewidth": 0,
             "ticks": ""
            },
            "colorscale": [
             [
              0,
              "#0d0887"
             ],
             [
              0.1111111111111111,
              "#46039f"
             ],
             [
              0.2222222222222222,
              "#7201a8"
             ],
             [
              0.3333333333333333,
              "#9c179e"
             ],
             [
              0.4444444444444444,
              "#bd3786"
             ],
             [
              0.5555555555555556,
              "#d8576b"
             ],
             [
              0.6666666666666666,
              "#ed7953"
             ],
             [
              0.7777777777777778,
              "#fb9f3a"
             ],
             [
              0.8888888888888888,
              "#fdca26"
             ],
             [
              1,
              "#f0f921"
             ]
            ],
            "type": "surface"
           }
          ],
          "table": [
           {
            "cells": {
             "fill": {
              "color": "#EBF0F8"
             },
             "line": {
              "color": "white"
             }
            },
            "header": {
             "fill": {
              "color": "#C8D4E3"
             },
             "line": {
              "color": "white"
             }
            },
            "type": "table"
           }
          ]
         },
         "layout": {
          "annotationdefaults": {
           "arrowcolor": "#2a3f5f",
           "arrowhead": 0,
           "arrowwidth": 1
          },
          "autotypenumbers": "strict",
          "coloraxis": {
           "colorbar": {
            "outlinewidth": 0,
            "ticks": ""
           }
          },
          "colorscale": {
           "diverging": [
            [
             0,
             "#8e0152"
            ],
            [
             0.1,
             "#c51b7d"
            ],
            [
             0.2,
             "#de77ae"
            ],
            [
             0.3,
             "#f1b6da"
            ],
            [
             0.4,
             "#fde0ef"
            ],
            [
             0.5,
             "#f7f7f7"
            ],
            [
             0.6,
             "#e6f5d0"
            ],
            [
             0.7,
             "#b8e186"
            ],
            [
             0.8,
             "#7fbc41"
            ],
            [
             0.9,
             "#4d9221"
            ],
            [
             1,
             "#276419"
            ]
           ],
           "sequential": [
            [
             0,
             "#0d0887"
            ],
            [
             0.1111111111111111,
             "#46039f"
            ],
            [
             0.2222222222222222,
             "#7201a8"
            ],
            [
             0.3333333333333333,
             "#9c179e"
            ],
            [
             0.4444444444444444,
             "#bd3786"
            ],
            [
             0.5555555555555556,
             "#d8576b"
            ],
            [
             0.6666666666666666,
             "#ed7953"
            ],
            [
             0.7777777777777778,
             "#fb9f3a"
            ],
            [
             0.8888888888888888,
             "#fdca26"
            ],
            [
             1,
             "#f0f921"
            ]
           ],
           "sequentialminus": [
            [
             0,
             "#0d0887"
            ],
            [
             0.1111111111111111,
             "#46039f"
            ],
            [
             0.2222222222222222,
             "#7201a8"
            ],
            [
             0.3333333333333333,
             "#9c179e"
            ],
            [
             0.4444444444444444,
             "#bd3786"
            ],
            [
             0.5555555555555556,
             "#d8576b"
            ],
            [
             0.6666666666666666,
             "#ed7953"
            ],
            [
             0.7777777777777778,
             "#fb9f3a"
            ],
            [
             0.8888888888888888,
             "#fdca26"
            ],
            [
             1,
             "#f0f921"
            ]
           ]
          },
          "colorway": [
           "#636efa",
           "#EF553B",
           "#00cc96",
           "#ab63fa",
           "#FFA15A",
           "#19d3f3",
           "#FF6692",
           "#B6E880",
           "#FF97FF",
           "#FECB52"
          ],
          "font": {
           "color": "#2a3f5f"
          },
          "geo": {
           "bgcolor": "white",
           "lakecolor": "white",
           "landcolor": "#E5ECF6",
           "showlakes": true,
           "showland": true,
           "subunitcolor": "white"
          },
          "hoverlabel": {
           "align": "left"
          },
          "hovermode": "closest",
          "mapbox": {
           "style": "light"
          },
          "paper_bgcolor": "white",
          "plot_bgcolor": "#E5ECF6",
          "polar": {
           "angularaxis": {
            "gridcolor": "white",
            "linecolor": "white",
            "ticks": ""
           },
           "bgcolor": "#E5ECF6",
           "radialaxis": {
            "gridcolor": "white",
            "linecolor": "white",
            "ticks": ""
           }
          },
          "scene": {
           "xaxis": {
            "backgroundcolor": "#E5ECF6",
            "gridcolor": "white",
            "gridwidth": 2,
            "linecolor": "white",
            "showbackground": true,
            "ticks": "",
            "zerolinecolor": "white"
           },
           "yaxis": {
            "backgroundcolor": "#E5ECF6",
            "gridcolor": "white",
            "gridwidth": 2,
            "linecolor": "white",
            "showbackground": true,
            "ticks": "",
            "zerolinecolor": "white"
           },
           "zaxis": {
            "backgroundcolor": "#E5ECF6",
            "gridcolor": "white",
            "gridwidth": 2,
            "linecolor": "white",
            "showbackground": true,
            "ticks": "",
            "zerolinecolor": "white"
           }
          },
          "shapedefaults": {
           "line": {
            "color": "#2a3f5f"
           }
          },
          "ternary": {
           "aaxis": {
            "gridcolor": "white",
            "linecolor": "white",
            "ticks": ""
           },
           "baxis": {
            "gridcolor": "white",
            "linecolor": "white",
            "ticks": ""
           },
           "bgcolor": "#E5ECF6",
           "caxis": {
            "gridcolor": "white",
            "linecolor": "white",
            "ticks": ""
           }
          },
          "title": {
           "x": 0.05
          },
          "xaxis": {
           "automargin": true,
           "gridcolor": "white",
           "linecolor": "white",
           "ticks": "",
           "title": {
            "standoff": 15
           },
           "zerolinecolor": "white",
           "zerolinewidth": 2
          },
          "yaxis": {
           "automargin": true,
           "gridcolor": "white",
           "linecolor": "white",
           "ticks": "",
           "title": {
            "standoff": 15
           },
           "zerolinecolor": "white",
           "zerolinewidth": 2
          }
         }
        }
       }
      }
     },
     "metadata": {},
     "output_type": "display_data"
    }
   ],
   "source": [
    "fig = px.treemap(df_words[~df_words.word.isin(russian_stopwords)].head(275), path=['word'], values='count')\n",
    "fig.show()"
   ]
  },
  {
   "cell_type": "markdown",
   "id": "8df66381",
   "metadata": {},
   "source": [
    "Одними из самых популярных слов оказались предлоги, они не влияют на качество классификации, так как присутствуют в большинстве классов. Они являются шумом, и их можно удалить."
   ]
  },
  {
   "cell_type": "code",
   "execution_count": 18,
   "id": "ba514498",
   "metadata": {},
   "outputs": [
    {
     "data": {
      "image/png": "[encoded data removed]",
      "text/plain": [
       "<Figure size 800x550 with 1 Axes>"
      ]
     },
     "metadata": {},
     "output_type": "display_data"
    }
   ],
   "source": [
    "sns.histplot(x=np.log2(df_words['count']), bins=24, color='#b3d4ff')\n",
    "plt.xticks(np.arange(0, 16, 1))\n",
    "\n",
    "plt.title('Распределение Слов по Частоте Употребления', fontsize=14)\n",
    "plt.xlabel('Логарифм количества употреблений слов (X)', fontsize=14)\n",
    "plt.ylabel('Количество слов употреблёных 2^X раз', fontsize=14)\n",
    "plt.grid(True, which='minor')\n",
    "\n",
    "plt.show()"
   ]
  },
  {
   "cell_type": "markdown",
   "id": "2723b8ed",
   "metadata": {},
   "source": [
    "Большинство слов используются всего 1-4 раз."
   ]
  },
  {
   "cell_type": "markdown",
   "id": "3f22d270",
   "metadata": {},
   "source": [
    "Теперь посмотрим на распределение количества символов для каждого класса"
   ]
  },
  {
   "cell_type": "code",
   "execution_count": 19,
   "id": "f2e54f75",
   "metadata": {},
   "outputs": [
    {
     "data": {
      "image/png": "[encoded data removed]",
      "text/plain": [
       "<Figure size 1200x600 with 1 Axes>"
      ]
     },
     "metadata": {},
     "output_type": "display_data"
    }
   ],
   "source": [
    "plt.figure(figsize=(12, 6))\n",
    "sns.boxplot(data=train_data, x='category', y='length', hue='category', color='#b3d4ff', palette='dark:#b3d4ff')\n",
    "\n",
    "plt.title('Количество Символов в Предложених', fontsize=14)\n",
    "plt.xlabel('Класс', fontsize=14)\n",
    "plt.ylabel('Количество Символов', fontsize=14)\n",
    "plt.xticks(rotation=45)\n",
    "\n",
    "plt.show()"
   ]
  },
  {
   "cell_type": "markdown",
   "id": "e0078361",
   "metadata": {},
   "source": [
    "### 2.3 Финальная Подготовка Датасета"
   ]
  },
  {
   "cell_type": "markdown",
   "id": "ba295dfc",
   "metadata": {},
   "source": [
    "Ещё раз инициализируем стоп слова"
   ]
  },
  {
   "cell_type": "code",
   "execution_count": 20,
   "id": "83c007d8",
   "metadata": {},
   "outputs": [
    {
     "data": {
      "text/plain": [
       "(['и', 'в', 'во', 'не', 'что', 'он', 'на', 'я', 'с', 'со'], 158)"
      ]
     },
     "execution_count": 20,
     "metadata": {},
     "output_type": "execute_result"
    }
   ],
   "source": [
    "russian_stopwords = stopwords.words('russian')\n",
    "russian_stopwords.extend(['tokentokenoid', 'rtokenoid', 'tokenoid', 'tokenoidtokenoid', 'votokenoid', 'evgentokenoid', '–'])\n",
    "russian_stopwords[:10], len(russian_stopwords)"
   ]
  },
  {
   "cell_type": "code",
   "execution_count": 21,
   "id": "658064a2",
   "metadata": {},
   "outputs": [
    {
     "data": {
      "text/plain": [
       "(['и', 'в', 'во', 'не', 'что', 'он', 'на', 'я', 'с', 'со'], 308)"
      ]
     },
     "execution_count": 21,
     "metadata": {},
     "output_type": "execute_result"
    }
   ],
   "source": [
    "allowed_chars = list(chr(i) for i in [*np.arange(ord('а'), ord('я')+1), *np.arange(ord('А'), ord('Я')+1), ord('ё'), ord('Ё')]) + list(string.ascii_letters)\n",
    "russian_stopwords.extend(string.punctuation)\n",
    "russian_stopwords.extend(allowed_chars)\n",
    "russian_stopwords[:10], len(russian_stopwords)"
   ]
  },
  {
   "cell_type": "markdown",
   "id": "61666c9d",
   "metadata": {},
   "source": [
    "Пишем собственную функцию для токенизации предложений, удаления стоп слов, знаков и лемматизации слов"
   ]
  },
  {
   "cell_type": "code",
   "execution_count": 22,
   "id": "a193634c",
   "metadata": {},
   "outputs": [],
   "source": [
    "segmenter = Segmenter()\n",
    "morph_vocab = MorphVocab()\n",
    "\n",
    "emb = NewsEmbedding()\n",
    "morph_tagger = NewsMorphTagger(emb)\n",
    "syntax_parser = NewsSyntaxParser(emb)\n",
    "ner_tagger = NewsNERTagger(emb)"
   ]
  },
  {
   "cell_type": "code",
   "execution_count": 23,
   "id": "923d13e3",
   "metadata": {},
   "outputs": [],
   "source": [
    "def is_sublist(lst1, lst2):\n",
    "    return set(lst1) <= set(lst2)\n",
    "\n",
    "def tokenize(text):\n",
    "    doc = Doc(text)\n",
    "    doc.segment(segmenter)\n",
    "    doc.tag_morph(morph_tagger)\n",
    "    doc.parse_syntax(syntax_parser)\n",
    "    doc.tag_ner(ner_tagger)\n",
    "\n",
    "    for token in doc.tokens:\n",
    "        token.lemmatize(morph_vocab)\n",
    "    \n",
    "    tokens = [\n",
    "        i.lemma.strip() for i in doc.tokens\n",
    "        if i.lemma.strip() not in russian_stopwords and\n",
    "        not i.lemma.strip().isnumeric()\n",
    "        # is_sublist(list(i.lemma.strip()), allowed_chars)\n",
    "    ]\n",
    "\n",
    "    return tokens"
   ]
  },
  {
   "cell_type": "markdown",
   "id": "d9003067",
   "metadata": {},
   "source": [
    "Добавляем новый столбец с обработанным текстом"
   ]
  },
  {
   "cell_type": "code",
   "execution_count": 24,
   "id": "266bb34f",
   "metadata": {},
   "outputs": [
    {
     "name": "stderr",
     "output_type": "stream",
     "text": [
      "100%|██████████| 35774/35774 [08:48<00:00, 67.70it/s] \n"
     ]
    }
   ],
   "source": [
    "train_data['text_tokenized'] = [tokenize(i) for i in tqdm(train_data.text)]\n",
    "# test_data['text_tokenized'] = [tokenize(i) for i in tqdm(test_data.text)]"
   ]
  },
  {
   "cell_type": "markdown",
   "id": "67a1e3d8",
   "metadata": {},
   "source": [
    "Поделим данные на тренировочную, валидационную и тестовую выборки."
   ]
  },
  {
   "cell_type": "code",
   "execution_count": 25,
   "id": "45483850",
   "metadata": {},
   "outputs": [],
   "source": [
    "X, y = train_data.text_tokenized.to_numpy(), train_data.category_le.to_numpy()\n",
    "X_train, X_test_val, y_train, y_test_val = train_test_split(X, y, test_size=0.4, random_state=42, stratify=y)\n",
    "X_test, X_val, y_test, y_val = train_test_split(X_test_val, y_test_val, test_size=0.5, random_state=42, stratify=y_test_val)\n",
    "del X_test_val, y_test_val  # удалим эти переменные, чтобы их после случайно не использовать"
   ]
  },
  {
   "cell_type": "markdown",
   "id": "3fee2ec5",
   "metadata": {},
   "source": [
    "## <hr>Глава 3. Обучение моделей для классификации текстов"
   ]
  },
  {
   "cell_type": "markdown",
   "id": "277c15ec",
   "metadata": {},
   "source": [
    "Для векторизации текстов и оценки важности слова в контексте документа будем использовать статистическую меру `tf-idf`. Для оптимизации работы используем функцию для обучения и оценки моделей с использованием `Pipeline`."
   ]
  },
  {
   "cell_type": "code",
   "execution_count": 61,
   "id": "aa21bb8d",
   "metadata": {},
   "outputs": [],
   "source": [
    "models = [\n",
    "    LogisticRegression(n_jobs=-1, random_state=42),\n",
    "    ComplementNB(),\n",
    "    SGDClassifier(n_jobs=-1, random_state=42),\n",
    "    RandomForestClassifier(n_jobs=-1, random_state=42),\n",
    "    RidgeClassifier(random_state=42),\n",
    "    KNeighborsClassifier(n_neighbors=10, n_jobs=-1),\n",
    "    LinearSVC(dual='auto'),\n",
    "    CalibratedClassifierCV(n_jobs=-1),\n",
    "    MultinomialNB(),\n",
    "]"
   ]
  },
  {
   "cell_type": "code",
   "execution_count": 77,
   "id": "17f4335d",
   "metadata": {},
   "outputs": [],
   "source": [
    "def fit_model(user_model):\n",
    "    model = Pipeline([\n",
    "        ('tfidf', TfidfVectorizer(tokenizer=lambda x: x, preprocessor=lambda x: x, token_pattern=None)),\n",
    "        ('model', user_model),\n",
    "    ]).fit(X_train, y_train)\n",
    "\n",
    "    y_pred = model.predict(X_val)\n",
    "    score = accuracy_score(y_pred, y_val)\n",
    "    return model, score\n",
    "\n",
    "def cv_model(user_model):\n",
    "    model = Pipeline([\n",
    "        ('tfidf', TfidfVectorizer(tokenizer=lambda x: x, preprocessor=lambda x: x, token_pattern=None)),\n",
    "        ('model', user_model),\n",
    "    ]).fit(X_train, y_train)\n",
    "\n",
    "    kfold = StratifiedKFold(n_splits=5, random_state=42, shuffle=True)\n",
    "    score = cross_val_score(model, X_train, y_train, cv=kfold, scoring='accuracy').mean()\n",
    "\n",
    "    return model, score"
   ]
  },
  {
   "cell_type": "markdown",
   "id": "acbd19ce",
   "metadata": {},
   "source": [
    "Модели из списка ниже я подбирал руками по двум критериям: точность предсказаний и скорость обучения. Также для сравнения я включил несколькостандартных решений для классификации."
   ]
  },
  {
   "cell_type": "markdown",
   "id": "4c600d46",
   "metadata": {},
   "source": [
    "### 3.1 LogisticRegression"
   ]
  },
  {
   "cell_type": "code",
   "execution_count": 63,
   "id": "2ef91703",
   "metadata": {},
   "outputs": [
    {
     "name": "stdout",
     "output_type": "stream",
     "text": [
      "LogisticRegression: 0.8391\n",
      "CPU times: user 1.42 s, sys: 195 ms, total: 1.61 s\n",
      "Wall time: 20 s\n"
     ]
    }
   ],
   "source": [
    "%%time\n",
    "model, score = cv_model(models[0])\n",
    "print(f'{model[1].__class__.__name__}: {score:.4f}')"
   ]
  },
  {
   "cell_type": "markdown",
   "id": "20ac83ac",
   "metadata": {},
   "source": [
    "### 3.2 ComplementNB"
   ]
  },
  {
   "cell_type": "code",
   "execution_count": 64,
   "id": "e01950a8",
   "metadata": {},
   "outputs": [
    {
     "name": "stdout",
     "output_type": "stream",
     "text": [
      "ComplementNB: 0.8573\n",
      "CPU times: user 1.43 s, sys: 31.9 ms, total: 1.46 s\n",
      "Wall time: 1.48 s\n"
     ]
    }
   ],
   "source": [
    "%%time\n",
    "model, score = cv_model(models[1])\n",
    "print(f'{model[1].__class__.__name__}: {score:.4f}')"
   ]
  },
  {
   "cell_type": "markdown",
   "id": "2e4f84de",
   "metadata": {},
   "source": [
    "### 3.3 SGDClassifier"
   ]
  },
  {
   "cell_type": "code",
   "execution_count": 65,
   "id": "09fb5533",
   "metadata": {},
   "outputs": [
    {
     "name": "stdout",
     "output_type": "stream",
     "text": [
      "SGDClassifier: 0.8612\n",
      "CPU times: user 2.29 s, sys: 32.1 ms, total: 2.32 s\n",
      "Wall time: 1.57 s\n"
     ]
    }
   ],
   "source": [
    "%%time\n",
    "model, score = cv_model(models[2])\n",
    "print(f'{model[1].__class__.__name__}: {score:.4f}')"
   ]
  },
  {
   "cell_type": "markdown",
   "id": "f520696f",
   "metadata": {},
   "source": [
    "### 3.4 RandomForestClassifier"
   ]
  },
  {
   "cell_type": "code",
   "execution_count": 66,
   "id": "7fd5fa18",
   "metadata": {},
   "outputs": [
    {
     "name": "stdout",
     "output_type": "stream",
     "text": [
      "RandomForestClassifier: 0.7925\n",
      "CPU times: user 2min 10s, sys: 556 ms, total: 2min 11s\n",
      "Wall time: 20.3 s\n"
     ]
    }
   ],
   "source": [
    "%%time\n",
    "model, score = cv_model(models[3])\n",
    "print(f'{model[1].__class__.__name__}: {score:.4f}')"
   ]
  },
  {
   "cell_type": "markdown",
   "id": "c72de301",
   "metadata": {},
   "source": [
    "### 3.5 RidgeClassifier"
   ]
  },
  {
   "cell_type": "code",
   "execution_count": 67,
   "id": "9e61e782",
   "metadata": {},
   "outputs": [
    {
     "name": "stdout",
     "output_type": "stream",
     "text": [
      "RidgeClassifier: 0.8635\n",
      "CPU times: user 7.66 s, sys: 68.5 ms, total: 7.73 s\n",
      "Wall time: 3.69 s\n"
     ]
    }
   ],
   "source": [
    "%%time\n",
    "model, score = cv_model(models[4])\n",
    "print(f'{model[1].__class__.__name__}: {score:.4f}')"
   ]
  },
  {
   "cell_type": "markdown",
   "id": "bf0a9ba1",
   "metadata": {},
   "source": [
    "### 3.6 KNeighborsClassifier"
   ]
  },
  {
   "cell_type": "code",
   "execution_count": 68,
   "id": "80c5126c",
   "metadata": {},
   "outputs": [
    {
     "name": "stdout",
     "output_type": "stream",
     "text": [
      "KNeighborsClassifier: 0.7985\n",
      "CPU times: user 11.8 s, sys: 2.75 s, total: 14.5 s\n",
      "Wall time: 8.49 s\n"
     ]
    }
   ],
   "source": [
    "%%time\n",
    "model, score = cv_model(models[5])\n",
    "print(f'{model[1].__class__.__name__}: {score:.4f}')"
   ]
  },
  {
   "cell_type": "markdown",
   "id": "e4408582",
   "metadata": {},
   "source": [
    "### 3.7 LinearSVC"
   ]
  },
  {
   "cell_type": "code",
   "execution_count": 69,
   "id": "11472605",
   "metadata": {},
   "outputs": [
    {
     "name": "stdout",
     "output_type": "stream",
     "text": [
      "LinearSVC: 0.8589\n",
      "CPU times: user 2.71 s, sys: 40.5 ms, total: 2.75 s\n",
      "Wall time: 2.77 s\n"
     ]
    }
   ],
   "source": [
    "%%time\n",
    "model, score = cv_model(models[6])\n",
    "print(f'{model[1].__class__.__name__}: {score:.4f}')"
   ]
  },
  {
   "cell_type": "markdown",
   "id": "713bf456",
   "metadata": {},
   "source": [
    "### 3.8 CalibratedClassifierCV"
   ]
  },
  {
   "cell_type": "code",
   "execution_count": 70,
   "id": "795a6f49",
   "metadata": {},
   "outputs": [
    {
     "name": "stdout",
     "output_type": "stream",
     "text": [
      "CalibratedClassifierCV: 0.8616\n",
      "CPU times: user 1.54 s, sys: 162 ms, total: 1.7 s\n",
      "Wall time: 5.4 s\n"
     ]
    }
   ],
   "source": [
    "%%time\n",
    "model, score = cv_model(models[7])\n",
    "print(f'{model[1].__class__.__name__}: {score:.4f}')"
   ]
  },
  {
   "cell_type": "markdown",
   "id": "b46c76fa",
   "metadata": {},
   "source": [
    "### 3.9 MultinomialNB"
   ]
  },
  {
   "cell_type": "code",
   "execution_count": 71,
   "id": "fb1169f2",
   "metadata": {},
   "outputs": [
    {
     "name": "stdout",
     "output_type": "stream",
     "text": [
      "MultinomialNB: 0.8261\n",
      "CPU times: user 1.48 s, sys: 20.9 ms, total: 1.5 s\n",
      "Wall time: 1.51 s\n"
     ]
    }
   ],
   "source": [
    "%%time\n",
    "model, score = cv_model(models[8])\n",
    "print(f'{model[1].__class__.__name__}: {score:.4f}')"
   ]
  },
  {
   "cell_type": "markdown",
   "id": "b65e1da9",
   "metadata": {},
   "source": [
    "### 3.10 Обучение Всех Моделей"
   ]
  },
  {
   "cell_type": "code",
   "execution_count": 72,
   "id": "ce296436",
   "metadata": {},
   "outputs": [
    {
     "name": "stdout",
     "output_type": "stream",
     "text": [
      " _________________________________________________\n",
      "| Модель LogisticRegression                       |\n",
      "|   score=0.8391 learning_time=23.7442            |\n",
      " _________________________________________________\n",
      "| Модель ComplementNB                             |\n",
      "|   score=0.8573 learning_time=1.4362             |\n",
      " _________________________________________________\n",
      "| Модель SGDClassifier                            |\n",
      "|   score=0.8612 learning_time=1.4762             |\n",
      " _________________________________________________\n",
      "| Модель RandomForestClassifier                   |\n",
      "|   score=0.7925 learning_time=20.5027            |\n",
      " _________________________________________________\n",
      "| Модель RidgeClassifier                          |\n",
      "|   score=0.8635 learning_time=3.5577             |\n",
      " _________________________________________________\n",
      "| Модель KNeighborsClassifier                     |\n",
      "|   score=0.7985 learning_time=8.0735             |\n",
      " _________________________________________________\n",
      "| Модель LinearSVC                                |\n",
      "|   score=0.8589 learning_time=2.6303             |\n",
      " _________________________________________________\n",
      "| Модель CalibratedClassifierCV                   |\n",
      "|   score=0.8616 learning_time=4.6064             |\n",
      " _________________________________________________\n",
      "| Модель MultinomialNB                            |\n",
      "|   score=0.8261 learning_time=1.3431             |\n",
      " _________________________________________________\n"
     ]
    }
   ],
   "source": [
    "print(' ' + '_'*49)\n",
    "all_models_scores = []\n",
    "for model in models:\n",
    "    model_name = model.__class__.__name__\n",
    "    print(f'| Модель {model_name:<40} |')\n",
    "    \n",
    "    start_time = time.time()\n",
    "    model, score = cv_model(model)\n",
    "    end_time = time.time()\n",
    "    learning_time = end_time - start_time\n",
    "\n",
    "\n",
    "    print(f'|   {score=:.4f} {learning_time=:<18.4f} |', end=f'\\n {'_'*49}\\n')\n",
    "    all_models_scores.append({'name': model_name, 'score': score, 'time': learning_time})"
   ]
  },
  {
   "cell_type": "code",
   "execution_count": 75,
   "id": "034ae536",
   "metadata": {},
   "outputs": [
    {
     "data": {
      "text/html": [
       "<div>\n",
       "<style scoped>\n",
       "    .dataframe tbody tr th:only-of-type {\n",
       "        vertical-align: middle;\n",
       "    }\n",
       "\n",
       "    .dataframe tbody tr th {\n",
       "        vertical-align: top;\n",
       "    }\n",
       "\n",
       "    .dataframe thead th {\n",
       "        text-align: right;\n",
       "    }\n",
       "</style>\n",
       "<table border=\"1\" class=\"dataframe\">\n",
       "  <thead>\n",
       "    <tr style=\"text-align: right;\">\n",
       "      <th></th>\n",
       "      <th>name</th>\n",
       "      <th>score</th>\n",
       "      <th>time</th>\n",
       "    </tr>\n",
       "  </thead>\n",
       "  <tbody>\n",
       "    <tr>\n",
       "      <th>0</th>\n",
       "      <td>RidgeClassifier</td>\n",
       "      <td>0.863539</td>\n",
       "      <td>3.557747</td>\n",
       "    </tr>\n",
       "    <tr>\n",
       "      <th>1</th>\n",
       "      <td>CalibratedClassifierCV</td>\n",
       "      <td>0.861582</td>\n",
       "      <td>4.606375</td>\n",
       "    </tr>\n",
       "    <tr>\n",
       "      <th>2</th>\n",
       "      <td>SGDClassifier</td>\n",
       "      <td>0.861210</td>\n",
       "      <td>1.476221</td>\n",
       "    </tr>\n",
       "    <tr>\n",
       "      <th>3</th>\n",
       "      <td>LinearSVC</td>\n",
       "      <td>0.858927</td>\n",
       "      <td>2.630327</td>\n",
       "    </tr>\n",
       "    <tr>\n",
       "      <th>4</th>\n",
       "      <td>ComplementNB</td>\n",
       "      <td>0.857296</td>\n",
       "      <td>1.436201</td>\n",
       "    </tr>\n",
       "    <tr>\n",
       "      <th>5</th>\n",
       "      <td>LogisticRegression</td>\n",
       "      <td>0.839079</td>\n",
       "      <td>23.744162</td>\n",
       "    </tr>\n",
       "    <tr>\n",
       "      <th>6</th>\n",
       "      <td>MultinomialNB</td>\n",
       "      <td>0.826127</td>\n",
       "      <td>1.343138</td>\n",
       "    </tr>\n",
       "    <tr>\n",
       "      <th>7</th>\n",
       "      <td>KNeighborsClassifier</td>\n",
       "      <td>0.798546</td>\n",
       "      <td>8.073523</td>\n",
       "    </tr>\n",
       "    <tr>\n",
       "      <th>8</th>\n",
       "      <td>RandomForestClassifier</td>\n",
       "      <td>0.792490</td>\n",
       "      <td>20.502750</td>\n",
       "    </tr>\n",
       "  </tbody>\n",
       "</table>\n",
       "</div>"
      ],
      "text/plain": [
       "                     name     score       time\n",
       "0         RidgeClassifier  0.863539   3.557747\n",
       "1  CalibratedClassifierCV  0.861582   4.606375\n",
       "2           SGDClassifier  0.861210   1.476221\n",
       "3               LinearSVC  0.858927   2.630327\n",
       "4            ComplementNB  0.857296   1.436201\n",
       "5      LogisticRegression  0.839079  23.744162\n",
       "6           MultinomialNB  0.826127   1.343138\n",
       "7    KNeighborsClassifier  0.798546   8.073523\n",
       "8  RandomForestClassifier  0.792490  20.502750"
      ]
     },
     "execution_count": 75,
     "metadata": {},
     "output_type": "execute_result"
    }
   ],
   "source": [
    "df_models = pd.DataFrame(all_models_scores)\n",
    "df_models = df_models.sort_values('score', ascending=False).reset_index(drop=True)\n",
    "df_models"
   ]
  },
  {
   "cell_type": "markdown",
   "id": "c9cc33a4",
   "metadata": {},
   "source": [
    "Посмотрим на лучшую модель, это метрика для оценивания моделей, предложенная создателями датасета"
   ]
  },
  {
   "cell_type": "code",
   "execution_count": 85,
   "id": "8e477192",
   "metadata": {},
   "outputs": [
    {
     "name": "stdout",
     "output_type": "stream",
     "text": [
      "              precision    recall  f1-score   support\n",
      "\n",
      "           0       0.89      0.89      0.89       518\n",
      "           1       0.89      0.87      0.88       603\n",
      "           2       0.93      0.88      0.90       490\n",
      "           3       0.91      0.97      0.94       505\n",
      "           4       0.82      0.81      0.81       543\n",
      "           5       0.72      0.79      0.76       552\n",
      "           6       0.84      0.85      0.84       557\n",
      "           7       0.91      0.87      0.89       580\n",
      "           8       0.82      0.80      0.81       577\n",
      "           9       0.90      0.92      0.91       544\n",
      "          10       0.96      0.95      0.96       586\n",
      "          11       0.92      0.86      0.89       554\n",
      "          12       0.87      0.89      0.88       546\n",
      "\n",
      "    accuracy                           0.87      7155\n",
      "   macro avg       0.88      0.87      0.87      7155\n",
      "weighted avg       0.87      0.87      0.87      7155\n",
      "\n"
     ]
    }
   ],
   "source": [
    "best_model, score = cv_model(models[4])\n",
    "y_pred = best_model.predict(X_val)\n",
    "print(classification_report(y_val, y_pred))"
   ]
  },
  {
   "cell_type": "markdown",
   "id": "82ac53dc",
   "metadata": {},
   "source": [
    "Модель ошибается примерно одинаково на каждом классе"
   ]
  },
  {
   "cell_type": "code",
   "execution_count": 86,
   "id": "708caee8",
   "metadata": {},
   "outputs": [
    {
     "data": {
      "image/png": "[encoded data removed]",
      "text/plain": [
       "<Figure size 800x550 with 2 Axes>"
      ]
     },
     "metadata": {},
     "output_type": "display_data"
    }
   ],
   "source": [
    "cm = confusion_matrix(y_val, y_pred)\n",
    "sns.heatmap(cm, annot=True, fmt='.0f', xticklabels=le.classes_, yticklabels=le.classes_)\n",
    "plt.title(best_model[1].__class__.__name__)\n",
    "plt.xticks(rotation=45)\n",
    "plt.show()"
   ]
  },
  {
   "cell_type": "code",
   "execution_count": 87,
   "id": "e84c8285",
   "metadata": {},
   "outputs": [
    {
     "data": {
      "image/png": "[encoded data removed]",
      "text/plain": [
       "<Figure size 800x550 with 1 Axes>"
      ]
     },
     "metadata": {},
     "output_type": "display_data"
    },
    {
     "name": "stdout",
     "output_type": "stream",
     "text": [
      "CPU times: user 40.9 s, sys: 477 ms, total: 41.3 s\n",
      "Wall time: 21.3 s\n"
     ]
    }
   ],
   "source": [
    "%%time\n",
    "visualizer = LearningCurve(best_model, scoring='accuracy').fit(X, y).show()"
   ]
  },
  {
   "cell_type": "markdown",
   "id": "cd6069a1",
   "metadata": {},
   "source": [
    "Но тут возникает проблема – переобучение, её мы будем убирать при помощи регуляризации и оптимизации параметров"
   ]
  },
  {
   "cell_type": "markdown",
   "id": "c6f91ad3",
   "metadata": {},
   "source": [
    "### 3.11 Результаты и выводы"
   ]
  },
  {
   "cell_type": "code",
   "execution_count": 88,
   "id": "9c8b33e1",
   "metadata": {},
   "outputs": [
    {
     "data": {
      "text/html": [
       "<div>\n",
       "<style scoped>\n",
       "    .dataframe tbody tr th:only-of-type {\n",
       "        vertical-align: middle;\n",
       "    }\n",
       "\n",
       "    .dataframe tbody tr th {\n",
       "        vertical-align: top;\n",
       "    }\n",
       "\n",
       "    .dataframe thead th {\n",
       "        text-align: right;\n",
       "    }\n",
       "</style>\n",
       "<table border=\"1\" class=\"dataframe\">\n",
       "  <thead>\n",
       "    <tr style=\"text-align: right;\">\n",
       "      <th></th>\n",
       "      <th>name</th>\n",
       "      <th>score</th>\n",
       "      <th>time</th>\n",
       "    </tr>\n",
       "  </thead>\n",
       "  <tbody>\n",
       "    <tr>\n",
       "      <th>0</th>\n",
       "      <td>RidgeClassifier</td>\n",
       "      <td>0.863539</td>\n",
       "      <td>3.557747</td>\n",
       "    </tr>\n",
       "    <tr>\n",
       "      <th>1</th>\n",
       "      <td>CalibratedClassifierCV</td>\n",
       "      <td>0.861582</td>\n",
       "      <td>4.606375</td>\n",
       "    </tr>\n",
       "    <tr>\n",
       "      <th>2</th>\n",
       "      <td>SGDClassifier</td>\n",
       "      <td>0.861210</td>\n",
       "      <td>1.476221</td>\n",
       "    </tr>\n",
       "    <tr>\n",
       "      <th>3</th>\n",
       "      <td>LinearSVC</td>\n",
       "      <td>0.858927</td>\n",
       "      <td>2.630327</td>\n",
       "    </tr>\n",
       "    <tr>\n",
       "      <th>4</th>\n",
       "      <td>ComplementNB</td>\n",
       "      <td>0.857296</td>\n",
       "      <td>1.436201</td>\n",
       "    </tr>\n",
       "    <tr>\n",
       "      <th>5</th>\n",
       "      <td>LogisticRegression</td>\n",
       "      <td>0.839079</td>\n",
       "      <td>23.744162</td>\n",
       "    </tr>\n",
       "    <tr>\n",
       "      <th>6</th>\n",
       "      <td>MultinomialNB</td>\n",
       "      <td>0.826127</td>\n",
       "      <td>1.343138</td>\n",
       "    </tr>\n",
       "    <tr>\n",
       "      <th>7</th>\n",
       "      <td>KNeighborsClassifier</td>\n",
       "      <td>0.798546</td>\n",
       "      <td>8.073523</td>\n",
       "    </tr>\n",
       "    <tr>\n",
       "      <th>8</th>\n",
       "      <td>RandomForestClassifier</td>\n",
       "      <td>0.792490</td>\n",
       "      <td>20.502750</td>\n",
       "    </tr>\n",
       "  </tbody>\n",
       "</table>\n",
       "</div>"
      ],
      "text/plain": [
       "                     name     score       time\n",
       "0         RidgeClassifier  0.863539   3.557747\n",
       "1  CalibratedClassifierCV  0.861582   4.606375\n",
       "2           SGDClassifier  0.861210   1.476221\n",
       "3               LinearSVC  0.858927   2.630327\n",
       "4            ComplementNB  0.857296   1.436201\n",
       "5      LogisticRegression  0.839079  23.744162\n",
       "6           MultinomialNB  0.826127   1.343138\n",
       "7    KNeighborsClassifier  0.798546   8.073523\n",
       "8  RandomForestClassifier  0.792490  20.502750"
      ]
     },
     "execution_count": 88,
     "metadata": {},
     "output_type": "execute_result"
    }
   ],
   "source": [
    "df_models"
   ]
  },
  {
   "cell_type": "markdown",
   "id": "b0c7a262",
   "metadata": {},
   "source": [
    "Судя по датафрейму, мы получили хорошие результаты для классификации по 13 классам. К слову, некоторые стандартные модели отсутствуют в списке по причине очень долгого обучения и низких метрик, к примеру: `MLPClassifier`, `GradientBoostingClassifier`, `SVC` и т.п."
   ]
  },
  {
   "cell_type": "markdown",
   "id": "989f2fc8",
   "metadata": {},
   "source": [
    "## <hr>Глава 4. Улучшение и усовершенствование моделей"
   ]
  },
  {
   "cell_type": "markdown",
   "id": "f73dd85b",
   "metadata": {},
   "source": [
    "### 4.1 Выбор нескольких наиболее перспективных моделей на основе полученных результатов"
   ]
  },
  {
   "cell_type": "markdown",
   "id": "54f8ad2c",
   "metadata": {},
   "source": [
    "Исходя из проведённых тестов, можно выделить несколько моделей, которые очнь хорошо себя показали\n",
    "\n",
    "Ими являются:\n",
    "* `RidgeClassifier`\n",
    "* `CalibratedClassifierCV`\n",
    "* `LinearSVC`\n",
    "* `SGDClassifier`\n",
    "* `ComplementNB`\n",
    "\n",
    "Так как все модели обучаются довольно быстро, следующим шагом можно найти оптимальные гиперпараметры для каждой"
   ]
  },
  {
   "cell_type": "markdown",
   "id": "4a565e85",
   "metadata": {},
   "source": [
    "### 4.2 Применение Grid Search и поиск оптимальных гиперпараметров"
   ]
  },
  {
   "cell_type": "code",
   "execution_count": null,
   "id": "b10fd8dd",
   "metadata": {},
   "outputs": [],
   "source": []
  },
  {
   "cell_type": "code",
   "execution_count": null,
   "id": "7b4e7bcd",
   "metadata": {},
   "outputs": [],
   "source": []
  },
  {
   "cell_type": "code",
   "execution_count": null,
   "id": "aa108f0d",
   "metadata": {},
   "outputs": [],
   "source": []
  }
 ],
 "metadata": {
  "kaggle": {
   "accelerator": "none",
   "dataSources": [
    {
     "datasetId": 4277350,
     "sourceId": 7363351,
     "sourceType": "datasetVersion"
    }
   ],
   "dockerImageVersionId": 30626,
   "isGpuEnabled": false,
   "isInternetEnabled": true,
   "language": "python",
   "sourceType": "notebook"
  },
  "kernelspec": {
   "display_name": "Python 3 (ipykernel)",
   "language": "python",
   "name": "python3"
  },
  "language_info": {
   "codemirror_mode": {
    "name": "ipython",
    "version": 3
   },
   "file_extension": ".py",
   "mimetype": "text/x-python",
   "name": "python",
   "nbconvert_exporter": "python",
   "pygments_lexer": "ipython3",
   "version": "3.12.2"
  },
  "papermill": {
   "default_parameters": {},
   "duration": 182.626429,
   "end_time": "2024-01-08T14:56:18.917818",
   "environment_variables": {},
   "exception": null,
   "input_path": "__notebook__.ipynb",
   "output_path": "__notebook__.ipynb",
   "parameters": {},
   "start_time": "2024-01-08T14:53:16.291389",
   "version": "2.4.0"
  }
 },
 "nbformat": 4,
 "nbformat_minor": 5
}
