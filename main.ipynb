{
 "cells": [
  {
   "cell_type": "code",
   "execution_count": 1,
   "id": "20b0b6ca",
   "metadata": {},
   "outputs": [],
   "source": [
    "from sklearn.naive_bayes import MultinomialNB\n",
    "from sklearn.linear_model import LogisticRegression, SGDClassifier\n",
    "from sklearn.ensemble import (\n",
    "    RandomForestClassifier, GradientBoostingClassifier, ExtraTreesClassifier\n",
    ")\n",
    "from sklearn.neighbors import KNeighborsClassifier\n",
    "from sklearn.svm import SVC\n",
    "\n",
    "from sklearn.preprocessing import LabelEncoder\n",
    "from sklearn.feature_extraction.text import TfidfVectorizer\n",
    "from sklearn.pipeline import Pipeline\n",
    "from sklearn.metrics import accuracy_score\n",
    "from sklearn.model_selection import train_test_split\n",
    "\n",
    "import opendatasets as od\n",
    "import numpy as np\n",
    "import pandas as pd\n",
    "np.random.seed(42)\n",
    "\n",
    "import matplotlib.pyplot as plt\n",
    "import seaborn as sns\n",
    "\n",
    "from tqdm import tqdm\n",
    "import string\n",
    "import time\n",
    "import re\n",
    "\n",
    "import nltk\n",
    "from nltk.corpus import stopwords\n",
    "import plotly.express as px\n",
    "\n",
    "from natasha import (\n",
    "    Segmenter, MorphVocab, NewsEmbedding, NewsMorphTagger,\n",
    "    NewsSyntaxParser, NewsNERTagger, PER, NamesExtractor,\n",
    "    DatesExtractor, MoneyExtractor, AddrExtractor, Doc,\n",
    ")"
   ]
  },
  {
   "cell_type": "code",
   "execution_count": 2,
   "id": "008e01c9",
   "metadata": {},
   "outputs": [],
   "source": [
    "import ssl\n",
    "ssl._create_default_https_context = ssl._create_unverified_context"
   ]
  },
  {
   "cell_type": "markdown",
   "id": "291282d5",
   "metadata": {},
   "source": [
    "# <hr><p align='center' style='color: #6c89c6;'>Работу выполнил: Таратин Артём ПМ22-1<br> Датасет: [Russian Social Media Text Classification](https://www.kaggle.com/datasets/mikhailma/russian-social-media-text-classification)</p>"
   ]
  },
  {
   "cell_type": "markdown",
   "id": "6ce4ceb5",
   "metadata": {},
   "source": [
    "## <hr>**Глава 1. Основа**"
   ]
  },
  {
   "cell_type": "markdown",
   "id": "9b3cb941",
   "metadata": {},
   "source": [
    "### 1.1 Введение в NLP и классификацию текстов"
   ]
  },
  {
   "cell_type": "code",
   "execution_count": null,
   "id": "7060d417",
   "metadata": {},
   "outputs": [],
   "source": []
  },
  {
   "cell_type": "markdown",
   "id": "6a1f9e7c",
   "metadata": {},
   "source": [
    "### 1.2 Методы векторизации текста"
   ]
  },
  {
   "cell_type": "code",
   "execution_count": null,
   "id": "9b683576",
   "metadata": {},
   "outputs": [],
   "source": []
  },
  {
   "cell_type": "markdown",
   "id": "53be2284",
   "metadata": {},
   "source": [
    "### 1.3 Описание используемых библиотек"
   ]
  },
  {
   "cell_type": "code",
   "execution_count": null,
   "id": "7b8385dd",
   "metadata": {},
   "outputs": [],
   "source": []
  },
  {
   "cell_type": "markdown",
   "id": "e12e0300",
   "metadata": {},
   "source": [
    "## <hr>**Глава 2. Работа с датасетом**"
   ]
  },
  {
   "cell_type": "markdown",
   "id": "e0d5f7e4",
   "metadata": {},
   "source": [
    "### 2.1 Описание Датасета"
   ]
  },
  {
   "cell_type": "markdown",
   "id": "2bc401ad",
   "metadata": {},
   "source": [
    "##### **Оригинал:**\n",
    "VKontakte communities can belong to one of several predefined categories. But even among the sports communities there is a fairly strong division by subject! The same authors can write about only one sport or at once about a large number. Based on a given set of posts, determine the topic – what kind of sport is being discussed in the selected community?\n",
    "\n",
    "##### **Перевод:**\n",
    "Сообщества ВКонтакте могут относиться к одной из нескольких предопределенных категорий. Но даже среди спортивных сообществ существует довольно строгое разделение по тематике! Одни и те же авторы могут писать только об одном виде спорта или сразу о большом количестве. Основываясь на заданном наборе постов, определите тему – какой вид спорта обсуждается в выбранном сообществе?\n",
    "\n",
    "##### **Список доступных категорий (13):**\n",
    "* athletics – легкая атлетика,\n",
    "* autosport – автоспорт,\n",
    "* basketball – баскетбол,\n",
    "* boardgames – настольные игры,\n",
    "* esport – киберспорт,\n",
    "* extreme – экстрим,\n",
    "* football – футбол,\n",
    "* hockey – хоккей,\n",
    "* martial_arts – боевые искусства,\n",
    "* motosport – автоспорт,\n",
    "* tennis – теннис,\n",
    "* volleyball – волейбол,\n",
    "* winter_sport – зимний спорт\n",
    "\n",
    "##### **Функция потерь выглядит так:**\n",
    "```python\n",
    "def score(true, pred, n_samples):\n",
    "    counter = 0\n",
    "    if true == pred:\n",
    "        counter += 1\n",
    "    else:\n",
    "        counter -= 1\n",
    "    return counter / n_samples\n",
    "```"
   ]
  },
  {
   "cell_type": "markdown",
   "id": "f0520c1e",
   "metadata": {},
   "source": [
    "#### 2.2 Анализ, Предобработка данных и вывод основных характеристик"
   ]
  },
  {
   "cell_type": "markdown",
   "id": "ba2666c2",
   "metadata": {},
   "source": [
    "Загружаем датасет с kaggle.com"
   ]
  },
  {
   "cell_type": "code",
   "execution_count": 3,
   "id": "248a2baa",
   "metadata": {},
   "outputs": [
    {
     "name": "stdout",
     "output_type": "stream",
     "text": [
      "Skipping, found downloaded files in \"./russian-social-media-text-classification\" (use force=True to force download)\n"
     ]
    }
   ],
   "source": [
    "od.download('https://www.kaggle.com/datasets/mikhailma/russian-social-media-text-classification')"
   ]
  },
  {
   "cell_type": "markdown",
   "id": "4fef0c79",
   "metadata": {},
   "source": [
    "Считываем данные и выводим первые 5 строк"
   ]
  },
  {
   "cell_type": "code",
   "execution_count": 4,
   "id": "d2067bf0",
   "metadata": {
    "_cell_guid": "b1076dfc-b9ad-4769-8c92-a6c4dae69d19",
    "_uuid": "8f2839f25d086af736a60e9eeb907d3b93b6e0e5",
    "execution": {
     "iopub.execute_input": "2024-01-08T14:53:19.680273Z",
     "iopub.status.busy": "2024-01-08T14:53:19.679494Z",
     "iopub.status.idle": "2024-01-08T14:53:28.308846Z",
     "shell.execute_reply": "2024-01-08T14:53:28.307902Z"
    },
    "papermill": {
     "duration": 8.638962,
     "end_time": "2024-01-08T14:53:28.311364",
     "exception": false,
     "start_time": "2024-01-08T14:53:19.672402",
     "status": "completed"
    },
    "tags": []
   },
   "outputs": [
    {
     "data": {
      "text/html": [
       "<div>\n",
       "<style scoped>\n",
       "    .dataframe tbody tr th:only-of-type {\n",
       "        vertical-align: middle;\n",
       "    }\n",
       "\n",
       "    .dataframe tbody tr th {\n",
       "        vertical-align: top;\n",
       "    }\n",
       "\n",
       "    .dataframe thead th {\n",
       "        text-align: right;\n",
       "    }\n",
       "</style>\n",
       "<table border=\"1\" class=\"dataframe\">\n",
       "  <thead>\n",
       "    <tr style=\"text-align: right;\">\n",
       "      <th></th>\n",
       "      <th>oid</th>\n",
       "      <th>category</th>\n",
       "      <th>text</th>\n",
       "    </tr>\n",
       "  </thead>\n",
       "  <tbody>\n",
       "    <tr>\n",
       "      <th>0</th>\n",
       "      <td>365271984</td>\n",
       "      <td>winter_sport</td>\n",
       "      <td>Волшебные фото Виктория Поплавская ЕвгенияМедв...</td>\n",
       "    </tr>\n",
       "    <tr>\n",
       "      <th>1</th>\n",
       "      <td>503385563</td>\n",
       "      <td>extreme</td>\n",
       "      <td>Возвращение в подземелье Треша 33 Эйфория тупо...</td>\n",
       "    </tr>\n",
       "    <tr>\n",
       "      <th>2</th>\n",
       "      <td>146016084</td>\n",
       "      <td>football</td>\n",
       "      <td>Лучшие чешские вратари – Доминик Доминатор Гаш...</td>\n",
       "    </tr>\n",
       "    <tr>\n",
       "      <th>3</th>\n",
       "      <td>933865449</td>\n",
       "      <td>boardgames</td>\n",
       "      <td>Rtokenoid Warhammer40k валрак решил нас подкор...</td>\n",
       "    </tr>\n",
       "    <tr>\n",
       "      <th>4</th>\n",
       "      <td>713550145</td>\n",
       "      <td>hockey</td>\n",
       "      <td>Шестеркин затаскивает Рейнджерс в финал Восточ...</td>\n",
       "    </tr>\n",
       "  </tbody>\n",
       "</table>\n",
       "</div>"
      ],
      "text/plain": [
       "         oid      category                                               text\n",
       "0  365271984  winter_sport  Волшебные фото Виктория Поплавская ЕвгенияМедв...\n",
       "1  503385563       extreme  Возвращение в подземелье Треша 33 Эйфория тупо...\n",
       "2  146016084      football  Лучшие чешские вратари – Доминик Доминатор Гаш...\n",
       "3  933865449    boardgames  Rtokenoid Warhammer40k валрак решил нас подкор...\n",
       "4  713550145        hockey  Шестеркин затаскивает Рейнджерс в финал Восточ..."
      ]
     },
     "execution_count": 4,
     "metadata": {},
     "output_type": "execute_result"
    }
   ],
   "source": [
    "train_data = pd.read_csv('./russian-social-media-text-classification/train.csv')\n",
    "test_data = pd.read_csv('./russian-social-media-text-classification/test.csv')\n",
    "train_data.head()"
   ]
  },
  {
   "cell_type": "code",
   "execution_count": 5,
   "id": "5e794243",
   "metadata": {},
   "outputs": [
    {
     "data": {
      "text/plain": [
       "((38740, 3), 13)"
      ]
     },
     "execution_count": 5,
     "metadata": {},
     "output_type": "execute_result"
    }
   ],
   "source": [
    "train_data.shape, train_data.category.unique().size"
   ]
  },
  {
   "cell_type": "code",
   "execution_count": 6,
   "id": "3286134e",
   "metadata": {},
   "outputs": [
    {
     "data": {
      "text/plain": [
       "array(['winter_sport', 'extreme', 'football', 'boardgames', 'hockey',\n",
       "       'esport', 'athletics', 'motosport', 'basketball', 'tennis',\n",
       "       'autosport', 'martial_arts', 'volleyball'], dtype=object)"
      ]
     },
     "execution_count": 6,
     "metadata": {},
     "output_type": "execute_result"
    }
   ],
   "source": [
    "train_data.category.unique()"
   ]
  },
  {
   "cell_type": "code",
   "execution_count": 7,
   "id": "fd2b1eba",
   "metadata": {},
   "outputs": [
    {
     "data": {
      "text/plain": [
       "oid          int64\n",
       "category    object\n",
       "text        object\n",
       "dtype: object"
      ]
     },
     "execution_count": 7,
     "metadata": {},
     "output_type": "execute_result"
    }
   ],
   "source": [
    "train_data.dtypes"
   ]
  },
  {
   "cell_type": "code",
   "execution_count": 8,
   "id": "de88fccc",
   "metadata": {},
   "outputs": [
    {
     "data": {
      "text/plain": [
       "oid         0\n",
       "category    0\n",
       "text        0\n",
       "dtype: int64"
      ]
     },
     "execution_count": 8,
     "metadata": {},
     "output_type": "execute_result"
    }
   ],
   "source": [
    "train_data.isna().sum()"
   ]
  },
  {
   "cell_type": "markdown",
   "id": "45c94045",
   "metadata": {},
   "source": [
    "Ненужных столбцов нету, также как и выбросов"
   ]
  },
  {
   "cell_type": "code",
   "execution_count": 9,
   "id": "7a31be23",
   "metadata": {},
   "outputs": [
    {
     "data": {
      "text/plain": [
       "2966"
      ]
     },
     "execution_count": 9,
     "metadata": {},
     "output_type": "execute_result"
    }
   ],
   "source": [
    "train_data.duplicated('text').sum()"
   ]
  },
  {
   "cell_type": "markdown",
   "id": "ff5ba11c",
   "metadata": {},
   "source": [
    "Но в то же время присутствуют дубликаты, которые лучше убрать, либо оставить первый"
   ]
  },
  {
   "cell_type": "code",
   "execution_count": 10,
   "id": "d3e050ee",
   "metadata": {},
   "outputs": [
    {
     "data": {
      "text/plain": [
       "0"
      ]
     },
     "execution_count": 10,
     "metadata": {},
     "output_type": "execute_result"
    }
   ],
   "source": [
    "train_data.drop_duplicates('text', inplace=True, keep='first')\n",
    "train_data.duplicated('text').sum()"
   ]
  },
  {
   "cell_type": "markdown",
   "id": "14d8350f",
   "metadata": {},
   "source": [
    "Используем `LabelEncoder()` для предобразования целевого столбца"
   ]
  },
  {
   "cell_type": "code",
   "execution_count": 11,
   "id": "b531ae8c",
   "metadata": {},
   "outputs": [
    {
     "data": {
      "text/html": [
       "<div>\n",
       "<style scoped>\n",
       "    .dataframe tbody tr th:only-of-type {\n",
       "        vertical-align: middle;\n",
       "    }\n",
       "\n",
       "    .dataframe tbody tr th {\n",
       "        vertical-align: top;\n",
       "    }\n",
       "\n",
       "    .dataframe thead th {\n",
       "        text-align: right;\n",
       "    }\n",
       "</style>\n",
       "<table border=\"1\" class=\"dataframe\">\n",
       "  <thead>\n",
       "    <tr style=\"text-align: right;\">\n",
       "      <th></th>\n",
       "      <th>oid</th>\n",
       "      <th>category</th>\n",
       "      <th>text</th>\n",
       "      <th>category_le</th>\n",
       "    </tr>\n",
       "  </thead>\n",
       "  <tbody>\n",
       "    <tr>\n",
       "      <th>0</th>\n",
       "      <td>365271984</td>\n",
       "      <td>winter_sport</td>\n",
       "      <td>Волшебные фото Виктория Поплавская ЕвгенияМедв...</td>\n",
       "      <td>12</td>\n",
       "    </tr>\n",
       "    <tr>\n",
       "      <th>1</th>\n",
       "      <td>503385563</td>\n",
       "      <td>extreme</td>\n",
       "      <td>Возвращение в подземелье Треша 33 Эйфория тупо...</td>\n",
       "      <td>5</td>\n",
       "    </tr>\n",
       "    <tr>\n",
       "      <th>2</th>\n",
       "      <td>146016084</td>\n",
       "      <td>football</td>\n",
       "      <td>Лучшие чешские вратари – Доминик Доминатор Гаш...</td>\n",
       "      <td>6</td>\n",
       "    </tr>\n",
       "    <tr>\n",
       "      <th>3</th>\n",
       "      <td>933865449</td>\n",
       "      <td>boardgames</td>\n",
       "      <td>Rtokenoid Warhammer40k валрак решил нас подкор...</td>\n",
       "      <td>3</td>\n",
       "    </tr>\n",
       "    <tr>\n",
       "      <th>4</th>\n",
       "      <td>713550145</td>\n",
       "      <td>hockey</td>\n",
       "      <td>Шестеркин затаскивает Рейнджерс в финал Восточ...</td>\n",
       "      <td>7</td>\n",
       "    </tr>\n",
       "  </tbody>\n",
       "</table>\n",
       "</div>"
      ],
      "text/plain": [
       "         oid      category                                               text  \\\n",
       "0  365271984  winter_sport  Волшебные фото Виктория Поплавская ЕвгенияМедв...   \n",
       "1  503385563       extreme  Возвращение в подземелье Треша 33 Эйфория тупо...   \n",
       "2  146016084      football  Лучшие чешские вратари – Доминик Доминатор Гаш...   \n",
       "3  933865449    boardgames  Rtokenoid Warhammer40k валрак решил нас подкор...   \n",
       "4  713550145        hockey  Шестеркин затаскивает Рейнджерс в финал Восточ...   \n",
       "\n",
       "   category_le  \n",
       "0           12  \n",
       "1            5  \n",
       "2            6  \n",
       "3            3  \n",
       "4            7  "
      ]
     },
     "execution_count": 11,
     "metadata": {},
     "output_type": "execute_result"
    }
   ],
   "source": [
    "le = LabelEncoder()\n",
    "train_data['category_le'] = le.fit_transform(train_data.category)\n",
    "train_data.head()"
   ]
  },
  {
   "cell_type": "markdown",
   "id": "3b8e7406",
   "metadata": {},
   "source": [
    "Теперь выведем распределение классов и укажем количество их использований"
   ]
  },
  {
   "cell_type": "code",
   "execution_count": 12,
   "id": "27d54c08",
   "metadata": {},
   "outputs": [
    {
     "data": {
      "image/png": "[encoded data removed]",
      "text/plain": [
       "<Figure size 1200x600 with 1 Axes>"
      ]
     },
     "metadata": {},
     "output_type": "display_data"
    }
   ],
   "source": [
    "plt.figure(figsize=(12, 6))\n",
    "\n",
    "sr = train_data.category.value_counts()\n",
    "xp, yp = np.array(sr), np.array(sr.index)\n",
    "\n",
    "ax = sns.barplot(x=xp, y=yp, hue=yp, orient='h', color='#b3d4ff', palette='dark:#b3d4ff')\n",
    "for i, (value, category) in enumerate(zip(xp, yp)):\n",
    "    ax.text(value+5, i, f'{value}', va='center')  \n",
    "\n",
    "ax.set_xlabel('Количество', fontsize=14)\n",
    "ax.set_ylabel('Категория', fontsize=14)\n",
    "ax.set_title('Количество Текстов по Категориям', fontsize=14)\n",
    "ax.set_xticks(np.arange(0, 3001, 250))\n",
    "\n",
    "plt.show()"
   ]
  },
  {
   "cell_type": "markdown",
   "id": "78997b1e",
   "metadata": {},
   "source": [
    "Построим гистограмму распределения количества символов в предложениях"
   ]
  },
  {
   "cell_type": "code",
   "execution_count": 13,
   "id": "afd58224",
   "metadata": {},
   "outputs": [
    {
     "data": {
      "text/html": [
       "<div>\n",
       "<style scoped>\n",
       "    .dataframe tbody tr th:only-of-type {\n",
       "        vertical-align: middle;\n",
       "    }\n",
       "\n",
       "    .dataframe tbody tr th {\n",
       "        vertical-align: top;\n",
       "    }\n",
       "\n",
       "    .dataframe thead th {\n",
       "        text-align: right;\n",
       "    }\n",
       "</style>\n",
       "<table border=\"1\" class=\"dataframe\">\n",
       "  <thead>\n",
       "    <tr style=\"text-align: right;\">\n",
       "      <th></th>\n",
       "      <th>oid</th>\n",
       "      <th>category</th>\n",
       "      <th>text</th>\n",
       "      <th>category_le</th>\n",
       "      <th>length</th>\n",
       "    </tr>\n",
       "  </thead>\n",
       "  <tbody>\n",
       "    <tr>\n",
       "      <th>0</th>\n",
       "      <td>365271984</td>\n",
       "      <td>winter_sport</td>\n",
       "      <td>Волшебные фото Виктория Поплавская ЕвгенияМедв...</td>\n",
       "      <td>12</td>\n",
       "      <td>65</td>\n",
       "    </tr>\n",
       "    <tr>\n",
       "      <th>1</th>\n",
       "      <td>503385563</td>\n",
       "      <td>extreme</td>\n",
       "      <td>Возвращение в подземелье Треша 33 Эйфория тупо...</td>\n",
       "      <td>5</td>\n",
       "      <td>246</td>\n",
       "    </tr>\n",
       "    <tr>\n",
       "      <th>2</th>\n",
       "      <td>146016084</td>\n",
       "      <td>football</td>\n",
       "      <td>Лучшие чешские вратари – Доминик Доминатор Гаш...</td>\n",
       "      <td>6</td>\n",
       "      <td>704</td>\n",
       "    </tr>\n",
       "  </tbody>\n",
       "</table>\n",
       "</div>"
      ],
      "text/plain": [
       "         oid      category                                               text  \\\n",
       "0  365271984  winter_sport  Волшебные фото Виктория Поплавская ЕвгенияМедв...   \n",
       "1  503385563       extreme  Возвращение в подземелье Треша 33 Эйфория тупо...   \n",
       "2  146016084      football  Лучшие чешские вратари – Доминик Доминатор Гаш...   \n",
       "\n",
       "   category_le  length  \n",
       "0           12      65  \n",
       "1            5     246  \n",
       "2            6     704  "
      ]
     },
     "execution_count": 13,
     "metadata": {},
     "output_type": "execute_result"
    }
   ],
   "source": [
    "train_data['length'] = train_data['text'].str.len()\n",
    "train_data.head(3)"
   ]
  },
  {
   "cell_type": "code",
   "execution_count": 14,
   "id": "009ec26e",
   "metadata": {},
   "outputs": [
    {
     "data": {
      "image/png": "[encoded data removed]",
      "text/plain": [
       "<Figure size 640x480 with 1 Axes>"
      ]
     },
     "metadata": {},
     "output_type": "display_data"
    }
   ],
   "source": [
    "sns.histplot(data=train_data, x='length', bins=32, color='#b3d4ff')\n",
    "plt.grid(True)\n",
    "plt.title('Распределение Количества Символов', fontsize=14)\n",
    "plt.xlabel('Количество Символов', fontsize=14)\n",
    "plt.ylabel('Количество Предложений', fontsize=14)\n",
    "plt.show()"
   ]
  },
  {
   "cell_type": "markdown",
   "id": "fc72eba2",
   "metadata": {},
   "source": [
    "Как мы видим, распределение категорий довольно близко к равномерному. В таком случае можно использовать метрику `accuracy_score()` т.к. даже при выборе самого популярного класса точность будет достаточно низкой. Также не стоит забывать про метрику `score()`, предложенную создателями датасета. В любом случае, по своему механизму работы она похожа на `accuracy_score()`, так что мы ничего не теряем. Теперь посмотрим на самые популярные и менее популярные слова в текстах."
   ]
  },
  {
   "cell_type": "code",
   "execution_count": 15,
   "id": "9f90f9d5",
   "metadata": {},
   "outputs": [
    {
     "data": {
      "text/html": [
       "<div>\n",
       "<style scoped>\n",
       "    .dataframe tbody tr th:only-of-type {\n",
       "        vertical-align: middle;\n",
       "    }\n",
       "\n",
       "    .dataframe tbody tr th {\n",
       "        vertical-align: top;\n",
       "    }\n",
       "\n",
       "    .dataframe thead th {\n",
       "        text-align: right;\n",
       "    }\n",
       "</style>\n",
       "<table border=\"1\" class=\"dataframe\">\n",
       "  <thead>\n",
       "    <tr style=\"text-align: right;\">\n",
       "      <th></th>\n",
       "      <th>word</th>\n",
       "      <th>count</th>\n",
       "      <th>word</th>\n",
       "      <th>count</th>\n",
       "    </tr>\n",
       "  </thead>\n",
       "  <tbody>\n",
       "    <tr>\n",
       "      <th>0</th>\n",
       "      <td>на</td>\n",
       "      <td>39638</td>\n",
       "      <td>манипулировал</td>\n",
       "      <td>1</td>\n",
       "    </tr>\n",
       "    <tr>\n",
       "      <th>1</th>\n",
       "      <td>не</td>\n",
       "      <td>23635</td>\n",
       "      <td>мансабын</td>\n",
       "      <td>1</td>\n",
       "    </tr>\n",
       "    <tr>\n",
       "      <th>2</th>\n",
       "      <td>что</td>\n",
       "      <td>19917</td>\n",
       "      <td>мансап</td>\n",
       "      <td>1</td>\n",
       "    </tr>\n",
       "    <tr>\n",
       "      <th>3</th>\n",
       "      <td>33</td>\n",
       "      <td>19756</td>\n",
       "      <td>манфорд</td>\n",
       "      <td>1</td>\n",
       "    </tr>\n",
       "    <tr>\n",
       "      <th>4</th>\n",
       "      <td>по</td>\n",
       "      <td>14054</td>\n",
       "      <td>манси</td>\n",
       "      <td>1</td>\n",
       "    </tr>\n",
       "    <tr>\n",
       "      <th>5</th>\n",
       "      <td>за</td>\n",
       "      <td>11337</td>\n",
       "      <td>мануэля</td>\n",
       "      <td>1</td>\n",
       "    </tr>\n",
       "    <tr>\n",
       "      <th>6</th>\n",
       "      <td>это</td>\n",
       "      <td>10827</td>\n",
       "      <td>мануэлю</td>\n",
       "      <td>1</td>\n",
       "    </tr>\n",
       "    <tr>\n",
       "      <th>7</th>\n",
       "      <td>для</td>\n",
       "      <td>9919</td>\n",
       "      <td>мануэла</td>\n",
       "      <td>1</td>\n",
       "    </tr>\n",
       "    <tr>\n",
       "      <th>8</th>\n",
       "      <td>из</td>\n",
       "      <td>9508</td>\n",
       "      <td>мануальный</td>\n",
       "      <td>1</td>\n",
       "    </tr>\n",
       "    <tr>\n",
       "      <th>9</th>\n",
       "      <td>но</td>\n",
       "      <td>9212</td>\n",
       "      <td>мануалы</td>\n",
       "      <td>1</td>\n",
       "    </tr>\n",
       "    <tr>\n",
       "      <th>10</th>\n",
       "      <td>как</td>\n",
       "      <td>8540</td>\n",
       "      <td>мануала</td>\n",
       "      <td>1</td>\n",
       "    </tr>\n",
       "    <tr>\n",
       "      <th>11</th>\n",
       "      <td>мы</td>\n",
       "      <td>7755</td>\n",
       "      <td>мантуана</td>\n",
       "      <td>1</td>\n",
       "    </tr>\n",
       "    <tr>\n",
       "      <th>12</th>\n",
       "      <td>все</td>\n",
       "      <td>7677</td>\n",
       "      <td>мантуан</td>\n",
       "      <td>1</td>\n",
       "    </tr>\n",
       "    <tr>\n",
       "      <th>13</th>\n",
       "      <td>он</td>\n",
       "      <td>7371</td>\n",
       "      <td>мантикору</td>\n",
       "      <td>1</td>\n",
       "    </tr>\n",
       "    <tr>\n",
       "      <th>14</th>\n",
       "      <td>от</td>\n",
       "      <td>6381</td>\n",
       "      <td>мантикора</td>\n",
       "      <td>1</td>\n",
       "    </tr>\n",
       "    <tr>\n",
       "      <th>15</th>\n",
       "      <td>то</td>\n",
       "      <td>6172</td>\n",
       "      <td>мантика</td>\n",
       "      <td>1</td>\n",
       "    </tr>\n",
       "    <tr>\n",
       "      <th>16</th>\n",
       "      <td>до</td>\n",
       "      <td>5168</td>\n",
       "      <td>мансуровичем</td>\n",
       "      <td>1</td>\n",
       "    </tr>\n",
       "    <tr>\n",
       "      <th>17</th>\n",
       "      <td>будет</td>\n",
       "      <td>4750</td>\n",
       "      <td>мансурович</td>\n",
       "      <td>1</td>\n",
       "    </tr>\n",
       "    <tr>\n",
       "      <th>18</th>\n",
       "      <td>его</td>\n",
       "      <td>4666</td>\n",
       "      <td>мансуров</td>\n",
       "      <td>1</td>\n",
       "    </tr>\n",
       "    <tr>\n",
       "      <th>19</th>\n",
       "      <td>так</td>\n",
       "      <td>4493</td>\n",
       "      <td>мансури</td>\n",
       "      <td>1</td>\n",
       "    </tr>\n",
       "    <tr>\n",
       "      <th>20</th>\n",
       "      <td>после</td>\n",
       "      <td>4167</td>\n",
       "      <td>мансур</td>\n",
       "      <td>1</td>\n",
       "    </tr>\n",
       "    <tr>\n",
       "      <th>21</th>\n",
       "      <td>вы</td>\n",
       "      <td>4156</td>\n",
       "      <td>мансолдо</td>\n",
       "      <td>1</td>\n",
       "    </tr>\n",
       "    <tr>\n",
       "      <th>22</th>\n",
       "      <td>2022</td>\n",
       "      <td>4150</td>\n",
       "      <td>мансийским</td>\n",
       "      <td>1</td>\n",
       "    </tr>\n",
       "    <tr>\n",
       "      <th>23</th>\n",
       "      <td>tokentokenoid</td>\n",
       "      <td>4144</td>\n",
       "      <td>мансийский</td>\n",
       "      <td>1</td>\n",
       "    </tr>\n",
       "    <tr>\n",
       "      <th>24</th>\n",
       "      <td>если</td>\n",
       "      <td>4101</td>\n",
       "      <td>龍王</td>\n",
       "      <td>1</td>\n",
       "    </tr>\n",
       "  </tbody>\n",
       "</table>\n",
       "</div>"
      ],
      "text/plain": [
       "             word  count           word  count\n",
       "0              на  39638  манипулировал      1\n",
       "1              не  23635       мансабын      1\n",
       "2             что  19917         мансап      1\n",
       "3              33  19756        манфорд      1\n",
       "4              по  14054          манси      1\n",
       "5              за  11337        мануэля      1\n",
       "6             это  10827        мануэлю      1\n",
       "7             для   9919        мануэла      1\n",
       "8              из   9508     мануальный      1\n",
       "9              но   9212        мануалы      1\n",
       "10            как   8540        мануала      1\n",
       "11             мы   7755       мантуана      1\n",
       "12            все   7677        мантуан      1\n",
       "13             он   7371      мантикору      1\n",
       "14             от   6381      мантикора      1\n",
       "15             то   6172        мантика      1\n",
       "16             до   5168   мансуровичем      1\n",
       "17          будет   4750     мансурович      1\n",
       "18            его   4666       мансуров      1\n",
       "19            так   4493        мансури      1\n",
       "20          после   4167         мансур      1\n",
       "21             вы   4156       мансолдо      1\n",
       "22           2022   4150     мансийским      1\n",
       "23  tokentokenoid   4144     мансийский      1\n",
       "24           если   4101             龍王      1"
      ]
     },
     "execution_count": 15,
     "metadata": {},
     "output_type": "execute_result"
    }
   ],
   "source": [
    "word_list = re.findall(r'\\b\\w{2,}\\b', ' '.join(train_data.text.to_numpy()).lower())\n",
    "df = pd.DataFrame(word_list, columns=['word']).groupby('word').size()\n",
    "df = df.reset_index(name='count').sort_values('count', ascending=False)\n",
    "pd.concat([df.head(25).reset_index(drop=True), df.tail(25).reset_index(drop=True)], axis=1)"
   ]
  },
  {
   "cell_type": "markdown",
   "id": "6b06e78e",
   "metadata": {},
   "source": [
    "В дополнение ко всему, нужно исключить слова, которые не неут никакой смысловой нагрузки. Для этого используем библиотеку `nltk` и `nltk.corpus.stopwords`."
   ]
  },
  {
   "cell_type": "code",
   "execution_count": 16,
   "id": "b0bb1b85",
   "metadata": {},
   "outputs": [
    {
     "name": "stderr",
     "output_type": "stream",
     "text": [
      "[nltk_data] Downloading package stopwords to /Users/admin/nltk_data...\n",
      "[nltk_data]   Package stopwords is already up-to-date!\n"
     ]
    },
    {
     "data": {
      "text/plain": [
       "(['и', 'в', 'во', 'не', 'что', 'он', 'на', 'я', 'с', 'со'], 258)"
      ]
     },
     "execution_count": 16,
     "metadata": {},
     "output_type": "execute_result"
    }
   ],
   "source": [
    "nltk.download('stopwords')\n",
    "russian_stopwords = stopwords.words('russian')\n",
    "russian_stopwords.extend(np.arange(0, 100).astype(str))  # исключим числа\n",
    "russian_stopwords.extend(['00', '000', 'tokentokenoid', 'rtokenoid', 'tokenoid', 'tokenoidtokenoid', 'votokenoid'])\n",
    "russian_stopwords[:10], len(russian_stopwords)"
   ]
  },
  {
   "cell_type": "code",
   "execution_count": 17,
   "id": "4ac08f1e",
   "metadata": {},
   "outputs": [
    {
     "data": {
      "application/vnd.plotly.v1+json": {
       "config": {
        "plotlyServerURL": "https://plot.ly"
       },
       "data": [
        {
         "branchvalues": "total",
         "domain": {
          "x": [
           0,
           1
          ],
          "y": [
           0,
           1
          ]
         },
         "hovertemplate": "labels=%{label}<br>count=%{value}<br>parent=%{parent}<br>id=%{id}<extra></extra>",
         "ids": [
          "100",
          "2021",
          "2022",
          "2023",
          "atokenoid",
          "btokenoid",
          "dtokenoid",
          "ftokenoid",
          "hotokenoid",
          "motoektokenoid",
          "motogp",
          "mtokenoid",
          "open",
          "ratokenoid",
          "speetokenoid",
          "stokenoid",
          "tetokenoid",
          "ufc",
          "августа",
          "александр",
          "бег",
          "бой",
          "большой",
          "будем",
          "буду",
          "будут",
          "видео",
          "вместе",
          "возможно",
          "возможность",
          "волейбол",
          "вообще",
          "вопрос",
          "воскресенье",
          "впервые",
          "времени",
          "время",
          "всем",
          "второй",
          "выиграл",
          "главный",
          "го",
          "год",
          "года",
          "году",
          "гонка",
          "гонке",
          "гонки",
          "готов",
          "гран",
          "группы",
          "даниил",
          "две",
          "двух",
          "делать",
          "день",
          "динамо",
          "дистанции",
          "дней",
          "днем",
          "дня",
          "должен",
          "должны",
          "дорогие",
          "другие",
          "других",
          "друзья",
          "думаю",
          "ждем",
          "жизни",
          "забег",
          "завтра",
          "затем",
          "заявил",
          "знаю",
          "зож",
          "игр",
          "игра",
          "играть",
          "игре",
          "игрок",
          "игрока",
          "игроков",
          "игру",
          "игры",
          "именно",
          "интервью",
          "истории",
          "июля",
          "июня",
          "каждый",
          "какие",
          "карьеру",
          "клуб",
          "клуба",
          "км",
          "кого",
          "количество",
          "команд",
          "команда",
          "команде",
          "команду",
          "команды",
          "комментариях",
          "контракт",
          "конца",
          "которая",
          "которого",
          "которой",
          "которые",
          "который",
          "которых",
          "кроме",
          "круг",
          "кубка",
          "кубок",
          "лет",
          "летний",
          "либо",
          "лиги",
          "лишь",
          "лучший",
          "лучших",
          "людей",
          "люди",
          "марта",
          "матч",
          "матча",
          "матче",
          "матчей",
          "мая",
          "медведев",
          "места",
          "место",
          "минут",
          "мира",
          "мог",
          "могу",
          "могут",
          "можете",
          "момент",
          "мск",
          "назад",
          "нам",
          "начало",
          "наш",
          "нашей",
          "наши",
          "наших",
          "нба",
          "немного",
          "несколько",
          "новые",
          "новый",
          "новых",
          "нужно",
          "нхл",
          "однако",
          "одной",
          "октября",
          "онлайн",
          "офф",
          "очень",
          "очков",
          "первого",
          "первой",
          "первом",
          "первый",
          "плей",
          "победу",
          "победы",
          "поздравляем",
          "пока",
          "получил",
          "получить",
          "последний",
          "почему",
          "поэтому",
          "привет",
          "провел",
          "пройдет",
          "просто",
          "против",
          "работать",
          "работы",
          "ранее",
          "рассказал",
          "результат",
          "результаты",
          "решение",
          "рождения",
          "россии",
          "россия",
          "руб",
          "рублей",
          "сайт",
          "сайте",
          "самое",
          "самый",
          "самых",
          "сборной",
          "свое",
          "своего",
          "своей",
          "свои",
          "своим",
          "своих",
          "свой",
          "сделать",
          "сегодня",
          "сезон",
          "сезона",
          "сезоне",
          "сентября",
          "сергей",
          "серии",
          "сказал",
          "сказать",
          "слова",
          "случае",
          "снова",
          "соревнований",
          "состав",
          "составе",
          "состоится",
          "спасибо",
          "спорт",
          "спорта",
          "спортсменов",
          "сразу",
          "среди",
          "ссылке",
          "стал",
          "станет",
          "старт",
          "стать",
          "стоит",
          "счет",
          "счетом",
          "сша",
          "также",
          "такие",
          "тебе",
          "тех",
          "титул",
          "топ",
          "трансляции",
          "трансляция",
          "тренер",
          "тренировки",
          "турнир",
          "турнира",
          "турнире",
          "участие",
          "участников",
          "февраля",
          "финал",
          "финала",
          "фото",
          "хотя",
          "хочет",
          "хочу",
          "цена",
          "часть",
          "человек",
          "чемпион",
          "чемпионат",
          "чемпионата",
          "чемпионате",
          "этап",
          "этапа",
          "этим",
          "это",
          "этому",
          "является"
         ],
         "labels": [
          "100",
          "2021",
          "2022",
          "2023",
          "atokenoid",
          "btokenoid",
          "dtokenoid",
          "ftokenoid",
          "hotokenoid",
          "motoektokenoid",
          "motogp",
          "mtokenoid",
          "open",
          "ratokenoid",
          "speetokenoid",
          "stokenoid",
          "tetokenoid",
          "ufc",
          "августа",
          "александр",
          "бег",
          "бой",
          "большой",
          "будем",
          "буду",
          "будут",
          "видео",
          "вместе",
          "возможно",
          "возможность",
          "волейбол",
          "вообще",
          "вопрос",
          "воскресенье",
          "впервые",
          "времени",
          "время",
          "всем",
          "второй",
          "выиграл",
          "главный",
          "го",
          "год",
          "года",
          "году",
          "гонка",
          "гонке",
          "гонки",
          "готов",
          "гран",
          "группы",
          "даниил",
          "две",
          "двух",
          "делать",
          "день",
          "динамо",
          "дистанции",
          "дней",
          "днем",
          "дня",
          "должен",
          "должны",
          "дорогие",
          "другие",
          "других",
          "друзья",
          "думаю",
          "ждем",
          "жизни",
          "забег",
          "завтра",
          "затем",
          "заявил",
          "знаю",
          "зож",
          "игр",
          "игра",
          "играть",
          "игре",
          "игрок",
          "игрока",
          "игроков",
          "игру",
          "игры",
          "именно",
          "интервью",
          "истории",
          "июля",
          "июня",
          "каждый",
          "какие",
          "карьеру",
          "клуб",
          "клуба",
          "км",
          "кого",
          "количество",
          "команд",
          "команда",
          "команде",
          "команду",
          "команды",
          "комментариях",
          "контракт",
          "конца",
          "которая",
          "которого",
          "которой",
          "которые",
          "который",
          "которых",
          "кроме",
          "круг",
          "кубка",
          "кубок",
          "лет",
          "летний",
          "либо",
          "лиги",
          "лишь",
          "лучший",
          "лучших",
          "людей",
          "люди",
          "марта",
          "матч",
          "матча",
          "матче",
          "матчей",
          "мая",
          "медведев",
          "места",
          "место",
          "минут",
          "мира",
          "мог",
          "могу",
          "могут",
          "можете",
          "момент",
          "мск",
          "назад",
          "нам",
          "начало",
          "наш",
          "нашей",
          "наши",
          "наших",
          "нба",
          "немного",
          "несколько",
          "новые",
          "новый",
          "новых",
          "нужно",
          "нхл",
          "однако",
          "одной",
          "октября",
          "онлайн",
          "офф",
          "очень",
          "очков",
          "первого",
          "первой",
          "первом",
          "первый",
          "плей",
          "победу",
          "победы",
          "поздравляем",
          "пока",
          "получил",
          "получить",
          "последний",
          "почему",
          "поэтому",
          "привет",
          "провел",
          "пройдет",
          "просто",
          "против",
          "работать",
          "работы",
          "ранее",
          "рассказал",
          "результат",
          "результаты",
          "решение",
          "рождения",
          "россии",
          "россия",
          "руб",
          "рублей",
          "сайт",
          "сайте",
          "самое",
          "самый",
          "самых",
          "сборной",
          "свое",
          "своего",
          "своей",
          "свои",
          "своим",
          "своих",
          "свой",
          "сделать",
          "сегодня",
          "сезон",
          "сезона",
          "сезоне",
          "сентября",
          "сергей",
          "серии",
          "сказал",
          "сказать",
          "слова",
          "случае",
          "снова",
          "соревнований",
          "состав",
          "составе",
          "состоится",
          "спасибо",
          "спорт",
          "спорта",
          "спортсменов",
          "сразу",
          "среди",
          "ссылке",
          "стал",
          "станет",
          "старт",
          "стать",
          "стоит",
          "счет",
          "счетом",
          "сша",
          "также",
          "такие",
          "тебе",
          "тех",
          "титул",
          "топ",
          "трансляции",
          "трансляция",
          "тренер",
          "тренировки",
          "турнир",
          "турнира",
          "турнире",
          "участие",
          "участников",
          "февраля",
          "финал",
          "финала",
          "фото",
          "хотя",
          "хочет",
          "хочу",
          "цена",
          "часть",
          "человек",
          "чемпион",
          "чемпионат",
          "чемпионата",
          "чемпионате",
          "этап",
          "этапа",
          "этим",
          "это",
          "этому",
          "является"
         ],
         "name": "",
         "parents": [
          "",
          "",
          "",
          "",
          "",
          "",
          "",
          "",
          "",
          "",
          "",
          "",
          "",
          "",
          "",
          "",
          "",
          "",
          "",
          "",
          "",
          "",
          "",
          "",
          "",
          "",
          "",
          "",
          "",
          "",
          "",
          "",
          "",
          "",
          "",
          "",
          "",
          "",
          "",
          "",
          "",
          "",
          "",
          "",
          "",
          "",
          "",
          "",
          "",
          "",
          "",
          "",
          "",
          "",
          "",
          "",
          "",
          "",
          "",
          "",
          "",
          "",
          "",
          "",
          "",
          "",
          "",
          "",
          "",
          "",
          "",
          "",
          "",
          "",
          "",
          "",
          "",
          "",
          "",
          "",
          "",
          "",
          "",
          "",
          "",
          "",
          "",
          "",
          "",
          "",
          "",
          "",
          "",
          "",
          "",
          "",
          "",
          "",
          "",
          "",
          "",
          "",
          "",
          "",
          "",
          "",
          "",
          "",
          "",
          "",
          "",
          "",
          "",
          "",
          "",
          "",
          "",
          "",
          "",
          "",
          "",
          "",
          "",
          "",
          "",
          "",
          "",
          "",
          "",
          "",
          "",
          "",
          "",
          "",
          "",
          "",
          "",
          "",
          "",
          "",
          "",
          "",
          "",
          "",
          "",
          "",
          "",
          "",
          "",
          "",
          "",
          "",
          "",
          "",
          "",
          "",
          "",
          "",
          "",
          "",
          "",
          "",
          "",
          "",
          "",
          "",
          "",
          "",
          "",
          "",
          "",
          "",
          "",
          "",
          "",
          "",
          "",
          "",
          "",
          "",
          "",
          "",
          "",
          "",
          "",
          "",
          "",
          "",
          "",
          "",
          "",
          "",
          "",
          "",
          "",
          "",
          "",
          "",
          "",
          "",
          "",
          "",
          "",
          "",
          "",
          "",
          "",
          "",
          "",
          "",
          "",
          "",
          "",
          "",
          "",
          "",
          "",
          "",
          "",
          "",
          "",
          "",
          "",
          "",
          "",
          "",
          "",
          "",
          "",
          "",
          "",
          "",
          "",
          "",
          "",
          "",
          "",
          "",
          "",
          "",
          "",
          "",
          "",
          "",
          "",
          "",
          "",
          "",
          "",
          "",
          "",
          "",
          "",
          "",
          "",
          "",
          "",
          "",
          "",
          "",
          "",
          "",
          "",
          "",
          "",
          "",
          "",
          "",
          "",
          "",
          "",
          "",
          "",
          "",
          ""
         ],
         "type": "treemap",
         "values": [
          780,
          882,
          4150,
          577,
          1121,
          841,
          715,
          867,
          898,
          555,
          1519,
          594,
          592,
          929,
          520,
          1121,
          988,
          743,
          544,
          1058,
          1713,
          911,
          572,
          656,
          611,
          1478,
          1402,
          878,
          565,
          644,
          542,
          583,
          693,
          500,
          521,
          980,
          3279,
          2049,
          1162,
          543,
          575,
          709,
          1107,
          3373,
          2071,
          651,
          639,
          1128,
          507,
          1534,
          744,
          592,
          596,
          783,
          681,
          2233,
          1107,
          501,
          562,
          515,
          1047,
          758,
          676,
          567,
          534,
          582,
          1339,
          946,
          506,
          750,
          891,
          647,
          516,
          573,
          644,
          672,
          874,
          1108,
          874,
          786,
          754,
          541,
          943,
          973,
          1962,
          887,
          607,
          776,
          571,
          534,
          968,
          645,
          506,
          677,
          642,
          923,
          610,
          568,
          771,
          1561,
          890,
          776,
          2522,
          535,
          806,
          516,
          858,
          521,
          640,
          2117,
          2361,
          697,
          548,
          529,
          1006,
          529,
          2020,
          565,
          588,
          863,
          594,
          626,
          513,
          520,
          550,
          552,
          2012,
          1347,
          1242,
          878,
          497,
          534,
          528,
          2265,
          706,
          2914,
          499,
          587,
          724,
          552,
          950,
          974,
          594,
          1431,
          787,
          955,
          899,
          816,
          743,
          511,
          684,
          1062,
          621,
          1044,
          520,
          1768,
          506,
          664,
          538,
          535,
          517,
          700,
          3569,
          1166,
          602,
          708,
          609,
          1268,
          731,
          996,
          685,
          801,
          1248,
          529,
          575,
          505,
          851,
          1376,
          589,
          650,
          685,
          2081,
          1622,
          541,
          586,
          617,
          678,
          618,
          802,
          619,
          747,
          3021,
          620,
          515,
          811,
          673,
          583,
          534,
          565,
          537,
          985,
          588,
          629,
          1029,
          958,
          672,
          716,
          1394,
          978,
          2918,
          1289,
          1694,
          1502,
          572,
          680,
          1000,
          1302,
          531,
          559,
          514,
          652,
          712,
          553,
          576,
          550,
          1015,
          1513,
          897,
          580,
          698,
          905,
          663,
          1438,
          673,
          687,
          625,
          549,
          682,
          548,
          695,
          2438,
          503,
          564,
          580,
          689,
          744,
          632,
          566,
          963,
          649,
          791,
          1457,
          746,
          1003,
          604,
          556,
          948,
          571,
          1342,
          638,
          537,
          782,
          736,
          544,
          715,
          1113,
          958,
          1519,
          713,
          753,
          512,
          690,
          10827,
          611,
          688
         ]
        }
       ],
       "layout": {
        "legend": {
         "tracegroupgap": 0
        },
        "margin": {
         "t": 60
        },
        "template": {
         "data": {
          "bar": [
           {
            "error_x": {
             "color": "#2a3f5f"
            },
            "error_y": {
             "color": "#2a3f5f"
            },
            "marker": {
             "line": {
              "color": "#E5ECF6",
              "width": 0.5
             },
             "pattern": {
              "fillmode": "overlay",
              "size": 10,
              "solidity": 0.2
             }
            },
            "type": "bar"
           }
          ],
          "barpolar": [
           {
            "marker": {
             "line": {
              "color": "#E5ECF6",
              "width": 0.5
             },
             "pattern": {
              "fillmode": "overlay",
              "size": 10,
              "solidity": 0.2
             }
            },
            "type": "barpolar"
           }
          ],
          "carpet": [
           {
            "aaxis": {
             "endlinecolor": "#2a3f5f",
             "gridcolor": "white",
             "linecolor": "white",
             "minorgridcolor": "white",
             "startlinecolor": "#2a3f5f"
            },
            "baxis": {
             "endlinecolor": "#2a3f5f",
             "gridcolor": "white",
             "linecolor": "white",
             "minorgridcolor": "white",
             "startlinecolor": "#2a3f5f"
            },
            "type": "carpet"
           }
          ],
          "choropleth": [
           {
            "colorbar": {
             "outlinewidth": 0,
             "ticks": ""
            },
            "type": "choropleth"
           }
          ],
          "contour": [
           {
            "colorbar": {
             "outlinewidth": 0,
             "ticks": ""
            },
            "colorscale": [
             [
              0,
              "#0d0887"
             ],
             [
              0.1111111111111111,
              "#46039f"
             ],
             [
              0.2222222222222222,
              "#7201a8"
             ],
             [
              0.3333333333333333,
              "#9c179e"
             ],
             [
              0.4444444444444444,
              "#bd3786"
             ],
             [
              0.5555555555555556,
              "#d8576b"
             ],
             [
              0.6666666666666666,
              "#ed7953"
             ],
             [
              0.7777777777777778,
              "#fb9f3a"
             ],
             [
              0.8888888888888888,
              "#fdca26"
             ],
             [
              1,
              "#f0f921"
             ]
            ],
            "type": "contour"
           }
          ],
          "contourcarpet": [
           {
            "colorbar": {
             "outlinewidth": 0,
             "ticks": ""
            },
            "type": "contourcarpet"
           }
          ],
          "heatmap": [
           {
            "colorbar": {
             "outlinewidth": 0,
             "ticks": ""
            },
            "colorscale": [
             [
              0,
              "#0d0887"
             ],
             [
              0.1111111111111111,
              "#46039f"
             ],
             [
              0.2222222222222222,
              "#7201a8"
             ],
             [
              0.3333333333333333,
              "#9c179e"
             ],
             [
              0.4444444444444444,
              "#bd3786"
             ],
             [
              0.5555555555555556,
              "#d8576b"
             ],
             [
              0.6666666666666666,
              "#ed7953"
             ],
             [
              0.7777777777777778,
              "#fb9f3a"
             ],
             [
              0.8888888888888888,
              "#fdca26"
             ],
             [
              1,
              "#f0f921"
             ]
            ],
            "type": "heatmap"
           }
          ],
          "heatmapgl": [
           {
            "colorbar": {
             "outlinewidth": 0,
             "ticks": ""
            },
            "colorscale": [
             [
              0,
              "#0d0887"
             ],
             [
              0.1111111111111111,
              "#46039f"
             ],
             [
              0.2222222222222222,
              "#7201a8"
             ],
             [
              0.3333333333333333,
              "#9c179e"
             ],
             [
              0.4444444444444444,
              "#bd3786"
             ],
             [
              0.5555555555555556,
              "#d8576b"
             ],
             [
              0.6666666666666666,
              "#ed7953"
             ],
             [
              0.7777777777777778,
              "#fb9f3a"
             ],
             [
              0.8888888888888888,
              "#fdca26"
             ],
             [
              1,
              "#f0f921"
             ]
            ],
            "type": "heatmapgl"
           }
          ],
          "histogram": [
           {
            "marker": {
             "pattern": {
              "fillmode": "overlay",
              "size": 10,
              "solidity": 0.2
             }
            },
            "type": "histogram"
           }
          ],
          "histogram2d": [
           {
            "colorbar": {
             "outlinewidth": 0,
             "ticks": ""
            },
            "colorscale": [
             [
              0,
              "#0d0887"
             ],
             [
              0.1111111111111111,
              "#46039f"
             ],
             [
              0.2222222222222222,
              "#7201a8"
             ],
             [
              0.3333333333333333,
              "#9c179e"
             ],
             [
              0.4444444444444444,
              "#bd3786"
             ],
             [
              0.5555555555555556,
              "#d8576b"
             ],
             [
              0.6666666666666666,
              "#ed7953"
             ],
             [
              0.7777777777777778,
              "#fb9f3a"
             ],
             [
              0.8888888888888888,
              "#fdca26"
             ],
             [
              1,
              "#f0f921"
             ]
            ],
            "type": "histogram2d"
           }
          ],
          "histogram2dcontour": [
           {
            "colorbar": {
             "outlinewidth": 0,
             "ticks": ""
            },
            "colorscale": [
             [
              0,
              "#0d0887"
             ],
             [
              0.1111111111111111,
              "#46039f"
             ],
             [
              0.2222222222222222,
              "#7201a8"
             ],
             [
              0.3333333333333333,
              "#9c179e"
             ],
             [
              0.4444444444444444,
              "#bd3786"
             ],
             [
              0.5555555555555556,
              "#d8576b"
             ],
             [
              0.6666666666666666,
              "#ed7953"
             ],
             [
              0.7777777777777778,
              "#fb9f3a"
             ],
             [
              0.8888888888888888,
              "#fdca26"
             ],
             [
              1,
              "#f0f921"
             ]
            ],
            "type": "histogram2dcontour"
           }
          ],
          "mesh3d": [
           {
            "colorbar": {
             "outlinewidth": 0,
             "ticks": ""
            },
            "type": "mesh3d"
           }
          ],
          "parcoords": [
           {
            "line": {
             "colorbar": {
              "outlinewidth": 0,
              "ticks": ""
             }
            },
            "type": "parcoords"
           }
          ],
          "pie": [
           {
            "automargin": true,
            "type": "pie"
           }
          ],
          "scatter": [
           {
            "fillpattern": {
             "fillmode": "overlay",
             "size": 10,
             "solidity": 0.2
            },
            "type": "scatter"
           }
          ],
          "scatter3d": [
           {
            "line": {
             "colorbar": {
              "outlinewidth": 0,
              "ticks": ""
             }
            },
            "marker": {
             "colorbar": {
              "outlinewidth": 0,
              "ticks": ""
             }
            },
            "type": "scatter3d"
           }
          ],
          "scattercarpet": [
           {
            "marker": {
             "colorbar": {
              "outlinewidth": 0,
              "ticks": ""
             }
            },
            "type": "scattercarpet"
           }
          ],
          "scattergeo": [
           {
            "marker": {
             "colorbar": {
              "outlinewidth": 0,
              "ticks": ""
             }
            },
            "type": "scattergeo"
           }
          ],
          "scattergl": [
           {
            "marker": {
             "colorbar": {
              "outlinewidth": 0,
              "ticks": ""
             }
            },
            "type": "scattergl"
           }
          ],
          "scattermapbox": [
           {
            "marker": {
             "colorbar": {
              "outlinewidth": 0,
              "ticks": ""
             }
            },
            "type": "scattermapbox"
           }
          ],
          "scatterpolar": [
           {
            "marker": {
             "colorbar": {
              "outlinewidth": 0,
              "ticks": ""
             }
            },
            "type": "scatterpolar"
           }
          ],
          "scatterpolargl": [
           {
            "marker": {
             "colorbar": {
              "outlinewidth": 0,
              "ticks": ""
             }
            },
            "type": "scatterpolargl"
           }
          ],
          "scatterternary": [
           {
            "marker": {
             "colorbar": {
              "outlinewidth": 0,
              "ticks": ""
             }
            },
            "type": "scatterternary"
           }
          ],
          "surface": [
           {
            "colorbar": {
             "outlinewidth": 0,
             "ticks": ""
            },
            "colorscale": [
             [
              0,
              "#0d0887"
             ],
             [
              0.1111111111111111,
              "#46039f"
             ],
             [
              0.2222222222222222,
              "#7201a8"
             ],
             [
              0.3333333333333333,
              "#9c179e"
             ],
             [
              0.4444444444444444,
              "#bd3786"
             ],
             [
              0.5555555555555556,
              "#d8576b"
             ],
             [
              0.6666666666666666,
              "#ed7953"
             ],
             [
              0.7777777777777778,
              "#fb9f3a"
             ],
             [
              0.8888888888888888,
              "#fdca26"
             ],
             [
              1,
              "#f0f921"
             ]
            ],
            "type": "surface"
           }
          ],
          "table": [
           {
            "cells": {
             "fill": {
              "color": "#EBF0F8"
             },
             "line": {
              "color": "white"
             }
            },
            "header": {
             "fill": {
              "color": "#C8D4E3"
             },
             "line": {
              "color": "white"
             }
            },
            "type": "table"
           }
          ]
         },
         "layout": {
          "annotationdefaults": {
           "arrowcolor": "#2a3f5f",
           "arrowhead": 0,
           "arrowwidth": 1
          },
          "autotypenumbers": "strict",
          "coloraxis": {
           "colorbar": {
            "outlinewidth": 0,
            "ticks": ""
           }
          },
          "colorscale": {
           "diverging": [
            [
             0,
             "#8e0152"
            ],
            [
             0.1,
             "#c51b7d"
            ],
            [
             0.2,
             "#de77ae"
            ],
            [
             0.3,
             "#f1b6da"
            ],
            [
             0.4,
             "#fde0ef"
            ],
            [
             0.5,
             "#f7f7f7"
            ],
            [
             0.6,
             "#e6f5d0"
            ],
            [
             0.7,
             "#b8e186"
            ],
            [
             0.8,
             "#7fbc41"
            ],
            [
             0.9,
             "#4d9221"
            ],
            [
             1,
             "#276419"
            ]
           ],
           "sequential": [
            [
             0,
             "#0d0887"
            ],
            [
             0.1111111111111111,
             "#46039f"
            ],
            [
             0.2222222222222222,
             "#7201a8"
            ],
            [
             0.3333333333333333,
             "#9c179e"
            ],
            [
             0.4444444444444444,
             "#bd3786"
            ],
            [
             0.5555555555555556,
             "#d8576b"
            ],
            [
             0.6666666666666666,
             "#ed7953"
            ],
            [
             0.7777777777777778,
             "#fb9f3a"
            ],
            [
             0.8888888888888888,
             "#fdca26"
            ],
            [
             1,
             "#f0f921"
            ]
           ],
           "sequentialminus": [
            [
             0,
             "#0d0887"
            ],
            [
             0.1111111111111111,
             "#46039f"
            ],
            [
             0.2222222222222222,
             "#7201a8"
            ],
            [
             0.3333333333333333,
             "#9c179e"
            ],
            [
             0.4444444444444444,
             "#bd3786"
            ],
            [
             0.5555555555555556,
             "#d8576b"
            ],
            [
             0.6666666666666666,
             "#ed7953"
            ],
            [
             0.7777777777777778,
             "#fb9f3a"
            ],
            [
             0.8888888888888888,
             "#fdca26"
            ],
            [
             1,
             "#f0f921"
            ]
           ]
          },
          "colorway": [
           "#636efa",
           "#EF553B",
           "#00cc96",
           "#ab63fa",
           "#FFA15A",
           "#19d3f3",
           "#FF6692",
           "#B6E880",
           "#FF97FF",
           "#FECB52"
          ],
          "font": {
           "color": "#2a3f5f"
          },
          "geo": {
           "bgcolor": "white",
           "lakecolor": "white",
           "landcolor": "#E5ECF6",
           "showlakes": true,
           "showland": true,
           "subunitcolor": "white"
          },
          "hoverlabel": {
           "align": "left"
          },
          "hovermode": "closest",
          "mapbox": {
           "style": "light"
          },
          "paper_bgcolor": "white",
          "plot_bgcolor": "#E5ECF6",
          "polar": {
           "angularaxis": {
            "gridcolor": "white",
            "linecolor": "white",
            "ticks": ""
           },
           "bgcolor": "#E5ECF6",
           "radialaxis": {
            "gridcolor": "white",
            "linecolor": "white",
            "ticks": ""
           }
          },
          "scene": {
           "xaxis": {
            "backgroundcolor": "#E5ECF6",
            "gridcolor": "white",
            "gridwidth": 2,
            "linecolor": "white",
            "showbackground": true,
            "ticks": "",
            "zerolinecolor": "white"
           },
           "yaxis": {
            "backgroundcolor": "#E5ECF6",
            "gridcolor": "white",
            "gridwidth": 2,
            "linecolor": "white",
            "showbackground": true,
            "ticks": "",
            "zerolinecolor": "white"
           },
           "zaxis": {
            "backgroundcolor": "#E5ECF6",
            "gridcolor": "white",
            "gridwidth": 2,
            "linecolor": "white",
            "showbackground": true,
            "ticks": "",
            "zerolinecolor": "white"
           }
          },
          "shapedefaults": {
           "line": {
            "color": "#2a3f5f"
           }
          },
          "ternary": {
           "aaxis": {
            "gridcolor": "white",
            "linecolor": "white",
            "ticks": ""
           },
           "baxis": {
            "gridcolor": "white",
            "linecolor": "white",
            "ticks": ""
           },
           "bgcolor": "#E5ECF6",
           "caxis": {
            "gridcolor": "white",
            "linecolor": "white",
            "ticks": ""
           }
          },
          "title": {
           "x": 0.05
          },
          "xaxis": {
           "automargin": true,
           "gridcolor": "white",
           "linecolor": "white",
           "ticks": "",
           "title": {
            "standoff": 15
           },
           "zerolinecolor": "white",
           "zerolinewidth": 2
          },
          "yaxis": {
           "automargin": true,
           "gridcolor": "white",
           "linecolor": "white",
           "ticks": "",
           "title": {
            "standoff": 15
           },
           "zerolinecolor": "white",
           "zerolinewidth": 2
          }
         }
        }
       }
      }
     },
     "metadata": {},
     "output_type": "display_data"
    }
   ],
   "source": [
    "fig = px.treemap(df[~df.word.isin(russian_stopwords)].head(275), path=['word'], values='count')\n",
    "fig.show()"
   ]
  },
  {
   "cell_type": "markdown",
   "id": "8df66381",
   "metadata": {},
   "source": [
    "Одними из самых популярных слов оказались предлоги, они не влияют на качество классификации, так как присутствуют в большинстве классов. Они являются шумом, и их можно удалить."
   ]
  },
  {
   "cell_type": "code",
   "execution_count": 18,
   "id": "ba514498",
   "metadata": {},
   "outputs": [
    {
     "data": {
      "image/png": "[encoded data removed]",
      "text/plain": [
       "<Figure size 640x480 with 1 Axes>"
      ]
     },
     "metadata": {},
     "output_type": "display_data"
    }
   ],
   "source": [
    "sns.histplot(x=np.log2(df['count']), bins=24, color='#b3d4ff')\n",
    "plt.xticks(np.arange(0, 16, 1))\n",
    "\n",
    "plt.title('Распределение Слов по Частоте Употребления', fontsize=14)\n",
    "plt.xlabel('Логарифм количества употреблений слов (X)', fontsize=14)\n",
    "plt.ylabel('Количество слов употреблёных 2^X раз', fontsize=14)\n",
    "plt.grid(True, which='minor')\n",
    "\n",
    "plt.show()"
   ]
  },
  {
   "cell_type": "markdown",
   "id": "2723b8ed",
   "metadata": {},
   "source": [
    "Большинство слов используются всего 1-4 раз."
   ]
  },
  {
   "cell_type": "markdown",
   "id": "3f22d270",
   "metadata": {},
   "source": [
    "Теперь посмотрим на распределение количества символов для каждого класса"
   ]
  },
  {
   "cell_type": "code",
   "execution_count": 19,
   "id": "f2e54f75",
   "metadata": {},
   "outputs": [
    {
     "data": {
      "image/png": "[encoded data removed]",
      "text/plain": [
       "<Figure size 1200x600 with 1 Axes>"
      ]
     },
     "metadata": {},
     "output_type": "display_data"
    }
   ],
   "source": [
    "plt.figure(figsize=(12, 6))\n",
    "sns.boxplot(data=train_data, x='category', y='length', hue='category', color='#b3d4ff', palette='dark:#b3d4ff')\n",
    "\n",
    "plt.title('Количество Символов в Предложених', fontsize=14)\n",
    "plt.xlabel('Класс', fontsize=14)\n",
    "plt.ylabel('Количество Символов', fontsize=14)\n",
    "plt.xticks(rotation=45)\n",
    "\n",
    "plt.show()"
   ]
  },
  {
   "cell_type": "code",
   "execution_count": 21,
   "id": "83c007d8",
   "metadata": {},
   "outputs": [
    {
     "data": {
      "text/plain": [
       "(['и', 'в', 'во', 'не', 'что', 'он', 'на', 'я', 'с', 'со'], 156)"
      ]
     },
     "execution_count": 21,
     "metadata": {},
     "output_type": "execute_result"
    }
   ],
   "source": [
    "russian_stopwords = stopwords.words('russian')\n",
    "russian_stopwords.extend(['tokentokenoid', 'rtokenoid', 'tokenoid', 'tokenoidtokenoid', 'votokenoid'])\n",
    "russian_stopwords[:10], len(russian_stopwords)"
   ]
  },
  {
   "cell_type": "code",
   "execution_count": 20,
   "id": "a193634c",
   "metadata": {},
   "outputs": [],
   "source": [
    "segmenter = Segmenter()\n",
    "morph_vocab = MorphVocab()\n",
    "\n",
    "emb = NewsEmbedding()\n",
    "morph_tagger = NewsMorphTagger(emb)\n",
    "syntax_parser = NewsSyntaxParser(emb)\n",
    "ner_tagger = NewsNERTagger(emb)\n",
    "\n",
    "names_extractor = NamesExtractor(morph_vocab)\n",
    "dates_extractor = DatesExtractor(morph_vocab)\n",
    "money_extractor = MoneyExtractor(morph_vocab)\n",
    "addr_extractor = AddrExtractor(morph_vocab)"
   ]
  },
  {
   "cell_type": "code",
   "execution_count": 22,
   "id": "923d13e3",
   "metadata": {},
   "outputs": [],
   "source": [
    "def tokenize(text):\n",
    "    doc = Doc(text)\n",
    "    doc.segment(segmenter)\n",
    "    doc.tag_morph(morph_tagger)\n",
    "    doc.parse_syntax(syntax_parser)\n",
    "    doc.tag_ner(ner_tagger)\n",
    "\n",
    "    for token in doc.tokens:\n",
    "        token.lemmatize(morph_vocab)\n",
    "    \n",
    "    punct = string.punctuation\n",
    "    tokens = [\n",
    "        i.lemma for i in doc.tokens\n",
    "        if i.lemma not in punct and\n",
    "        i.lemma not in russian_stopwords and\n",
    "        not i.lemma.isnumeric()\n",
    "    ]\n",
    "\n",
    "    return tokens"
   ]
  },
  {
   "cell_type": "code",
   "execution_count": 23,
   "id": "266bb34f",
   "metadata": {},
   "outputs": [
    {
     "name": "stderr",
     "output_type": "stream",
     "text": [
      "100%|██████████| 35774/35774 [09:44<00:00, 61.17it/s] \n",
      "100%|██████████| 26260/26260 [07:00<00:00, 62.41it/s] \n"
     ]
    }
   ],
   "source": [
    "train_data['text_tokenized'] = [tokenize(i) for i in tqdm(train_data.text)]\n",
    "test_data['text_tokenized'] = [tokenize(i) for i in tqdm(test_data.text)]"
   ]
  },
  {
   "cell_type": "markdown",
   "id": "67a1e3d8",
   "metadata": {},
   "source": [
    "Поделим данные на тренировочную, валидационную и тестовую выборки."
   ]
  },
  {
   "cell_type": "code",
   "execution_count": 24,
   "id": "45483850",
   "metadata": {},
   "outputs": [],
   "source": [
    "X, y = train_data.text_tokenized.to_numpy(), train_data.category_le.to_numpy()\n",
    "X_train, X_test_val, y_train, y_test_val = train_test_split(X, y, test_size=0.4, random_state=42, stratify=y)\n",
    "X_test, X_val, y_test, y_val = train_test_split(X_test_val, y_test_val, test_size=0.5, random_state=42, stratify=y_test_val)\n",
    "del X_test_val, y_test_val  # удалим эти переменные, чтобы их после случайно не использовать"
   ]
  },
  {
   "cell_type": "markdown",
   "id": "277c15ec",
   "metadata": {},
   "source": [
    "Для векторизации текстов и оценки важности слова в контексте документа я буду использовать статистическую меру `tf-idf`. Для оптимизации работы я не буду напрямую векторизировать признаки, вместо этого я использую `Pipeline()` для построения пайплана обучения модели и последующего его обучения."
   ]
  },
  {
   "cell_type": "code",
   "execution_count": 25,
   "id": "17f4335d",
   "metadata": {},
   "outputs": [],
   "source": [
    "model = Pipeline([\n",
    "    ('tfidf', TfidfVectorizer(tokenizer=lambda x: x, preprocessor=lambda x: x, token_pattern=None)),\n",
    "    ('model', LogisticRegression(n_jobs=-1, random_state=42)),\n",
    "])"
   ]
  },
  {
   "cell_type": "code",
   "execution_count": 26,
   "id": "803af8e8",
   "metadata": {},
   "outputs": [],
   "source": [
    "model = Pipeline([\n",
    "    ('tfidf', TfidfVectorizer(tokenizer=lambda x: x, preprocessor=lambda x: x, token_pattern=None)),\n",
    "    ('model', MultinomialNB()),\n",
    "])"
   ]
  },
  {
   "cell_type": "code",
   "execution_count": 27,
   "id": "e0e2cfad",
   "metadata": {},
   "outputs": [],
   "source": [
    "model = Pipeline([\n",
    "    ('tfidf', TfidfVectorizer(tokenizer=lambda x: x, preprocessor=lambda x: x, token_pattern=None)),\n",
    "    ('model', SGDClassifier(n_jobs=-1, random_state=42)),\n",
    "])"
   ]
  },
  {
   "cell_type": "code",
   "execution_count": 28,
   "id": "3eff8b18",
   "metadata": {},
   "outputs": [],
   "source": [
    "model = Pipeline([\n",
    "    ('tfidf', TfidfVectorizer(tokenizer=lambda x: x, preprocessor=lambda x: x, token_pattern=None)),\n",
    "    ('model', RandomForestClassifier(n_jobs=-1, random_state=42)),\n",
    "])"
   ]
  },
  {
   "cell_type": "code",
   "execution_count": 29,
   "id": "055fe1f6",
   "metadata": {},
   "outputs": [],
   "source": [
    "model = Pipeline([\n",
    "    ('tfidf', TfidfVectorizer(tokenizer=lambda x: x, preprocessor=lambda x: x, token_pattern=None)),\n",
    "    ('model', ExtraTreesClassifier(n_jobs=-1, random_state=42)),\n",
    "])"
   ]
  },
  {
   "cell_type": "code",
   "execution_count": 30,
   "id": "8c1dd951",
   "metadata": {},
   "outputs": [],
   "source": [
    "model = Pipeline([\n",
    "    ('tfidf', TfidfVectorizer(tokenizer=lambda x: x, preprocessor=lambda x: x, token_pattern=None)),\n",
    "    ('model', KNeighborsClassifier(n_jobs=-1)),\n",
    "])"
   ]
  },
  {
   "cell_type": "code",
   "execution_count": 31,
   "id": "5fc43f72",
   "metadata": {},
   "outputs": [],
   "source": [
    "model = Pipeline([\n",
    "    ('tfidf', TfidfVectorizer(tokenizer=lambda x: x, preprocessor=lambda x: x, token_pattern=None)),\n",
    "    ('model', GradientBoostingClassifier(random_state=42)),\n",
    "])"
   ]
  },
  {
   "cell_type": "code",
   "execution_count": 32,
   "id": "78ff8bdf",
   "metadata": {},
   "outputs": [],
   "source": [
    "model = Pipeline([\n",
    "    ('tfidf', TfidfVectorizer(tokenizer=lambda x: x, preprocessor=lambda x: x, token_pattern=None)),\n",
    "    ('model', SVC(kernel='sigmoid', random_state=42)),\n",
    "])"
   ]
  },
  {
   "cell_type": "code",
   "execution_count": 33,
   "id": "f6a163b5",
   "metadata": {},
   "outputs": [],
   "source": [
    "# %time\n",
    "# model.fit(X_train, y_train)\n",
    "# y_pred = model.predict(X_val)\n",
    "# score = accuracy_score(y_pred, y_val)\n",
    "# print(score)"
   ]
  },
  {
   "cell_type": "code",
   "execution_count": 34,
   "id": "4e2b06aa",
   "metadata": {},
   "outputs": [],
   "source": [
    "models = [\n",
    "    LogisticRegression(n_jobs=-1, random_state=42),\n",
    "    MultinomialNB(),\n",
    "    SGDClassifier(n_jobs=-1, random_state=42),\n",
    "    RandomForestClassifier(n_jobs=-1, random_state=42),\n",
    "    ExtraTreesClassifier(n_jobs=-1, random_state=42),\n",
    "    KNeighborsClassifier(n_jobs=-1),\n",
    "    GradientBoostingClassifier(random_state=42),\n",
    "    SVC(kernel='linear'),\n",
    "]"
   ]
  },
  {
   "cell_type": "code",
   "execution_count": null,
   "id": "88b5bf5c",
   "metadata": {},
   "outputs": [],
   "source": []
  },
  {
   "cell_type": "code",
   "execution_count": 35,
   "id": "4895dc65",
   "metadata": {},
   "outputs": [
    {
     "name": "stdout",
     "output_type": "stream",
     "text": [
      "CPU times: user 2 µs, sys: 4 µs, total: 6 µs\n",
      "Wall time: 7.15 µs\n",
      " _________________________________________________\n",
      "| Модель LogisticRegression                       |\n",
      "|   score=0.8437 learning_time=5.0337             |\n",
      " _________________________________________________\n",
      "| Модель MultinomialNB                            |\n",
      "|   score=0.8328 learning_time=0.3213             |\n",
      " _________________________________________________\n",
      "| Модель SGDClassifier                            |\n",
      "|   score=0.8657 learning_time=0.3558             |\n",
      " _________________________________________________\n",
      "| Модель RandomForestClassifier                   |\n",
      "|   score=0.7957 learning_time=5.4642             |\n",
      " _________________________________________________\n",
      "| Модель ExtraTreesClassifier                     |\n",
      "|   score=0.8274 learning_time=7.4452             |\n",
      " _________________________________________________\n",
      "| Модель KNeighborsClassifier                     |\n",
      "|   score=0.7979 learning_time=0.3064             |\n",
      " _________________________________________________\n",
      "| Модель GradientBoostingClassifier               |\n",
      "|   score=0.7737 learning_time=196.2946           |\n",
      " _________________________________________________\n",
      "| Модель SVC                                      |\n",
      "|   score=0.8449 learning_time=57.2163            |\n",
      " _________________________________________________\n"
     ]
    }
   ],
   "source": [
    "%time\n",
    "print(' ' + '_'*49)\n",
    "all_models_scores = []\n",
    "for model in models:\n",
    "        model_name = model.__class__.__name__\n",
    "        print(f'| Модель {model_name:<40} |')\n",
    "        start_time = time.time()\n",
    "        model = Pipeline([\n",
    "                ('tfidf', TfidfVectorizer(tokenizer=lambda x: x, preprocessor=lambda x: x, token_pattern=None)),\n",
    "                ('model', model),\n",
    "        ])\n",
    "        model.fit(X_train, y_train)\n",
    "        end_time = time.time()\n",
    "        learning_time = end_time - start_time\n",
    "\n",
    "        y_pred = model.predict(X_val)\n",
    "        score = accuracy_score(y_pred, y_val)\n",
    "        print(f'|   {score=:.4f} {learning_time=:<18.4f} |', end=f'\\n {'_'*49}\\n')\n",
    "\n",
    "        all_models_scores.append({'name': model_name, 'score': score, 'time': learning_time})"
   ]
  },
  {
   "cell_type": "code",
   "execution_count": 36,
   "id": "034ae536",
   "metadata": {},
   "outputs": [
    {
     "data": {
      "text/html": [
       "<div>\n",
       "<style scoped>\n",
       "    .dataframe tbody tr th:only-of-type {\n",
       "        vertical-align: middle;\n",
       "    }\n",
       "\n",
       "    .dataframe tbody tr th {\n",
       "        vertical-align: top;\n",
       "    }\n",
       "\n",
       "    .dataframe thead th {\n",
       "        text-align: right;\n",
       "    }\n",
       "</style>\n",
       "<table border=\"1\" class=\"dataframe\">\n",
       "  <thead>\n",
       "    <tr style=\"text-align: right;\">\n",
       "      <th></th>\n",
       "      <th>name</th>\n",
       "      <th>score</th>\n",
       "      <th>time</th>\n",
       "    </tr>\n",
       "  </thead>\n",
       "  <tbody>\n",
       "    <tr>\n",
       "      <th>0</th>\n",
       "      <td>SGDClassifier</td>\n",
       "      <td>0.865688</td>\n",
       "      <td>0.355774</td>\n",
       "    </tr>\n",
       "    <tr>\n",
       "      <th>1</th>\n",
       "      <td>SVC</td>\n",
       "      <td>0.844864</td>\n",
       "      <td>57.216298</td>\n",
       "    </tr>\n",
       "    <tr>\n",
       "      <th>2</th>\n",
       "      <td>LogisticRegression</td>\n",
       "      <td>0.843746</td>\n",
       "      <td>5.033742</td>\n",
       "    </tr>\n",
       "    <tr>\n",
       "      <th>3</th>\n",
       "      <td>MultinomialNB</td>\n",
       "      <td>0.832844</td>\n",
       "      <td>0.321273</td>\n",
       "    </tr>\n",
       "    <tr>\n",
       "      <th>4</th>\n",
       "      <td>ExtraTreesClassifier</td>\n",
       "      <td>0.827393</td>\n",
       "      <td>7.445234</td>\n",
       "    </tr>\n",
       "    <tr>\n",
       "      <th>5</th>\n",
       "      <td>KNeighborsClassifier</td>\n",
       "      <td>0.797904</td>\n",
       "      <td>0.306425</td>\n",
       "    </tr>\n",
       "    <tr>\n",
       "      <th>6</th>\n",
       "      <td>RandomForestClassifier</td>\n",
       "      <td>0.795667</td>\n",
       "      <td>5.464211</td>\n",
       "    </tr>\n",
       "    <tr>\n",
       "      <th>7</th>\n",
       "      <td>GradientBoostingClassifier</td>\n",
       "      <td>0.773725</td>\n",
       "      <td>196.294629</td>\n",
       "    </tr>\n",
       "  </tbody>\n",
       "</table>\n",
       "</div>"
      ],
      "text/plain": [
       "                         name     score        time\n",
       "0               SGDClassifier  0.865688    0.355774\n",
       "1                         SVC  0.844864   57.216298\n",
       "2          LogisticRegression  0.843746    5.033742\n",
       "3               MultinomialNB  0.832844    0.321273\n",
       "4        ExtraTreesClassifier  0.827393    7.445234\n",
       "5        KNeighborsClassifier  0.797904    0.306425\n",
       "6      RandomForestClassifier  0.795667    5.464211\n",
       "7  GradientBoostingClassifier  0.773725  196.294629"
      ]
     },
     "execution_count": 36,
     "metadata": {},
     "output_type": "execute_result"
    }
   ],
   "source": [
    "models_df = pd.DataFrame(all_models_scores)\n",
    "models_df = models_df.sort_values('score', ascending=False).reset_index(drop=True)\n",
    "models_df"
   ]
  },
  {
   "cell_type": "code",
   "execution_count": null,
   "id": "83aff6e3",
   "metadata": {},
   "outputs": [],
   "source": []
  },
  {
   "cell_type": "code",
   "execution_count": null,
   "id": "ccdcf751",
   "metadata": {},
   "outputs": [],
   "source": []
  },
  {
   "cell_type": "code",
   "execution_count": null,
   "id": "e4873095",
   "metadata": {},
   "outputs": [],
   "source": []
  },
  {
   "cell_type": "code",
   "execution_count": null,
   "id": "aa108f0d",
   "metadata": {},
   "outputs": [],
   "source": []
  },
  {
   "cell_type": "code",
   "execution_count": null,
   "id": "8f242b3c",
   "metadata": {},
   "outputs": [],
   "source": [
    "from sklearn.ensemble import AdaBoostClassifier\n",
    "from sklearn.ensemble import BaggingClassifier\n",
    "from sklearn.naive_bayes import BernoulliNB\n",
    "from sklearn.calibration import CalibratedClassifierCV\n",
    "from sklearn.naive_bayes import CategoricalNB\n",
    "from sklearn.multioutput import ClassifierChain\n",
    "from sklearn.naive_bayes import ComplementNB\n",
    "from sklearn.tree import DecisionTreeClassifier\n",
    "from sklearn.dummy import DummyClassifier\n",
    "from sklearn.tree import ExtraTreeClassifier\n",
    "from sklearn.ensemble import ExtraTreesClassifier\n",
    "from sklearn.naive_bayes import GaussianNB\n",
    "from sklearn.gaussian_process import GaussianProcessClassifier\n",
    "from sklearn.ensemble import GradientBoostingClassifier\n",
    "from sklearn.ensemble import HistGradientBoostingClassifier\n",
    "from sklearn.neighbors import KNeighborsClassifier\n",
    "from sklearn.semi_supervised import LabelPropagation\n",
    "from sklearn.semi_supervised import LabelSpreading\n",
    "from sklearn.discriminant_analysis import LinearDiscriminantAnalysis\n",
    "from sklearn.svm import LinearSVC\n",
    "from sklearn.linear_model import LogisticRegression\n",
    "from sklearn.linear_model import LogisticRegressionCV\n",
    "from sklearn.neural_network import MLPClassifier\n",
    "from sklearn.multioutput import MultiOutputClassifier\n",
    "from sklearn.naive_bayes import MultinomialNB\n",
    "from sklearn.neighbors import NearestCentroid\n",
    "from sklearn.svm import NuSVC\n",
    "from sklearn.multiclass import OneVsOneClassifier\n",
    "from sklearn.multiclass import OneVsRestClassifier\n",
    "from sklearn.multiclass import OutputCodeClassifier\n",
    "from sklearn.linear_model import PassiveAggressiveClassifier\n",
    "from sklearn.linear_model import Perceptron\n",
    "from sklearn.discriminant_analysis import QuadraticDiscriminantAnalysis\n",
    "from sklearn.neighbors import RadiusNeighborsClassifier\n",
    "from sklearn.ensemble import RandomForestClassifier\n",
    "from sklearn.linear_model import RidgeClassifier\n",
    "from sklearn.linear_model import RidgeClassifierCV\n",
    "from sklearn.linear_model import SGDClassifier\n",
    "from sklearn.svm import SVC\n",
    "from sklearn.ensemble import StackingClassifier\n",
    "from sklearn.ensemble import VotingClassifier"
   ]
  },
  {
   "cell_type": "code",
   "execution_count": null,
   "id": "d2e37b8a",
   "metadata": {
    "execution": {
     "iopub.execute_input": "2024-01-08T14:53:30.611641Z",
     "iopub.status.busy": "2024-01-08T14:53:30.611029Z",
     "iopub.status.idle": "2024-01-08T14:56:15.997029Z",
     "shell.execute_reply": "2024-01-08T14:56:15.995787Z"
    },
    "papermill": {
     "duration": 165.399904,
     "end_time": "2024-01-08T14:56:16.004404",
     "exception": false,
     "start_time": "2024-01-08T14:53:30.604500",
     "status": "completed"
    },
    "tags": []
   },
   "outputs": [
    {
     "data": {
      "text/html": [
       "<style>#sk-container-id-1 {\n",
       "  /* Definition of color scheme common for light and dark mode */\n",
       "  --sklearn-color-text: black;\n",
       "  --sklearn-color-line: gray;\n",
       "  /* Definition of color scheme for unfitted estimators */\n",
       "  --sklearn-color-unfitted-level-0: #fff5e6;\n",
       "  --sklearn-color-unfitted-level-1: #f6e4d2;\n",
       "  --sklearn-color-unfitted-level-2: #ffe0b3;\n",
       "  --sklearn-color-unfitted-level-3: chocolate;\n",
       "  /* Definition of color scheme for fitted estimators */\n",
       "  --sklearn-color-fitted-level-0: #f0f8ff;\n",
       "  --sklearn-color-fitted-level-1: #d4ebff;\n",
       "  --sklearn-color-fitted-level-2: #b3dbfd;\n",
       "  --sklearn-color-fitted-level-3: cornflowerblue;\n",
       "\n",
       "  /* Specific color for light theme */\n",
       "  --sklearn-color-text-on-default-background: var(--sg-text-color, var(--theme-code-foreground, var(--jp-content-font-color1, black)));\n",
       "  --sklearn-color-background: var(--sg-background-color, var(--theme-background, var(--jp-layout-color0, white)));\n",
       "  --sklearn-color-border-box: var(--sg-text-color, var(--theme-code-foreground, var(--jp-content-font-color1, black)));\n",
       "  --sklearn-color-icon: #696969;\n",
       "\n",
       "  @media (prefers-color-scheme: dark) {\n",
       "    /* Redefinition of color scheme for dark theme */\n",
       "    --sklearn-color-text-on-default-background: var(--sg-text-color, var(--theme-code-foreground, var(--jp-content-font-color1, white)));\n",
       "    --sklearn-color-background: var(--sg-background-color, var(--theme-background, var(--jp-layout-color0, #111)));\n",
       "    --sklearn-color-border-box: var(--sg-text-color, var(--theme-code-foreground, var(--jp-content-font-color1, white)));\n",
       "    --sklearn-color-icon: #878787;\n",
       "  }\n",
       "}\n",
       "\n",
       "#sk-container-id-1 {\n",
       "  color: var(--sklearn-color-text);\n",
       "}\n",
       "\n",
       "#sk-container-id-1 pre {\n",
       "  padding: 0;\n",
       "}\n",
       "\n",
       "#sk-container-id-1 input.sk-hidden--visually {\n",
       "  border: 0;\n",
       "  clip: rect(1px 1px 1px 1px);\n",
       "  clip: rect(1px, 1px, 1px, 1px);\n",
       "  height: 1px;\n",
       "  margin: -1px;\n",
       "  overflow: hidden;\n",
       "  padding: 0;\n",
       "  position: absolute;\n",
       "  width: 1px;\n",
       "}\n",
       "\n",
       "#sk-container-id-1 div.sk-dashed-wrapped {\n",
       "  border: 1px dashed var(--sklearn-color-line);\n",
       "  margin: 0 0.4em 0.5em 0.4em;\n",
       "  box-sizing: border-box;\n",
       "  padding-bottom: 0.4em;\n",
       "  background-color: var(--sklearn-color-background);\n",
       "}\n",
       "\n",
       "#sk-container-id-1 div.sk-container {\n",
       "  /* jupyter's `normalize.less` sets `[hidden] { display: none; }`\n",
       "     but bootstrap.min.css set `[hidden] { display: none !important; }`\n",
       "     so we also need the `!important` here to be able to override the\n",
       "     default hidden behavior on the sphinx rendered scikit-learn.org.\n",
       "     See: https://github.com/scikit-learn/scikit-learn/issues/21755 */\n",
       "  display: inline-block !important;\n",
       "  position: relative;\n",
       "}\n",
       "\n",
       "#sk-container-id-1 div.sk-text-repr-fallback {\n",
       "  display: none;\n",
       "}\n",
       "\n",
       "div.sk-parallel-item,\n",
       "div.sk-serial,\n",
       "div.sk-item {\n",
       "  /* draw centered vertical line to link estimators */\n",
       "  background-image: linear-gradient(var(--sklearn-color-text-on-default-background), var(--sklearn-color-text-on-default-background));\n",
       "  background-size: 2px 100%;\n",
       "  background-repeat: no-repeat;\n",
       "  background-position: center center;\n",
       "}\n",
       "\n",
       "/* Parallel-specific style estimator block */\n",
       "\n",
       "#sk-container-id-1 div.sk-parallel-item::after {\n",
       "  content: \"\";\n",
       "  width: 100%;\n",
       "  border-bottom: 2px solid var(--sklearn-color-text-on-default-background);\n",
       "  flex-grow: 1;\n",
       "}\n",
       "\n",
       "#sk-container-id-1 div.sk-parallel {\n",
       "  display: flex;\n",
       "  align-items: stretch;\n",
       "  justify-content: center;\n",
       "  background-color: var(--sklearn-color-background);\n",
       "  position: relative;\n",
       "}\n",
       "\n",
       "#sk-container-id-1 div.sk-parallel-item {\n",
       "  display: flex;\n",
       "  flex-direction: column;\n",
       "}\n",
       "\n",
       "#sk-container-id-1 div.sk-parallel-item:first-child::after {\n",
       "  align-self: flex-end;\n",
       "  width: 50%;\n",
       "}\n",
       "\n",
       "#sk-container-id-1 div.sk-parallel-item:last-child::after {\n",
       "  align-self: flex-start;\n",
       "  width: 50%;\n",
       "}\n",
       "\n",
       "#sk-container-id-1 div.sk-parallel-item:only-child::after {\n",
       "  width: 0;\n",
       "}\n",
       "\n",
       "/* Serial-specific style estimator block */\n",
       "\n",
       "#sk-container-id-1 div.sk-serial {\n",
       "  display: flex;\n",
       "  flex-direction: column;\n",
       "  align-items: center;\n",
       "  background-color: var(--sklearn-color-background);\n",
       "  padding-right: 1em;\n",
       "  padding-left: 1em;\n",
       "}\n",
       "\n",
       "\n",
       "/* Toggleable style: style used for estimator/Pipeline/ColumnTransformer box that is\n",
       "clickable and can be expanded/collapsed.\n",
       "- Pipeline and ColumnTransformer use this feature and define the default style\n",
       "- Estimators will overwrite some part of the style using the `sk-estimator` class\n",
       "*/\n",
       "\n",
       "/* Pipeline and ColumnTransformer style (default) */\n",
       "\n",
       "#sk-container-id-1 div.sk-toggleable {\n",
       "  /* Default theme specific background. It is overwritten whether we have a\n",
       "  specific estimator or a Pipeline/ColumnTransformer */\n",
       "  background-color: var(--sklearn-color-background);\n",
       "}\n",
       "\n",
       "/* Toggleable label */\n",
       "#sk-container-id-1 label.sk-toggleable__label {\n",
       "  cursor: pointer;\n",
       "  display: block;\n",
       "  width: 100%;\n",
       "  margin-bottom: 0;\n",
       "  padding: 0.5em;\n",
       "  box-sizing: border-box;\n",
       "  text-align: center;\n",
       "}\n",
       "\n",
       "#sk-container-id-1 label.sk-toggleable__label-arrow:before {\n",
       "  /* Arrow on the left of the label */\n",
       "  content: \"▸\";\n",
       "  float: left;\n",
       "  margin-right: 0.25em;\n",
       "  color: var(--sklearn-color-icon);\n",
       "}\n",
       "\n",
       "#sk-container-id-1 label.sk-toggleable__label-arrow:hover:before {\n",
       "  color: var(--sklearn-color-text);\n",
       "}\n",
       "\n",
       "/* Toggleable content - dropdown */\n",
       "\n",
       "#sk-container-id-1 div.sk-toggleable__content {\n",
       "  max-height: 0;\n",
       "  max-width: 0;\n",
       "  overflow: hidden;\n",
       "  text-align: left;\n",
       "  /* unfitted */\n",
       "  background-color: var(--sklearn-color-unfitted-level-0);\n",
       "}\n",
       "\n",
       "#sk-container-id-1 div.sk-toggleable__content.fitted {\n",
       "  /* fitted */\n",
       "  background-color: var(--sklearn-color-fitted-level-0);\n",
       "}\n",
       "\n",
       "#sk-container-id-1 div.sk-toggleable__content pre {\n",
       "  margin: 0.2em;\n",
       "  border-radius: 0.25em;\n",
       "  color: var(--sklearn-color-text);\n",
       "  /* unfitted */\n",
       "  background-color: var(--sklearn-color-unfitted-level-0);\n",
       "}\n",
       "\n",
       "#sk-container-id-1 div.sk-toggleable__content.fitted pre {\n",
       "  /* unfitted */\n",
       "  background-color: var(--sklearn-color-fitted-level-0);\n",
       "}\n",
       "\n",
       "#sk-container-id-1 input.sk-toggleable__control:checked~div.sk-toggleable__content {\n",
       "  /* Expand drop-down */\n",
       "  max-height: 200px;\n",
       "  max-width: 100%;\n",
       "  overflow: auto;\n",
       "}\n",
       "\n",
       "#sk-container-id-1 input.sk-toggleable__control:checked~label.sk-toggleable__label-arrow:before {\n",
       "  content: \"▾\";\n",
       "}\n",
       "\n",
       "/* Pipeline/ColumnTransformer-specific style */\n",
       "\n",
       "#sk-container-id-1 div.sk-label input.sk-toggleable__control:checked~label.sk-toggleable__label {\n",
       "  color: var(--sklearn-color-text);\n",
       "  background-color: var(--sklearn-color-unfitted-level-2);\n",
       "}\n",
       "\n",
       "#sk-container-id-1 div.sk-label.fitted input.sk-toggleable__control:checked~label.sk-toggleable__label {\n",
       "  background-color: var(--sklearn-color-fitted-level-2);\n",
       "}\n",
       "\n",
       "/* Estimator-specific style */\n",
       "\n",
       "/* Colorize estimator box */\n",
       "#sk-container-id-1 div.sk-estimator input.sk-toggleable__control:checked~label.sk-toggleable__label {\n",
       "  /* unfitted */\n",
       "  background-color: var(--sklearn-color-unfitted-level-2);\n",
       "}\n",
       "\n",
       "#sk-container-id-1 div.sk-estimator.fitted input.sk-toggleable__control:checked~label.sk-toggleable__label {\n",
       "  /* fitted */\n",
       "  background-color: var(--sklearn-color-fitted-level-2);\n",
       "}\n",
       "\n",
       "#sk-container-id-1 div.sk-label label.sk-toggleable__label,\n",
       "#sk-container-id-1 div.sk-label label {\n",
       "  /* The background is the default theme color */\n",
       "  color: var(--sklearn-color-text-on-default-background);\n",
       "}\n",
       "\n",
       "/* On hover, darken the color of the background */\n",
       "#sk-container-id-1 div.sk-label:hover label.sk-toggleable__label {\n",
       "  color: var(--sklearn-color-text);\n",
       "  background-color: var(--sklearn-color-unfitted-level-2);\n",
       "}\n",
       "\n",
       "/* Label box, darken color on hover, fitted */\n",
       "#sk-container-id-1 div.sk-label.fitted:hover label.sk-toggleable__label.fitted {\n",
       "  color: var(--sklearn-color-text);\n",
       "  background-color: var(--sklearn-color-fitted-level-2);\n",
       "}\n",
       "\n",
       "/* Estimator label */\n",
       "\n",
       "#sk-container-id-1 div.sk-label label {\n",
       "  font-family: monospace;\n",
       "  font-weight: bold;\n",
       "  display: inline-block;\n",
       "  line-height: 1.2em;\n",
       "}\n",
       "\n",
       "#sk-container-id-1 div.sk-label-container {\n",
       "  text-align: center;\n",
       "}\n",
       "\n",
       "/* Estimator-specific */\n",
       "#sk-container-id-1 div.sk-estimator {\n",
       "  font-family: monospace;\n",
       "  border: 1px dotted var(--sklearn-color-border-box);\n",
       "  border-radius: 0.25em;\n",
       "  box-sizing: border-box;\n",
       "  margin-bottom: 0.5em;\n",
       "  /* unfitted */\n",
       "  background-color: var(--sklearn-color-unfitted-level-0);\n",
       "}\n",
       "\n",
       "#sk-container-id-1 div.sk-estimator.fitted {\n",
       "  /* fitted */\n",
       "  background-color: var(--sklearn-color-fitted-level-0);\n",
       "}\n",
       "\n",
       "/* on hover */\n",
       "#sk-container-id-1 div.sk-estimator:hover {\n",
       "  /* unfitted */\n",
       "  background-color: var(--sklearn-color-unfitted-level-2);\n",
       "}\n",
       "\n",
       "#sk-container-id-1 div.sk-estimator.fitted:hover {\n",
       "  /* fitted */\n",
       "  background-color: var(--sklearn-color-fitted-level-2);\n",
       "}\n",
       "\n",
       "/* Specification for estimator info (e.g. \"i\" and \"?\") */\n",
       "\n",
       "/* Common style for \"i\" and \"?\" */\n",
       "\n",
       ".sk-estimator-doc-link,\n",
       "a:link.sk-estimator-doc-link,\n",
       "a:visited.sk-estimator-doc-link {\n",
       "  float: right;\n",
       "  font-size: smaller;\n",
       "  line-height: 1em;\n",
       "  font-family: monospace;\n",
       "  background-color: var(--sklearn-color-background);\n",
       "  border-radius: 1em;\n",
       "  height: 1em;\n",
       "  width: 1em;\n",
       "  text-decoration: none !important;\n",
       "  margin-left: 1ex;\n",
       "  /* unfitted */\n",
       "  border: var(--sklearn-color-unfitted-level-1) 1pt solid;\n",
       "  color: var(--sklearn-color-unfitted-level-1);\n",
       "}\n",
       "\n",
       ".sk-estimator-doc-link.fitted,\n",
       "a:link.sk-estimator-doc-link.fitted,\n",
       "a:visited.sk-estimator-doc-link.fitted {\n",
       "  /* fitted */\n",
       "  border: var(--sklearn-color-fitted-level-1) 1pt solid;\n",
       "  color: var(--sklearn-color-fitted-level-1);\n",
       "}\n",
       "\n",
       "/* On hover */\n",
       "div.sk-estimator:hover .sk-estimator-doc-link:hover,\n",
       ".sk-estimator-doc-link:hover,\n",
       "div.sk-label-container:hover .sk-estimator-doc-link:hover,\n",
       ".sk-estimator-doc-link:hover {\n",
       "  /* unfitted */\n",
       "  background-color: var(--sklearn-color-unfitted-level-3);\n",
       "  color: var(--sklearn-color-background);\n",
       "  text-decoration: none;\n",
       "}\n",
       "\n",
       "div.sk-estimator.fitted:hover .sk-estimator-doc-link.fitted:hover,\n",
       ".sk-estimator-doc-link.fitted:hover,\n",
       "div.sk-label-container:hover .sk-estimator-doc-link.fitted:hover,\n",
       ".sk-estimator-doc-link.fitted:hover {\n",
       "  /* fitted */\n",
       "  background-color: var(--sklearn-color-fitted-level-3);\n",
       "  color: var(--sklearn-color-background);\n",
       "  text-decoration: none;\n",
       "}\n",
       "\n",
       "/* Span, style for the box shown on hovering the info icon */\n",
       ".sk-estimator-doc-link span {\n",
       "  display: none;\n",
       "  z-index: 9999;\n",
       "  position: relative;\n",
       "  font-weight: normal;\n",
       "  right: .2ex;\n",
       "  padding: .5ex;\n",
       "  margin: .5ex;\n",
       "  width: min-content;\n",
       "  min-width: 20ex;\n",
       "  max-width: 50ex;\n",
       "  color: var(--sklearn-color-text);\n",
       "  box-shadow: 2pt 2pt 4pt #999;\n",
       "  /* unfitted */\n",
       "  background: var(--sklearn-color-unfitted-level-0);\n",
       "  border: .5pt solid var(--sklearn-color-unfitted-level-3);\n",
       "}\n",
       "\n",
       ".sk-estimator-doc-link.fitted span {\n",
       "  /* fitted */\n",
       "  background: var(--sklearn-color-fitted-level-0);\n",
       "  border: var(--sklearn-color-fitted-level-3);\n",
       "}\n",
       "\n",
       ".sk-estimator-doc-link:hover span {\n",
       "  display: block;\n",
       "}\n",
       "\n",
       "/* \"?\"-specific style due to the `<a>` HTML tag */\n",
       "\n",
       "#sk-container-id-1 a.estimator_doc_link {\n",
       "  float: right;\n",
       "  font-size: 1rem;\n",
       "  line-height: 1em;\n",
       "  font-family: monospace;\n",
       "  background-color: var(--sklearn-color-background);\n",
       "  border-radius: 1rem;\n",
       "  height: 1rem;\n",
       "  width: 1rem;\n",
       "  text-decoration: none;\n",
       "  /* unfitted */\n",
       "  color: var(--sklearn-color-unfitted-level-1);\n",
       "  border: var(--sklearn-color-unfitted-level-1) 1pt solid;\n",
       "}\n",
       "\n",
       "#sk-container-id-1 a.estimator_doc_link.fitted {\n",
       "  /* fitted */\n",
       "  border: var(--sklearn-color-fitted-level-1) 1pt solid;\n",
       "  color: var(--sklearn-color-fitted-level-1);\n",
       "}\n",
       "\n",
       "/* On hover */\n",
       "#sk-container-id-1 a.estimator_doc_link:hover {\n",
       "  /* unfitted */\n",
       "  background-color: var(--sklearn-color-unfitted-level-3);\n",
       "  color: var(--sklearn-color-background);\n",
       "  text-decoration: none;\n",
       "}\n",
       "\n",
       "#sk-container-id-1 a.estimator_doc_link.fitted:hover {\n",
       "  /* fitted */\n",
       "  background-color: var(--sklearn-color-fitted-level-3);\n",
       "}\n",
       "</style><div id=\"sk-container-id-1\" class=\"sk-top-container\"><div class=\"sk-text-repr-fallback\"><pre>Pipeline(steps=[(&#x27;tfidf&#x27;,\n",
       "                 TfidfVectorizer(max_df=0.4,\n",
       "                                 stop_words=[&#x27;и&#x27;, &#x27;в&#x27;, &#x27;во&#x27;, &#x27;не&#x27;, &#x27;что&#x27;, &#x27;он&#x27;,\n",
       "                                             &#x27;на&#x27;, &#x27;я&#x27;, &#x27;с&#x27;, &#x27;со&#x27;, &#x27;как&#x27;, &#x27;а&#x27;,\n",
       "                                             &#x27;то&#x27;, &#x27;все&#x27;, &#x27;она&#x27;, &#x27;так&#x27;, &#x27;его&#x27;,\n",
       "                                             &#x27;но&#x27;, &#x27;да&#x27;, &#x27;ты&#x27;, &#x27;к&#x27;, &#x27;у&#x27;, &#x27;же&#x27;,\n",
       "                                             &#x27;вы&#x27;, &#x27;за&#x27;, &#x27;бы&#x27;, &#x27;по&#x27;, &#x27;только&#x27;,\n",
       "                                             &#x27;ее&#x27;, &#x27;мне&#x27;, ...])),\n",
       "                (&#x27;model&#x27;, ComplementNB(alpha=0.25))])</pre><b>In a Jupyter environment, please rerun this cell to show the HTML representation or trust the notebook. <br />On GitHub, the HTML representation is unable to render, please try loading this page with nbviewer.org.</b></div><div class=\"sk-container\" hidden><div class=\"sk-item sk-dashed-wrapped\"><div class=\"sk-label-container\"><div class=\"sk-label fitted sk-toggleable\"><input class=\"sk-toggleable__control sk-hidden--visually\" id=\"sk-estimator-id-1\" type=\"checkbox\" ><label for=\"sk-estimator-id-1\" class=\"sk-toggleable__label fitted sk-toggleable__label-arrow fitted\">&nbsp;&nbsp;Pipeline<a class=\"sk-estimator-doc-link fitted\" rel=\"noreferrer\" target=\"_blank\" href=\"https://scikit-learn.org/1.4/modules/generated/sklearn.pipeline.Pipeline.html\">?<span>Documentation for Pipeline</span></a><span class=\"sk-estimator-doc-link fitted\">i<span>Fitted</span></span></label><div class=\"sk-toggleable__content fitted\"><pre>Pipeline(steps=[(&#x27;tfidf&#x27;,\n",
       "                 TfidfVectorizer(max_df=0.4,\n",
       "                                 stop_words=[&#x27;и&#x27;, &#x27;в&#x27;, &#x27;во&#x27;, &#x27;не&#x27;, &#x27;что&#x27;, &#x27;он&#x27;,\n",
       "                                             &#x27;на&#x27;, &#x27;я&#x27;, &#x27;с&#x27;, &#x27;со&#x27;, &#x27;как&#x27;, &#x27;а&#x27;,\n",
       "                                             &#x27;то&#x27;, &#x27;все&#x27;, &#x27;она&#x27;, &#x27;так&#x27;, &#x27;его&#x27;,\n",
       "                                             &#x27;но&#x27;, &#x27;да&#x27;, &#x27;ты&#x27;, &#x27;к&#x27;, &#x27;у&#x27;, &#x27;же&#x27;,\n",
       "                                             &#x27;вы&#x27;, &#x27;за&#x27;, &#x27;бы&#x27;, &#x27;по&#x27;, &#x27;только&#x27;,\n",
       "                                             &#x27;ее&#x27;, &#x27;мне&#x27;, ...])),\n",
       "                (&#x27;model&#x27;, ComplementNB(alpha=0.25))])</pre></div> </div></div><div class=\"sk-serial\"><div class=\"sk-item\"><div class=\"sk-estimator fitted sk-toggleable\"><input class=\"sk-toggleable__control sk-hidden--visually\" id=\"sk-estimator-id-2\" type=\"checkbox\" ><label for=\"sk-estimator-id-2\" class=\"sk-toggleable__label fitted sk-toggleable__label-arrow fitted\">&nbsp;TfidfVectorizer<a class=\"sk-estimator-doc-link fitted\" rel=\"noreferrer\" target=\"_blank\" href=\"https://scikit-learn.org/1.4/modules/generated/sklearn.feature_extraction.text.TfidfVectorizer.html\">?<span>Documentation for TfidfVectorizer</span></a></label><div class=\"sk-toggleable__content fitted\"><pre>TfidfVectorizer(max_df=0.4,\n",
       "                stop_words=[&#x27;и&#x27;, &#x27;в&#x27;, &#x27;во&#x27;, &#x27;не&#x27;, &#x27;что&#x27;, &#x27;он&#x27;, &#x27;на&#x27;, &#x27;я&#x27;, &#x27;с&#x27;,\n",
       "                            &#x27;со&#x27;, &#x27;как&#x27;, &#x27;а&#x27;, &#x27;то&#x27;, &#x27;все&#x27;, &#x27;она&#x27;, &#x27;так&#x27;, &#x27;его&#x27;,\n",
       "                            &#x27;но&#x27;, &#x27;да&#x27;, &#x27;ты&#x27;, &#x27;к&#x27;, &#x27;у&#x27;, &#x27;же&#x27;, &#x27;вы&#x27;, &#x27;за&#x27;, &#x27;бы&#x27;,\n",
       "                            &#x27;по&#x27;, &#x27;только&#x27;, &#x27;ее&#x27;, &#x27;мне&#x27;, ...])</pre></div> </div></div><div class=\"sk-item\"><div class=\"sk-estimator fitted sk-toggleable\"><input class=\"sk-toggleable__control sk-hidden--visually\" id=\"sk-estimator-id-3\" type=\"checkbox\" ><label for=\"sk-estimator-id-3\" class=\"sk-toggleable__label fitted sk-toggleable__label-arrow fitted\">&nbsp;ComplementNB<a class=\"sk-estimator-doc-link fitted\" rel=\"noreferrer\" target=\"_blank\" href=\"https://scikit-learn.org/1.4/modules/generated/sklearn.naive_bayes.ComplementNB.html\">?<span>Documentation for ComplementNB</span></a></label><div class=\"sk-toggleable__content fitted\"><pre>ComplementNB(alpha=0.25)</pre></div> </div></div></div></div></div></div>"
      ],
      "text/plain": [
       "Pipeline(steps=[('tfidf',\n",
       "                 TfidfVectorizer(max_df=0.4,\n",
       "                                 stop_words=['и', 'в', 'во', 'не', 'что', 'он',\n",
       "                                             'на', 'я', 'с', 'со', 'как', 'а',\n",
       "                                             'то', 'все', 'она', 'так', 'его',\n",
       "                                             'но', 'да', 'ты', 'к', 'у', 'же',\n",
       "                                             'вы', 'за', 'бы', 'по', 'только',\n",
       "                                             'ее', 'мне', ...])),\n",
       "                ('model', ComplementNB(alpha=0.25))])"
      ]
     },
     "execution_count": 33,
     "metadata": {},
     "output_type": "execute_result"
    }
   ],
   "source": [
    "from sklearn.feature_extraction.text import TfidfVectorizer\n",
    "from sklearn.preprocessing import MaxAbsScaler\n",
    "from sklearn.linear_model import LogisticRegression\n",
    "from sklearn.metrics import classification_report\n",
    "\n",
    "# MultinomialNB, ComplementNB,\n",
    "model = Pipeline([\n",
    "        ('tfidf', TfidfVectorizer(max_df=0.4, stop_words=russian_stopwords)),\n",
    "        ('model', ComplementNB(alpha=0.25)),\n",
    "])\n",
    "model.fit(X_train.tolist(), y_train)"
   ]
  },
  {
   "cell_type": "code",
   "execution_count": null,
   "id": "440b187a",
   "metadata": {},
   "outputs": [
    {
     "data": {
      "text/plain": [
       "(0.9854174431606411, 0.9855065471668621)"
      ]
     },
     "execution_count": 34,
     "metadata": {},
     "output_type": "execute_result"
    }
   ],
   "source": [
    "from sklearn.metrics import accuracy_score, f1_score\n",
    "y_pred = model.predict(X_train)\n",
    "accuracy_score(y_pred, y_train), f1_score(y_pred, y_train, average='macro')"
   ]
  },
  {
   "cell_type": "code",
   "execution_count": null,
   "id": "206395cf",
   "metadata": {},
   "outputs": [
    {
     "data": {
      "text/plain": [
       "(0.8630328441649197, 0.8625475760087511)"
      ]
     },
     "execution_count": 35,
     "metadata": {},
     "output_type": "execute_result"
    }
   ],
   "source": [
    "y_pred = model.predict(X_val)\n",
    "accuracy_score(y_pred, y_val), f1_score(y_pred, y_val, average='macro')"
   ]
  },
  {
   "cell_type": "code",
   "execution_count": null,
   "id": "a29a4d45",
   "metadata": {
    "papermill": {
     "duration": 0.005493,
     "end_time": "2024-01-08T14:56:16.088863",
     "exception": false,
     "start_time": "2024-01-08T14:56:16.083370",
     "status": "completed"
    },
    "tags": []
   },
   "outputs": [
    {
     "data": {
      "text/plain": [
       "(0.8698812019566736, 0.8691102539115131)"
      ]
     },
     "execution_count": 36,
     "metadata": {},
     "output_type": "execute_result"
    }
   ],
   "source": [
    "y_pred = model.predict(X_test)\n",
    "accuracy_score(y_pred, y_test), f1_score(y_pred, y_test, average='macro')"
   ]
  },
  {
   "cell_type": "code",
   "execution_count": null,
   "id": "67209987",
   "metadata": {},
   "outputs": [
    {
     "name": "stdout",
     "output_type": "stream",
     "text": [
      "              precision    recall  f1-score   support\n",
      "\n",
      "           0       0.89      0.83      0.86       561\n",
      "           1       0.89      0.89      0.89       604\n",
      "           2       0.90      0.92      0.91       478\n",
      "           3       0.97      0.82      0.89       597\n",
      "           4       0.80      0.87      0.83       501\n",
      "           5       0.74      0.76      0.75       532\n",
      "           6       0.80      0.89      0.84       497\n",
      "           7       0.88      0.87      0.87       585\n",
      "           8       0.80      0.89      0.84       518\n",
      "           9       0.90      0.88      0.89       558\n",
      "          10       0.97      0.92      0.95       619\n",
      "          11       0.89      0.88      0.88       561\n",
      "          12       0.89      0.89      0.89       544\n",
      "\n",
      "    accuracy                           0.87      7155\n",
      "   macro avg       0.87      0.87      0.87      7155\n",
      "weighted avg       0.87      0.87      0.87      7155\n",
      "\n"
     ]
    }
   ],
   "source": [
    "print(classification_report(y_pred, y_test, zero_division=0))"
   ]
  },
  {
   "cell_type": "code",
   "execution_count": null,
   "id": "cc141e65",
   "metadata": {},
   "outputs": [
    {
     "data": {
      "image/png": "[encoded data removed]",
      "text/plain": [
       "<Figure size 640x480 with 2 Axes>"
      ]
     },
     "metadata": {},
     "output_type": "display_data"
    }
   ],
   "source": [
    "from sklearn.metrics import confusion_matrix\n",
    "\n",
    "sns.heatmap(confusion_matrix(y_pred, y_test), annot=True, fmt='.0f')\n",
    "plt.show()"
   ]
  },
  {
   "cell_type": "code",
   "execution_count": null,
   "id": "af94d5b9",
   "metadata": {},
   "outputs": [],
   "source": [
    "# evaluate metric look like\n",
    "def score(true, pred, n_samples):\n",
    "    counter = 0\n",
    "    if true == pred:\n",
    "        counter += 1\n",
    "    else:\n",
    "        counter -= 1\n",
    "    return counter / n_samples"
   ]
  },
  {
   "cell_type": "code",
   "execution_count": null,
   "id": "b3f463d7",
   "metadata": {},
   "outputs": [
    {
     "data": {
      "text/plain": [
       "0.7397624039133472"
      ]
     },
     "execution_count": 40,
     "metadata": {},
     "output_type": "execute_result"
    }
   ],
   "source": [
    "y_pred = model.predict(X_test)\n",
    "sum([score(it, ip, len(y_test)) for it, ip in zip(y_test, y_pred)])"
   ]
  },
  {
   "cell_type": "code",
   "execution_count": null,
   "id": "e8bb858d",
   "metadata": {},
   "outputs": [],
   "source": []
  }
 ],
 "metadata": {
  "kaggle": {
   "accelerator": "none",
   "dataSources": [
    {
     "datasetId": 4277350,
     "sourceId": 7363351,
     "sourceType": "datasetVersion"
    }
   ],
   "dockerImageVersionId": 30626,
   "isGpuEnabled": false,
   "isInternetEnabled": true,
   "language": "python",
   "sourceType": "notebook"
  },
  "kernelspec": {
   "display_name": "Python 3",
   "language": "python",
   "name": "python3"
  },
  "language_info": {
   "codemirror_mode": {
    "name": "ipython",
    "version": 3
   },
   "file_extension": ".py",
   "mimetype": "text/x-python",
   "name": "python",
   "nbconvert_exporter": "python",
   "pygments_lexer": "ipython3",
   "version": "3.12.2"
  },
  "papermill": {
   "default_parameters": {},
   "duration": 182.626429,
   "end_time": "2024-01-08T14:56:18.917818",
   "environment_variables": {},
   "exception": null,
   "input_path": "__notebook__.ipynb",
   "output_path": "__notebook__.ipynb",
   "parameters": {},
   "start_time": "2024-01-08T14:53:16.291389",
   "version": "2.4.0"
  }
 },
 "nbformat": 4,
 "nbformat_minor": 5
}
