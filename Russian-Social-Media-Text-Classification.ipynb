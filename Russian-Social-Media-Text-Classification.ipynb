{
 "cells": [
  {
   "cell_type": "code",
   "execution_count": 1,
   "id": "20b0b6ca",
   "metadata": {},
   "outputs": [],
   "source": [
    "from sklearn.naive_bayes import MultinomialNB\n",
    "from sklearn.linear_model import LogisticRegression, SGDClassifier\n",
    "from sklearn.ensemble import (\n",
    "    RandomForestClassifier, GradientBoostingClassifier, ExtraTreesClassifier\n",
    ")\n",
    "from sklearn.neighbors import KNeighborsClassifier\n",
    "from sklearn.svm import SVC\n",
    "\n",
    "from sklearn.preprocessing import LabelEncoder\n",
    "from sklearn.feature_extraction.text import TfidfVectorizer\n",
    "from sklearn.pipeline import Pipeline\n",
    "from sklearn.metrics import accuracy_score\n",
    "from sklearn.model_selection import train_test_split\n",
    "\n",
    "import numpy as np\n",
    "import pandas as pd\n",
    "\n",
    "import matplotlib.pyplot as plt\n",
    "import seaborn as sns\n",
    "\n",
    "import time\n",
    "import re\n",
    "\n",
    "import nltk\n",
    "from nltk.corpus import stopwords"
   ]
  },
  {
   "cell_type": "code",
   "execution_count": 2,
   "id": "008e01c9",
   "metadata": {},
   "outputs": [],
   "source": [
    "import ssl\n",
    "ssl._create_default_https_context = ssl._create_unverified_context"
   ]
  },
  {
   "cell_type": "markdown",
   "id": "291282d5",
   "metadata": {},
   "source": [
    "# <hr><p align='center' style='color: #6c89c6;'>Работу выполнил: Таратин Артём ПМ22-1<br> Датасет: [Russian Social Media Text Classification](https://www.kaggle.com/datasets/mikhailma/russian-social-media-text-classification)</p>"
   ]
  },
  {
   "cell_type": "markdown",
   "id": "6ce4ceb5",
   "metadata": {},
   "source": [
    "## <hr>**Глава 1. Основа**"
   ]
  },
  {
   "cell_type": "markdown",
   "id": "9b3cb941",
   "metadata": {},
   "source": [
    "### 1.1 Введение в NLP и классификацию текстов"
   ]
  },
  {
   "cell_type": "code",
   "execution_count": null,
   "id": "7060d417",
   "metadata": {},
   "outputs": [],
   "source": []
  },
  {
   "cell_type": "markdown",
   "id": "6a1f9e7c",
   "metadata": {},
   "source": [
    "### 1.2 Методы векторизации текста"
   ]
  },
  {
   "cell_type": "code",
   "execution_count": null,
   "id": "9b683576",
   "metadata": {},
   "outputs": [],
   "source": []
  },
  {
   "cell_type": "markdown",
   "id": "53be2284",
   "metadata": {},
   "source": [
    "### 1.3 Описание используемых библиотек"
   ]
  },
  {
   "cell_type": "code",
   "execution_count": null,
   "id": "7b8385dd",
   "metadata": {},
   "outputs": [],
   "source": []
  },
  {
   "cell_type": "markdown",
   "id": "e12e0300",
   "metadata": {},
   "source": [
    "## <hr>**Глава 2. Работа с датасетом**"
   ]
  },
  {
   "cell_type": "markdown",
   "id": "e0d5f7e4",
   "metadata": {},
   "source": [
    "### 2.1 Описание Датасета"
   ]
  },
  {
   "cell_type": "markdown",
   "id": "2bc401ad",
   "metadata": {},
   "source": [
    "##### **Оригинал:**\n",
    "VKontakte communities can belong to one of several predefined categories. But even among the sports communities there is a fairly strong division by subject! The same authors can write about only one sport or at once about a large number. Based on a given set of posts, determine the topic – what kind of sport is being discussed in the selected community?\n",
    "\n",
    "##### **Перевод:**\n",
    "Сообщества ВКонтакте могут относиться к одной из нескольких предопределенных категорий. Но даже среди спортивных сообществ существует довольно строгое разделение по тематике! Одни и те же авторы могут писать только об одном виде спорта или сразу о большом количестве. Основываясь на заданном наборе постов, определите тему – какой вид спорта обсуждается в выбранном сообществе?\n",
    "\n",
    "##### **Список доступных категорий (13):**\n",
    "* athletics – легкая атлетика,\n",
    "* autosport – автоспорт,\n",
    "* basketball – баскетбол,\n",
    "* boardgames – настольные игры,\n",
    "* esport – киберспорт,\n",
    "* extreme – экстрим,\n",
    "* football – футбол,\n",
    "* hockey – хоккей,\n",
    "* martial_arts – боевые искусства,\n",
    "* motosport – автоспорт,\n",
    "* tennis – теннис,\n",
    "* volleyball – волейбол,\n",
    "* winter_sport – зимний спорт\n",
    "\n",
    "##### **Функция потерь выглядит так:**\n",
    "```python\n",
    "def score(true, pred, n_samples):\n",
    "    counter = 0\n",
    "    if true == pred:\n",
    "        counter += 1\n",
    "    else:\n",
    "        counter -= 1\n",
    "    return counter / n_samples\n",
    "```"
   ]
  },
  {
   "cell_type": "markdown",
   "id": "f0520c1e",
   "metadata": {},
   "source": [
    "#### 2.2 Анализ, Предобработка данных и вывод основных характеристик"
   ]
  },
  {
   "cell_type": "markdown",
   "id": "4fef0c79",
   "metadata": {},
   "source": [
    "Считываем данные и выводим первые 5 строк"
   ]
  },
  {
   "cell_type": "code",
   "execution_count": 3,
   "id": "d2067bf0",
   "metadata": {
    "_cell_guid": "b1076dfc-b9ad-4769-8c92-a6c4dae69d19",
    "_uuid": "8f2839f25d086af736a60e9eeb907d3b93b6e0e5",
    "execution": {
     "iopub.execute_input": "2024-01-08T14:53:19.680273Z",
     "iopub.status.busy": "2024-01-08T14:53:19.679494Z",
     "iopub.status.idle": "2024-01-08T14:53:28.308846Z",
     "shell.execute_reply": "2024-01-08T14:53:28.307902Z"
    },
    "papermill": {
     "duration": 8.638962,
     "end_time": "2024-01-08T14:53:28.311364",
     "exception": false,
     "start_time": "2024-01-08T14:53:19.672402",
     "status": "completed"
    },
    "tags": []
   },
   "outputs": [
    {
     "data": {
      "text/html": [
       "<div>\n",
       "<style scoped>\n",
       "    .dataframe tbody tr th:only-of-type {\n",
       "        vertical-align: middle;\n",
       "    }\n",
       "\n",
       "    .dataframe tbody tr th {\n",
       "        vertical-align: top;\n",
       "    }\n",
       "\n",
       "    .dataframe thead th {\n",
       "        text-align: right;\n",
       "    }\n",
       "</style>\n",
       "<table border=\"1\" class=\"dataframe\">\n",
       "  <thead>\n",
       "    <tr style=\"text-align: right;\">\n",
       "      <th></th>\n",
       "      <th>oid</th>\n",
       "      <th>category</th>\n",
       "      <th>text</th>\n",
       "    </tr>\n",
       "  </thead>\n",
       "  <tbody>\n",
       "    <tr>\n",
       "      <th>0</th>\n",
       "      <td>365271984</td>\n",
       "      <td>winter_sport</td>\n",
       "      <td>Волшебные фото Виктория Поплавская ЕвгенияМедв...</td>\n",
       "    </tr>\n",
       "    <tr>\n",
       "      <th>1</th>\n",
       "      <td>503385563</td>\n",
       "      <td>extreme</td>\n",
       "      <td>Возвращение в подземелье Треша 33 Эйфория тупо...</td>\n",
       "    </tr>\n",
       "    <tr>\n",
       "      <th>2</th>\n",
       "      <td>146016084</td>\n",
       "      <td>football</td>\n",
       "      <td>Лучшие чешские вратари – Доминик Доминатор Гаш...</td>\n",
       "    </tr>\n",
       "    <tr>\n",
       "      <th>3</th>\n",
       "      <td>933865449</td>\n",
       "      <td>boardgames</td>\n",
       "      <td>Rtokenoid Warhammer40k валрак решил нас подкор...</td>\n",
       "    </tr>\n",
       "    <tr>\n",
       "      <th>4</th>\n",
       "      <td>713550145</td>\n",
       "      <td>hockey</td>\n",
       "      <td>Шестеркин затаскивает Рейнджерс в финал Восточ...</td>\n",
       "    </tr>\n",
       "  </tbody>\n",
       "</table>\n",
       "</div>"
      ],
      "text/plain": [
       "         oid      category                                               text\n",
       "0  365271984  winter_sport  Волшебные фото Виктория Поплавская ЕвгенияМедв...\n",
       "1  503385563       extreme  Возвращение в подземелье Треша 33 Эйфория тупо...\n",
       "2  146016084      football  Лучшие чешские вратари – Доминик Доминатор Гаш...\n",
       "3  933865449    boardgames  Rtokenoid Warhammer40k валрак решил нас подкор...\n",
       "4  713550145        hockey  Шестеркин затаскивает Рейнджерс в финал Восточ..."
      ]
     },
     "execution_count": 3,
     "metadata": {},
     "output_type": "execute_result"
    }
   ],
   "source": [
    "data = pd.read_csv('./train.csv')\n",
    "data.head()"
   ]
  },
  {
   "cell_type": "code",
   "execution_count": 4,
   "id": "5e794243",
   "metadata": {},
   "outputs": [
    {
     "data": {
      "text/plain": [
       "((38740, 3), 13)"
      ]
     },
     "execution_count": 4,
     "metadata": {},
     "output_type": "execute_result"
    }
   ],
   "source": [
    "data.shape, data.category.unique().size"
   ]
  },
  {
   "cell_type": "code",
   "execution_count": 5,
   "id": "3286134e",
   "metadata": {},
   "outputs": [
    {
     "data": {
      "text/plain": [
       "array(['winter_sport', 'extreme', 'football', 'boardgames', 'hockey',\n",
       "       'esport', 'athletics', 'motosport', 'basketball', 'tennis',\n",
       "       'autosport', 'martial_arts', 'volleyball'], dtype=object)"
      ]
     },
     "execution_count": 5,
     "metadata": {},
     "output_type": "execute_result"
    }
   ],
   "source": [
    "data.category.unique()"
   ]
  },
  {
   "cell_type": "code",
   "execution_count": 6,
   "id": "fd2b1eba",
   "metadata": {},
   "outputs": [
    {
     "data": {
      "text/plain": [
       "oid          int64\n",
       "category    object\n",
       "text        object\n",
       "dtype: object"
      ]
     },
     "execution_count": 6,
     "metadata": {},
     "output_type": "execute_result"
    }
   ],
   "source": [
    "data.dtypes"
   ]
  },
  {
   "cell_type": "code",
   "execution_count": 7,
   "id": "de88fccc",
   "metadata": {},
   "outputs": [
    {
     "data": {
      "text/plain": [
       "oid         0\n",
       "category    0\n",
       "text        0\n",
       "dtype: int64"
      ]
     },
     "execution_count": 7,
     "metadata": {},
     "output_type": "execute_result"
    }
   ],
   "source": [
    "data.isna().sum()"
   ]
  },
  {
   "cell_type": "markdown",
   "id": "45c94045",
   "metadata": {},
   "source": [
    "Ненужных столбцов нету, также как и выбросов"
   ]
  },
  {
   "cell_type": "code",
   "execution_count": 8,
   "id": "7a31be23",
   "metadata": {},
   "outputs": [
    {
     "data": {
      "text/plain": [
       "2966"
      ]
     },
     "execution_count": 8,
     "metadata": {},
     "output_type": "execute_result"
    }
   ],
   "source": [
    "data.duplicated('text').sum()"
   ]
  },
  {
   "cell_type": "markdown",
   "id": "ff5ba11c",
   "metadata": {},
   "source": [
    "Но в то же время присутствуют дубликаты, которые лучше убрать, либо оставить первый"
   ]
  },
  {
   "cell_type": "code",
   "execution_count": 9,
   "id": "d3e050ee",
   "metadata": {},
   "outputs": [
    {
     "data": {
      "text/plain": [
       "0"
      ]
     },
     "execution_count": 9,
     "metadata": {},
     "output_type": "execute_result"
    }
   ],
   "source": [
    "data.drop_duplicates('text', inplace=True, keep='first')\n",
    "data.duplicated('text').sum()"
   ]
  },
  {
   "cell_type": "markdown",
   "id": "14d8350f",
   "metadata": {},
   "source": [
    "Используем `LabelEncoder()` для предобразования целевого столбца"
   ]
  },
  {
   "cell_type": "code",
   "execution_count": 10,
   "id": "b531ae8c",
   "metadata": {},
   "outputs": [
    {
     "data": {
      "text/html": [
       "<div>\n",
       "<style scoped>\n",
       "    .dataframe tbody tr th:only-of-type {\n",
       "        vertical-align: middle;\n",
       "    }\n",
       "\n",
       "    .dataframe tbody tr th {\n",
       "        vertical-align: top;\n",
       "    }\n",
       "\n",
       "    .dataframe thead th {\n",
       "        text-align: right;\n",
       "    }\n",
       "</style>\n",
       "<table border=\"1\" class=\"dataframe\">\n",
       "  <thead>\n",
       "    <tr style=\"text-align: right;\">\n",
       "      <th></th>\n",
       "      <th>oid</th>\n",
       "      <th>category</th>\n",
       "      <th>text</th>\n",
       "      <th>category_le</th>\n",
       "    </tr>\n",
       "  </thead>\n",
       "  <tbody>\n",
       "    <tr>\n",
       "      <th>0</th>\n",
       "      <td>365271984</td>\n",
       "      <td>winter_sport</td>\n",
       "      <td>Волшебные фото Виктория Поплавская ЕвгенияМедв...</td>\n",
       "      <td>12</td>\n",
       "    </tr>\n",
       "    <tr>\n",
       "      <th>1</th>\n",
       "      <td>503385563</td>\n",
       "      <td>extreme</td>\n",
       "      <td>Возвращение в подземелье Треша 33 Эйфория тупо...</td>\n",
       "      <td>5</td>\n",
       "    </tr>\n",
       "    <tr>\n",
       "      <th>2</th>\n",
       "      <td>146016084</td>\n",
       "      <td>football</td>\n",
       "      <td>Лучшие чешские вратари – Доминик Доминатор Гаш...</td>\n",
       "      <td>6</td>\n",
       "    </tr>\n",
       "    <tr>\n",
       "      <th>3</th>\n",
       "      <td>933865449</td>\n",
       "      <td>boardgames</td>\n",
       "      <td>Rtokenoid Warhammer40k валрак решил нас подкор...</td>\n",
       "      <td>3</td>\n",
       "    </tr>\n",
       "    <tr>\n",
       "      <th>4</th>\n",
       "      <td>713550145</td>\n",
       "      <td>hockey</td>\n",
       "      <td>Шестеркин затаскивает Рейнджерс в финал Восточ...</td>\n",
       "      <td>7</td>\n",
       "    </tr>\n",
       "  </tbody>\n",
       "</table>\n",
       "</div>"
      ],
      "text/plain": [
       "         oid      category                                               text  \\\n",
       "0  365271984  winter_sport  Волшебные фото Виктория Поплавская ЕвгенияМедв...   \n",
       "1  503385563       extreme  Возвращение в подземелье Треша 33 Эйфория тупо...   \n",
       "2  146016084      football  Лучшие чешские вратари – Доминик Доминатор Гаш...   \n",
       "3  933865449    boardgames  Rtokenoid Warhammer40k валрак решил нас подкор...   \n",
       "4  713550145        hockey  Шестеркин затаскивает Рейнджерс в финал Восточ...   \n",
       "\n",
       "   category_le  \n",
       "0           12  \n",
       "1            5  \n",
       "2            6  \n",
       "3            3  \n",
       "4            7  "
      ]
     },
     "execution_count": 10,
     "metadata": {},
     "output_type": "execute_result"
    }
   ],
   "source": [
    "le = LabelEncoder()\n",
    "data['category_le'] = le.fit_transform(data.category)\n",
    "data.head()"
   ]
  },
  {
   "cell_type": "markdown",
   "id": "3b8e7406",
   "metadata": {},
   "source": [
    "Теперь выведем распределение классов и укажем количество их использований"
   ]
  },
  {
   "cell_type": "code",
   "execution_count": 11,
   "id": "27d54c08",
   "metadata": {},
   "outputs": [
    {
     "data": {
      "image/png": "[encoded data removed]",
      "text/plain": [
       "<Figure size 640x480 with 1 Axes>"
      ]
     },
     "metadata": {},
     "output_type": "display_data"
    }
   ],
   "source": [
    "sr = data.groupby('category').text.count()\n",
    "ix = np.argsort(sr)[::-1]\n",
    "xp, yp = np.array(sr)[ix], np.array(sr.index)[ix]\n",
    "\n",
    "ax = sns.barplot(x=xp, y=yp, orient='h')\n",
    "for i, (value, category) in enumerate(zip(xp, yp)):\n",
    "    ax.text(value+5, i, f'{value}', va='center', fontweight='bold')  \n",
    "\n",
    "ax.set_xlabel('Количество', fontsize=14, fontweight='bold')\n",
    "ax.set_ylabel('Категория', fontsize=14, fontweight='bold')\n",
    "ax.set_title('Количество Текстов по Категориям', fontsize=16, fontweight='bold')\n",
    "ax.set_xticks(np.arange(0, 3001, 250))\n",
    "\n",
    "plt.show()"
   ]
  },
  {
   "cell_type": "markdown",
   "id": "fc72eba2",
   "metadata": {},
   "source": [
    "Как мы видим, распределение категорий довольно близко к равномерному. В таком случае можно использовать метрику `accuracy_score()` т.к. даже при выборе самого популярного класса точность будет достаточно низкой. Также не стоит забывать про метрику `score()`, предложенную создателями датасета. В любом случае, по своему механизму работы она похожа на `accuracy_score()`, так что мы ничего не теряем. Теперь посмотрим на самые популярные и менее популярные слова в текстах."
   ]
  },
  {
   "cell_type": "code",
   "execution_count": 12,
   "id": "9f90f9d5",
   "metadata": {},
   "outputs": [
    {
     "data": {
      "text/html": [
       "<div>\n",
       "<style scoped>\n",
       "    .dataframe tbody tr th:only-of-type {\n",
       "        vertical-align: middle;\n",
       "    }\n",
       "\n",
       "    .dataframe tbody tr th {\n",
       "        vertical-align: top;\n",
       "    }\n",
       "\n",
       "    .dataframe thead th {\n",
       "        text-align: right;\n",
       "    }\n",
       "</style>\n",
       "<table border=\"1\" class=\"dataframe\">\n",
       "  <thead>\n",
       "    <tr style=\"text-align: right;\">\n",
       "      <th></th>\n",
       "      <th>word</th>\n",
       "      <th>count</th>\n",
       "      <th>word</th>\n",
       "      <th>count</th>\n",
       "    </tr>\n",
       "  </thead>\n",
       "  <tbody>\n",
       "    <tr>\n",
       "      <th>0</th>\n",
       "      <td>на</td>\n",
       "      <td>39638</td>\n",
       "      <td>манипулировал</td>\n",
       "      <td>1</td>\n",
       "    </tr>\n",
       "    <tr>\n",
       "      <th>1</th>\n",
       "      <td>не</td>\n",
       "      <td>23635</td>\n",
       "      <td>мансабын</td>\n",
       "      <td>1</td>\n",
       "    </tr>\n",
       "    <tr>\n",
       "      <th>2</th>\n",
       "      <td>что</td>\n",
       "      <td>19917</td>\n",
       "      <td>мансап</td>\n",
       "      <td>1</td>\n",
       "    </tr>\n",
       "    <tr>\n",
       "      <th>3</th>\n",
       "      <td>33</td>\n",
       "      <td>19756</td>\n",
       "      <td>манфорд</td>\n",
       "      <td>1</td>\n",
       "    </tr>\n",
       "    <tr>\n",
       "      <th>4</th>\n",
       "      <td>по</td>\n",
       "      <td>14054</td>\n",
       "      <td>манси</td>\n",
       "      <td>1</td>\n",
       "    </tr>\n",
       "    <tr>\n",
       "      <th>5</th>\n",
       "      <td>за</td>\n",
       "      <td>11337</td>\n",
       "      <td>мануэля</td>\n",
       "      <td>1</td>\n",
       "    </tr>\n",
       "    <tr>\n",
       "      <th>6</th>\n",
       "      <td>это</td>\n",
       "      <td>10827</td>\n",
       "      <td>мануэлю</td>\n",
       "      <td>1</td>\n",
       "    </tr>\n",
       "    <tr>\n",
       "      <th>7</th>\n",
       "      <td>для</td>\n",
       "      <td>9919</td>\n",
       "      <td>мануэла</td>\n",
       "      <td>1</td>\n",
       "    </tr>\n",
       "    <tr>\n",
       "      <th>8</th>\n",
       "      <td>из</td>\n",
       "      <td>9508</td>\n",
       "      <td>мануальный</td>\n",
       "      <td>1</td>\n",
       "    </tr>\n",
       "    <tr>\n",
       "      <th>9</th>\n",
       "      <td>но</td>\n",
       "      <td>9212</td>\n",
       "      <td>мануалы</td>\n",
       "      <td>1</td>\n",
       "    </tr>\n",
       "    <tr>\n",
       "      <th>10</th>\n",
       "      <td>как</td>\n",
       "      <td>8540</td>\n",
       "      <td>мануала</td>\n",
       "      <td>1</td>\n",
       "    </tr>\n",
       "    <tr>\n",
       "      <th>11</th>\n",
       "      <td>мы</td>\n",
       "      <td>7755</td>\n",
       "      <td>мантуана</td>\n",
       "      <td>1</td>\n",
       "    </tr>\n",
       "    <tr>\n",
       "      <th>12</th>\n",
       "      <td>все</td>\n",
       "      <td>7677</td>\n",
       "      <td>мантуан</td>\n",
       "      <td>1</td>\n",
       "    </tr>\n",
       "    <tr>\n",
       "      <th>13</th>\n",
       "      <td>он</td>\n",
       "      <td>7371</td>\n",
       "      <td>мантикору</td>\n",
       "      <td>1</td>\n",
       "    </tr>\n",
       "    <tr>\n",
       "      <th>14</th>\n",
       "      <td>от</td>\n",
       "      <td>6381</td>\n",
       "      <td>мантикора</td>\n",
       "      <td>1</td>\n",
       "    </tr>\n",
       "    <tr>\n",
       "      <th>15</th>\n",
       "      <td>то</td>\n",
       "      <td>6172</td>\n",
       "      <td>мантика</td>\n",
       "      <td>1</td>\n",
       "    </tr>\n",
       "    <tr>\n",
       "      <th>16</th>\n",
       "      <td>до</td>\n",
       "      <td>5168</td>\n",
       "      <td>мансуровичем</td>\n",
       "      <td>1</td>\n",
       "    </tr>\n",
       "    <tr>\n",
       "      <th>17</th>\n",
       "      <td>будет</td>\n",
       "      <td>4750</td>\n",
       "      <td>мансурович</td>\n",
       "      <td>1</td>\n",
       "    </tr>\n",
       "    <tr>\n",
       "      <th>18</th>\n",
       "      <td>его</td>\n",
       "      <td>4666</td>\n",
       "      <td>мансуров</td>\n",
       "      <td>1</td>\n",
       "    </tr>\n",
       "    <tr>\n",
       "      <th>19</th>\n",
       "      <td>так</td>\n",
       "      <td>4493</td>\n",
       "      <td>мансури</td>\n",
       "      <td>1</td>\n",
       "    </tr>\n",
       "    <tr>\n",
       "      <th>20</th>\n",
       "      <td>после</td>\n",
       "      <td>4167</td>\n",
       "      <td>мансур</td>\n",
       "      <td>1</td>\n",
       "    </tr>\n",
       "    <tr>\n",
       "      <th>21</th>\n",
       "      <td>вы</td>\n",
       "      <td>4156</td>\n",
       "      <td>мансолдо</td>\n",
       "      <td>1</td>\n",
       "    </tr>\n",
       "    <tr>\n",
       "      <th>22</th>\n",
       "      <td>2022</td>\n",
       "      <td>4150</td>\n",
       "      <td>мансийским</td>\n",
       "      <td>1</td>\n",
       "    </tr>\n",
       "    <tr>\n",
       "      <th>23</th>\n",
       "      <td>tokentokenoid</td>\n",
       "      <td>4144</td>\n",
       "      <td>мансийский</td>\n",
       "      <td>1</td>\n",
       "    </tr>\n",
       "    <tr>\n",
       "      <th>24</th>\n",
       "      <td>если</td>\n",
       "      <td>4101</td>\n",
       "      <td>龍王</td>\n",
       "      <td>1</td>\n",
       "    </tr>\n",
       "  </tbody>\n",
       "</table>\n",
       "</div>"
      ],
      "text/plain": [
       "             word  count           word  count\n",
       "0              на  39638  манипулировал      1\n",
       "1              не  23635       мансабын      1\n",
       "2             что  19917         мансап      1\n",
       "3              33  19756        манфорд      1\n",
       "4              по  14054          манси      1\n",
       "5              за  11337        мануэля      1\n",
       "6             это  10827        мануэлю      1\n",
       "7             для   9919        мануэла      1\n",
       "8              из   9508     мануальный      1\n",
       "9              но   9212        мануалы      1\n",
       "10            как   8540        мануала      1\n",
       "11             мы   7755       мантуана      1\n",
       "12            все   7677        мантуан      1\n",
       "13             он   7371      мантикору      1\n",
       "14             от   6381      мантикора      1\n",
       "15             то   6172        мантика      1\n",
       "16             до   5168   мансуровичем      1\n",
       "17          будет   4750     мансурович      1\n",
       "18            его   4666       мансуров      1\n",
       "19            так   4493        мансури      1\n",
       "20          после   4167         мансур      1\n",
       "21             вы   4156       мансолдо      1\n",
       "22           2022   4150     мансийским      1\n",
       "23  tokentokenoid   4144     мансийский      1\n",
       "24           если   4101             龍王      1"
      ]
     },
     "execution_count": 12,
     "metadata": {},
     "output_type": "execute_result"
    }
   ],
   "source": [
    "word_list = re.findall(r'\\b\\w{2,}\\b', ' '.join(data.text.to_numpy()).lower())\n",
    "df = pd.DataFrame(word_list, columns=['word']).groupby('word').size()\n",
    "df = df.reset_index(name='count').sort_values('count', ascending=False)\n",
    "pd.concat([df.head(25).reset_index(drop=True), df.tail(25).reset_index(drop=True)], axis=1)"
   ]
  },
  {
   "cell_type": "markdown",
   "id": "8df66381",
   "metadata": {},
   "source": [
    "Одними из самых популярных оказались предлоги, в то же время в датасете присутствуют слова, употреблённые всего лишь 1 раз. Обе категории слов не влияют на качество классификации, т.к. либо присутствуют в большинстве классов, либо только в одном. Они являются шумом, и их можно удалить."
   ]
  },
  {
   "cell_type": "code",
   "execution_count": 13,
   "id": "ba514498",
   "metadata": {},
   "outputs": [
    {
     "data": {
      "image/png": "[encoded data removed]",
      "text/plain": [
       "<Figure size 640x480 with 1 Axes>"
      ]
     },
     "metadata": {},
     "output_type": "display_data"
    }
   ],
   "source": [
    "sns.histplot(np.log2(df['count']), bins=10)\n",
    "plt.xticks(np.arange(0, 16, 1))\n",
    "\n",
    "plt.title('Распределение Слов по Частоте Употребления', fontsize=14, fontweight='bold')\n",
    "plt.xlabel('Логарифм количества употреблений слов (X)', fontsize=14, fontweight='bold')\n",
    "plt.ylabel('Количество слов употреблёных 2^X раз', fontsize=14, fontweight='bold')\n",
    "\n",
    "plt.show()"
   ]
  },
  {
   "cell_type": "markdown",
   "id": "55e17edb",
   "metadata": {},
   "source": [
    "Большинство слов используются всего 1-4 раз, что в теории может оказать негативный эффект. Теперь поделим данные на тренировочную, валидационную и тестовую выборки."
   ]
  },
  {
   "cell_type": "code",
   "execution_count": 14,
   "id": "45483850",
   "metadata": {},
   "outputs": [],
   "source": [
    "X, y = data.text.to_numpy(), data.category_le.to_numpy()\n",
    "X_train, X_test_val, y_train, y_test_val = train_test_split(X, y, test_size=0.4, stratify=y)\n",
    "X_test, X_val, y_test, y_val = train_test_split(X_test_val, y_test_val, test_size=0.5, stratify=y_test_val)\n",
    "del X_test_val, y_test_val  # удалим эти переменные, чтобы их после случайно не использовать"
   ]
  },
  {
   "cell_type": "markdown",
   "id": "be602474",
   "metadata": {},
   "source": [
    "В дополнение ко всему, нужно исключить слова русского языка, которые не неут никакой смысловой нагрузки. Для этого используем библиотеку `nltk` и `nltk.corpus.stopwords`"
   ]
  },
  {
   "cell_type": "code",
   "execution_count": 15,
   "id": "bd3d0cd8",
   "metadata": {},
   "outputs": [
    {
     "name": "stderr",
     "output_type": "stream",
     "text": [
      "[nltk_data] Downloading package stopwords to /Users/admin/nltk_data...\n",
      "[nltk_data]   Package stopwords is already up-to-date!\n"
     ]
    },
    {
     "data": {
      "text/plain": [
       "['и', 'в', 'во', 'не', 'что', 'он', 'на', 'я', 'с', 'со']"
      ]
     },
     "execution_count": 15,
     "metadata": {},
     "output_type": "execute_result"
    }
   ],
   "source": [
    "nltk.download('stopwords')\n",
    "russian_stopwords = stopwords.words('russian')\n",
    "russian_stopwords[:10]"
   ]
  },
  {
   "cell_type": "markdown",
   "id": "277c15ec",
   "metadata": {},
   "source": [
    "Для векторизации текстов и оценки важности слова в контексте документа я буду использовать статистическую меру `tf-idf`. Для оптимизации работы я не буду напрямую векторизировать признаки, вместо этого я использую `Pipeline()` для построения пайплана обучения модели и последующего его обучения."
   ]
  },
  {
   "cell_type": "code",
   "execution_count": 16,
   "id": "a029f3cd",
   "metadata": {},
   "outputs": [],
   "source": [
    "models = [\n",
    "    LogisticRegression(n_jobs=-1),\n",
    "    MultinomialNB(),\n",
    "    SGDClassifier(n_jobs=-1),\n",
    "    RandomForestClassifier(n_jobs=-1),\n",
    "    ExtraTreesClassifier(n_jobs=-1),\n",
    "    KNeighborsClassifier(n_jobs=-1),\n",
    "    GradientBoostingClassifier(),\n",
    "    SVC(),\n",
    "]"
   ]
  },
  {
   "cell_type": "code",
   "execution_count": null,
   "id": "4895dc65",
   "metadata": {},
   "outputs": [],
   "source": [
    "print(' ' + '_'*49)\n",
    "all_models_scores = []\n",
    "for model in models:\n",
    "        model_name = model.__class__.__name__\n",
    "        print(f'| Модель {model_name:<40} |')\n",
    "        start_time = time.time()\n",
    "        model = Pipeline([\n",
    "                ('tfidf', TfidfVectorizer(max_df=0.4, min_df=5, stop_words=russian_stopwords)),\n",
    "                ('model', model),\n",
    "        ])\n",
    "        model.fit(X_train, y_train)\n",
    "        end_time = time.time()\n",
    "        learning_time = end_time - start_time\n",
    "\n",
    "        y_pred = model.predict(X_val)\n",
    "        score = accuracy_score(y_pred, y_val)\n",
    "        print(f'|   {score=:.4f} {learning_time=:<18.4f} |', end=f'\\n {'_'*49}\\n')\n",
    "\n",
    "        all_models_scores.append({'name': model_name, 'score': score, 'time': learning_time})"
   ]
  },
  {
   "cell_type": "code",
   "execution_count": null,
   "id": "034ae536",
   "metadata": {},
   "outputs": [],
   "source": [
    "models_df = pd.DataFrame(all_models_scores)\n",
    "models_df = models_df.sort_values('score', ascending=False).reset_index(drop=True)\n",
    "models_df"
   ]
  },
  {
   "cell_type": "code",
   "execution_count": null,
   "id": "67bc5244",
   "metadata": {},
   "outputs": [],
   "source": []
  },
  {
   "cell_type": "code",
   "execution_count": null,
   "id": "1b6e9e0e",
   "metadata": {
    "execution": {
     "iopub.execute_input": "2024-01-08T14:53:30.009711Z",
     "iopub.status.busy": "2024-01-08T14:53:30.009303Z",
     "iopub.status.idle": "2024-01-08T14:53:30.022897Z",
     "shell.execute_reply": "2024-01-08T14:53:30.021929Z"
    },
    "papermill": {
     "duration": 0.022669,
     "end_time": "2024-01-08T14:53:30.025382",
     "exception": false,
     "start_time": "2024-01-08T14:53:30.002713",
     "status": "completed"
    },
    "tags": []
   },
   "outputs": [],
   "source": []
  },
  {
   "cell_type": "code",
   "execution_count": null,
   "id": "aa108f0d",
   "metadata": {},
   "outputs": [],
   "source": []
  },
  {
   "cell_type": "code",
   "execution_count": null,
   "id": "8f242b3c",
   "metadata": {},
   "outputs": [],
   "source": [
    "from sklearn.ensemble import AdaBoostClassifier\n",
    "from sklearn.ensemble import BaggingClassifier\n",
    "from sklearn.naive_bayes import BernoulliNB\n",
    "from sklearn.calibration import CalibratedClassifierCV\n",
    "from sklearn.naive_bayes import CategoricalNB\n",
    "from sklearn.multioutput import ClassifierChain\n",
    "from sklearn.naive_bayes import ComplementNB\n",
    "from sklearn.tree import DecisionTreeClassifier\n",
    "from sklearn.dummy import DummyClassifier\n",
    "from sklearn.tree import ExtraTreeClassifier\n",
    "from sklearn.ensemble import ExtraTreesClassifier\n",
    "from sklearn.naive_bayes import GaussianNB\n",
    "from sklearn.gaussian_process import GaussianProcessClassifier\n",
    "from sklearn.ensemble import GradientBoostingClassifier\n",
    "from sklearn.ensemble import HistGradientBoostingClassifier\n",
    "from sklearn.neighbors import KNeighborsClassifier\n",
    "from sklearn.semi_supervised import LabelPropagation\n",
    "from sklearn.semi_supervised import LabelSpreading\n",
    "from sklearn.discriminant_analysis import LinearDiscriminantAnalysis\n",
    "from sklearn.svm import LinearSVC\n",
    "from sklearn.linear_model import LogisticRegression\n",
    "from sklearn.linear_model import LogisticRegressionCV\n",
    "from sklearn.neural_network import MLPClassifier\n",
    "from sklearn.multioutput import MultiOutputClassifier\n",
    "from sklearn.naive_bayes import MultinomialNB\n",
    "from sklearn.neighbors import NearestCentroid\n",
    "from sklearn.svm import NuSVC\n",
    "from sklearn.multiclass import OneVsOneClassifier\n",
    "from sklearn.multiclass import OneVsRestClassifier\n",
    "from sklearn.multiclass import OutputCodeClassifier\n",
    "from sklearn.linear_model import PassiveAggressiveClassifier\n",
    "from sklearn.linear_model import Perceptron\n",
    "from sklearn.discriminant_analysis import QuadraticDiscriminantAnalysis\n",
    "from sklearn.neighbors import RadiusNeighborsClassifier\n",
    "from sklearn.ensemble import RandomForestClassifier\n",
    "from sklearn.linear_model import RidgeClassifier\n",
    "from sklearn.linear_model import RidgeClassifierCV\n",
    "from sklearn.linear_model import SGDClassifier\n",
    "from sklearn.svm import SVC\n",
    "from sklearn.ensemble import StackingClassifier\n",
    "from sklearn.ensemble import VotingClassifier"
   ]
  },
  {
   "cell_type": "code",
   "execution_count": null,
   "id": "d2e37b8a",
   "metadata": {
    "execution": {
     "iopub.execute_input": "2024-01-08T14:53:30.611641Z",
     "iopub.status.busy": "2024-01-08T14:53:30.611029Z",
     "iopub.status.idle": "2024-01-08T14:56:15.997029Z",
     "shell.execute_reply": "2024-01-08T14:56:15.995787Z"
    },
    "papermill": {
     "duration": 165.399904,
     "end_time": "2024-01-08T14:56:16.004404",
     "exception": false,
     "start_time": "2024-01-08T14:53:30.604500",
     "status": "completed"
    },
    "tags": []
   },
   "outputs": [],
   "source": [
    "from sklearn.feature_extraction.text import TfidfVectorizer\n",
    "from sklearn.preprocessing import MaxAbsScaler\n",
    "from sklearn.linear_model import LogisticRegression\n",
    "from sklearn.metrics import classification_report\n",
    "\n",
    "# MultinomialNB, ComplementNB,\n",
    "model = Pipeline([\n",
    "        ('tfidf', TfidfVectorizer(max_df=0.4, stop_words=russian_stopwords)),\n",
    "        ('model', ComplementNB(alpha=0.25)),\n",
    "])\n",
    "model.fit(X_train.tolist(), y_train)"
   ]
  },
  {
   "cell_type": "code",
   "execution_count": null,
   "id": "440b187a",
   "metadata": {},
   "outputs": [],
   "source": [
    "from sklearn.metrics import accuracy_score, f1_score\n",
    "y_pred = model.predict(X_train)\n",
    "accuracy_score(y_pred, y_train), f1_score(y_pred, y_train, average='macro')"
   ]
  },
  {
   "cell_type": "code",
   "execution_count": null,
   "id": "206395cf",
   "metadata": {},
   "outputs": [],
   "source": [
    "y_pred = model.predict(X_val)\n",
    "accuracy_score(y_pred, y_val), f1_score(y_pred, y_val, average='macro')"
   ]
  },
  {
   "cell_type": "code",
   "execution_count": null,
   "id": "a29a4d45",
   "metadata": {
    "papermill": {
     "duration": 0.005493,
     "end_time": "2024-01-08T14:56:16.088863",
     "exception": false,
     "start_time": "2024-01-08T14:56:16.083370",
     "status": "completed"
    },
    "tags": []
   },
   "outputs": [],
   "source": [
    "y_pred = model.predict(X_test)\n",
    "accuracy_score(y_pred, y_test), f1_score(y_pred, y_test, average='macro')"
   ]
  },
  {
   "cell_type": "code",
   "execution_count": null,
   "id": "67209987",
   "metadata": {},
   "outputs": [],
   "source": [
    "print(classification_report(y_pred, y_test, zero_division=0))"
   ]
  },
  {
   "cell_type": "code",
   "execution_count": null,
   "id": "cc141e65",
   "metadata": {},
   "outputs": [],
   "source": [
    "from sklearn.metrics import confusion_matrix\n",
    "\n",
    "sns.heatmap(confusion_matrix(y_pred, y_test), annot=True, fmt='.0f')\n",
    "plt.show()"
   ]
  },
  {
   "cell_type": "code",
   "execution_count": null,
   "id": "af94d5b9",
   "metadata": {},
   "outputs": [],
   "source": [
    "# evaluate metric look like\n",
    "def score(true, pred, n_samples):\n",
    "    counter = 0\n",
    "    if true == pred:\n",
    "        counter += 1\n",
    "    else:\n",
    "        counter -= 1\n",
    "    return counter / n_samples"
   ]
  },
  {
   "cell_type": "code",
   "execution_count": null,
   "id": "b3f463d7",
   "metadata": {},
   "outputs": [],
   "source": [
    "y_pred = model.predict(X_test)\n",
    "sum([score(it, ip, len(y_test)) for it, ip in zip(y_test, y_pred)])"
   ]
  },
  {
   "cell_type": "code",
   "execution_count": null,
   "id": "e8bb858d",
   "metadata": {},
   "outputs": [],
   "source": []
  }
 ],
 "metadata": {
  "kaggle": {
   "accelerator": "none",
   "dataSources": [
    {
     "datasetId": 4277350,
     "sourceId": 7363351,
     "sourceType": "datasetVersion"
    }
   ],
   "dockerImageVersionId": 30626,
   "isGpuEnabled": false,
   "isInternetEnabled": true,
   "language": "python",
   "sourceType": "notebook"
  },
  "kernelspec": {
   "display_name": "Python 3",
   "language": "python",
   "name": "python3"
  },
  "language_info": {
   "codemirror_mode": {
    "name": "ipython",
    "version": 3
   },
   "file_extension": ".py",
   "mimetype": "text/x-python",
   "name": "python",
   "nbconvert_exporter": "python",
   "pygments_lexer": "ipython3",
   "version": "3.12.2"
  },
  "papermill": {
   "default_parameters": {},
   "duration": 182.626429,
   "end_time": "2024-01-08T14:56:18.917818",
   "environment_variables": {},
   "exception": null,
   "input_path": "__notebook__.ipynb",
   "output_path": "__notebook__.ipynb",
   "parameters": {},
   "start_time": "2024-01-08T14:53:16.291389",
   "version": "2.4.0"
  }
 },
 "nbformat": 4,
 "nbformat_minor": 5
}
